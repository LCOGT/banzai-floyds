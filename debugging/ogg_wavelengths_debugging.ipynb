{
 "cells": [
  {
   "cell_type": "code",
   "execution_count": null,
   "id": "097d1fef-4e79-440e-9d9e-4f3b74149704",
   "metadata": {},
   "outputs": [],
   "source": [
    "import os\n",
    "os.environ['OPENTSDB_PYTHON_METRICS_TEST_MODE'] = 'True'\n",
    "import banzai_floyds.frames\n",
    "from banzai_floyds import settings\n",
    "import numpy as np\n",
    "from astropy.io import fits"
   ]
  },
  {
   "cell_type": "code",
   "execution_count": null,
   "id": "171e94bc-6780-4919-90e7-ed812d59f964",
   "metadata": {},
   "outputs": [],
   "source": [
    "os.makedirs('test_data', exist_ok=True)\n",
    "os.environ['DB_ADDRESS'] = 'sqlite:///test_data/test.db'\n",
    "settings.processed_path= os.path.join(os.getcwd(), 'test_data')\n",
    "settings.fpack=True\n",
    "settings.db_address = os.environ['DB_ADDRESS']\n",
    "settings.RAW_DATA_FRAME_URL = f'https://archive-api.lco.global/frames'"
   ]
  },
  {
   "cell_type": "code",
   "execution_count": null,
   "id": "279d782e-55f4-4b9a-a028-c455999877b8",
   "metadata": {},
   "outputs": [],
   "source": [
    "import banzai.main\n",
    "context = banzai.main.parse_args(settings, parse_system_args=False)"
   ]
  },
  {
   "cell_type": "code",
   "execution_count": null,
   "id": "0feb2476-08c4-4479-a82d-18d7e9710c1f",
   "metadata": {},
   "outputs": [],
   "source": [
    "factory = banzai_floyds.frames.FLOYDSFrameFactory()"
   ]
  },
  {
   "cell_type": "code",
   "execution_count": null,
   "id": "cb3f4c95-eeae-4cff-a846-5e348cd3cc45",
   "metadata": {},
   "outputs": [],
   "source": [
    "image = factory.open({'path': os.path.join(os.getcwd(), 'test_data', 'ogg' ,'en06', '20200822', 'processed', 'ogg2m001-en06-20200822-0028-a91.fits.fz')}, context)"
   ]
  },
  {
   "cell_type": "code",
   "execution_count": null,
   "id": "d3bd5ab4-d311-4513-8921-c07bdbfd11c7",
   "metadata": {},
   "outputs": [],
   "source": [
    "image"
   ]
  },
  {
   "cell_type": "code",
   "execution_count": null,
   "id": "d65a7240-e8c0-45c3-be67-3e2da7338393",
   "metadata": {},
   "outputs": [],
   "source": [
    "image.data"
   ]
  },
  {
   "cell_type": "code",
   "execution_count": null,
   "id": "e91e7684-093c-405b-af31-9730b9c89aad",
   "metadata": {},
   "outputs": [],
   "source": [
    "from banzai_floyds.arc_lines import arc_lines_table\n",
    "class foo:\n",
    "    EXTRACTION_HEIGHT = 5\n",
    "    LINES = arc_lines_table()\n",
    "    # All in angstroms, measured by Curtis McCully\n",
    "    # FWHM is , 5 pixels\n",
    "    INITIAL_LINE_WIDTHS = {1: 10, 2: 6}\n",
    "    INITIAL_DISPERSIONS = {1: 3.51, 2: 1.72}\n",
    "    # Tilts in degrees measured counterclockwise (right-handed coordinates)\n",
    "    INITIAL_LINE_TILTS = {1: 8., 2: 8.}\n",
    "    OFFSET_RANGES = {1: np.arange(7200.0, 7700.0, 0.5), 2: np.arange(4300, 4600, 0.5)}\n",
    "    MATCH_THRESHOLDS = {1: 20.0, 2: 10.0}\n",
    "    # In pixels\n",
    "    MIN_LINE_SEPARATIONS = {1: 5.0, 2: 5.0}\n",
    "    FIT_ORDERS = {1: 3, 2: 2}\n",
    "    # Success Metrics\n",
    "    MATCH_SUCCESS_THRESHOLD = 3  # matched lines required to consider solution success\n",
    "\n",
    "self = foo()"
   ]
  },
  {
   "cell_type": "code",
   "execution_count": null,
   "id": "3b9aab09-b33d-4a09-991d-f7e24e68dd27",
   "metadata": {},
   "outputs": [],
   "source": [
    "orders = np.unique(image.orders.data)\n",
    "orders = orders[orders != 0]\n",
    "initial_wavelength_solutions = []"
   ]
  },
  {
   "cell_type": "code",
   "execution_count": null,
   "id": "7d36adbe-4057-4d0c-8753-c5448a76136f",
   "metadata": {},
   "outputs": [],
   "source": [
    "from copy import copy\n",
    "extraction_orders = copy(image.orders)\n",
    "extraction_orders.order_heights = self.EXTRACTION_HEIGHT * np.ones_like(orders)"
   ]
  },
  {
   "cell_type": "code",
   "execution_count": null,
   "id": "2cbca772-7cc9-4740-b9bc-a8bfd1e4dd38",
   "metadata": {},
   "outputs": [],
   "source": [
    "i = 0\n",
    "order = 1"
   ]
  },
  {
   "cell_type": "code",
   "execution_count": null,
   "id": "413df5f7-f1cf-4ff4-9b4b-cf3efc3a1d9a",
   "metadata": {},
   "outputs": [],
   "source": [
    "from banzai_floyds.wavelengths import linear_wavelength_solution\n",
    "from banzai_floyds.utils.order_utils import get_order_2d_region\n",
    "\n",
    "order_region = get_order_2d_region(extraction_orders.data == order)\n",
    "# Note that his flux has an x origin at the x = 0 instead of the domain of the order\n",
    "# I don't think it matters though\n",
    "flux_1d = np.median(image.data[order_region], axis=0)\n",
    "# This 1.2533 is from Rider 1960 DOI: 10.1080/01621459.1960.10482056 and converts the standard error\n",
    "# to error on the median\n",
    "flux_1d_error = 1.2533 * np.median(image.uncertainty[order_region], axis=0)\n",
    "flux_1d_error /= np.sqrt(self.EXTRACTION_HEIGHT)\n",
    "linear_solution = linear_wavelength_solution(flux_1d, flux_1d_error, self.LINES[self.LINES['used']],\n",
    "                                             self.INITIAL_DISPERSIONS[order],\n",
    "                                             self.INITIAL_LINE_WIDTHS[order],\n",
    "                                             self.OFFSET_RANGES[order],\n",
    "                                             domain=image.orders.domains[i])\n"
   ]
  },
  {
   "cell_type": "code",
   "execution_count": null,
   "id": "433596a8-3e89-4297-a8ca-80905f401dfe",
   "metadata": {},
   "outputs": [],
   "source": [
    "linear_solution"
   ]
  },
  {
   "cell_type": "code",
   "execution_count": null,
   "id": "5d34bba5-dfe0-4950-b054-cad8e485fb58",
   "metadata": {},
   "outputs": [],
   "source": [
    "import plotly.express as px\n",
    "import plotly.graph_objects as go"
   ]
  },
  {
   "cell_type": "code",
   "execution_count": null,
   "id": "42c067ef-0dd4-401d-b8c3-54c4b1461e97",
   "metadata": {},
   "outputs": [],
   "source": [
    "def fits_header_to_wavelength(header):\n",
    "    crval = float(header['CRVAL1'])\n",
    "    crpix = float(header['CRPIX1'])\n",
    "    # Convert crpix to be zero indexed\n",
    "    crpix -= 1\n",
    "    if 'CDELT1' in header.keys():\n",
    "        cdelt = float(header['CDELT1'])\n",
    "    else:\n",
    "        cdelt = float(header['CD1_1'])\n",
    "    npix = float(header['NAXIS1'])\n",
    "    lam = np.arange(crval - cdelt * crpix ,\n",
    "                    crval + cdelt * (npix - crpix) - 1e-4,\n",
    "                    cdelt)\n",
    "    return lam"
   ]
  },
  {
   "cell_type": "code",
   "execution_count": null,
   "id": "553a1378-a653-4321-a042-41d8f1ac364c",
   "metadata": {},
   "outputs": [],
   "source": [
    "hdu = fits.open('test_data/ttarc_HD201767_ftn_20200823_red_2.0_59085_1.fits')\n",
    "lam = fits_header_to_wavelength(hdu[0].header)\n",
    "fig = px.line(x=linear_solution(np.arange(flux_1d.size)), y=flux_1d, color_discrete_sequence=['steelblue'])\n",
    "fig.add_trace(go.Scatter(x=lam, y=hdu[0].data[0,:], line_color='coral'))\n",
    "fig.show()"
   ]
  },
  {
   "cell_type": "code",
   "execution_count": null,
   "id": "1c4228da-22d3-41a2-b881-ae132792b40c",
   "metadata": {},
   "outputs": [],
   "source": [
    "from banzai_floyds.wavelengths import identify_peaks\n",
    "peaks = identify_peaks(flux_1d, flux_1d_error,\n",
    "                       self.INITIAL_LINE_WIDTHS[order] / self.INITIAL_DISPERSIONS[order],\n",
    "                       self.MIN_LINE_SEPARATIONS[order], domain=image.orders.domains[i])"
   ]
  },
  {
   "cell_type": "code",
   "execution_count": null,
   "id": "a6d9dd55-9f79-42ee-83ab-974dd6ad01e3",
   "metadata": {},
   "outputs": [],
   "source": [
    "hdu = fits.open('test_data/ttarc_HD201767_ftn_20200823_red_2.0_59085_1.fits')\n",
    "lam = fits_header_to_wavelength(hdu[0].header)\n",
    "fig = px.line(x=np.arange(flux_1d.size), y=flux_1d, color_discrete_sequence=['steelblue'])\n",
    "for peak in peaks:\n",
    "    fig.add_trace(go.Scatter(x=[peak], y=[flux_1d[peak] + 1000] , line_color='black'))\n",
    "fig.show()\n"
   ]
  },
  {
   "cell_type": "code",
   "execution_count": null,
   "id": "0ad1e3bc-4b97-4565-b628-9052500b5812",
   "metadata": {},
   "outputs": [],
   "source": [
    "from banzai_floyds.wavelengths import refine_peak_centers\n",
    "peaks = refine_peak_centers(flux_1d, flux_1d_error, peaks,\n",
    "                            self.INITIAL_LINE_WIDTHS[order] / self.INITIAL_DISPERSIONS[order],\n",
    "                            domain=image.orders.domains[i])"
   ]
  },
  {
   "cell_type": "code",
   "execution_count": null,
   "id": "b52f8cf4-c791-4095-b556-45d33513253b",
   "metadata": {},
   "outputs": [],
   "source": [
    "fig = px.line(x=np.arange(flux_1d.size), y=flux_1d, color_discrete_sequence=['steelblue'])\n",
    "for peak in peaks:\n",
    "    fig.add_trace(go.Scatter(x=[peak], y=[flux_1d[int(peak)] + 1000] , line_color='black'))\n",
    "fig.show()"
   ]
  },
  {
   "cell_type": "code",
   "execution_count": null,
   "id": "eba61920-1ff2-4f36-a51e-10bd7e5d3c6b",
   "metadata": {},
   "outputs": [],
   "source": [
    "from banzai_floyds.wavelengths import correlate_peaks\n",
    "corresponding_lines = np.array(correlate_peaks(peaks, linear_solution, self.LINES[self.LINES['used']],\n",
    "                                               50.0)).astype(float)"
   ]
  },
  {
   "cell_type": "code",
   "execution_count": null,
   "id": "f0c714b5-e156-457f-bd85-788149ea5f3e",
   "metadata": {},
   "outputs": [],
   "source": [
    "corresponding_lines"
   ]
  },
  {
   "cell_type": "code",
   "execution_count": null,
   "id": "cf4db76d-01d4-4698-841d-491fac32f9b3",
   "metadata": {},
   "outputs": [],
   "source": [
    "from banzai_floyds.wavelengths import estimate_distortion\n",
    "successful_matches = np.isfinite(corresponding_lines)\n",
    "initial_wavelength_solutions.append(estimate_distortion(peaks[successful_matches],\n",
    "                                                                    corresponding_lines[successful_matches],\n",
    "                                                                    image.orders.domains[i],\n",
    "                                                                    order=self.FIT_ORDERS[order]))"
   ]
  },
  {
   "cell_type": "raw",
   "id": "41501134-033d-4129-a960-734ed2d15318",
   "metadata": {},
   "source": [
    "initial_wavelength_solutions"
   ]
  },
  {
   "cell_type": "raw",
   "id": "d960f27f-a085-45a9-a9ea-27d0eb73f3ee",
   "metadata": {},
   "source": []
  },
  {
   "cell_type": "code",
   "execution_count": null,
   "id": "2addc2c0-3a19-4f40-98f9-5333523b6e6d",
   "metadata": {},
   "outputs": [],
   "source": [
    "wave_1d = initial_wavelength_solutions[0](np.arange(flux_1d.size))\n",
    "fig = px.line(x=wave_1d, y=flux_1d, color_discrete_sequence=['steelblue'])\n",
    "for line in self.LINES[self.LINES['used']]:\n",
    "    flux_ind = np.argmin(np.abs(wave_1d - line['wavelength']))\n",
    "    fig.add_trace(go.Scatter(x=[line['wavelength']], y=[flux_1d[flux_ind] + 1000] , line_color='black'))\n",
    "fig.add_trace(go.Scatter(x=lam, y=hdu[0].data[0,:], line_color='coral'))\n",
    "fig.show()"
   ]
  },
  {
   "cell_type": "code",
   "execution_count": null,
   "id": "ee1acb8f-21a9-4fc6-81c3-9bcaa4dfb85d",
   "metadata": {},
   "outputs": [],
   "source": [
    "i = 1\n",
    "order = 2"
   ]
  },
  {
   "cell_type": "code",
   "execution_count": null,
   "id": "9d029283-654c-4dda-bfde-d04b3adadb56",
   "metadata": {},
   "outputs": [],
   "source": [
    "order_region = get_order_2d_region(extraction_orders.data == order)\n",
    "# Note that his flux has an x origin at the x = 0 instead of the domain of the order\n",
    "# I don't think it matters though\n",
    "flux_1d = np.median(image.data[order_region], axis=0)\n",
    "# This 1.2533 is from Rider 1960 DOI: 10.1080/01621459.1960.10482056 and converts the standard error\n",
    "# to error on the median\n",
    "flux_1d_error = 1.2533 * np.median(image.uncertainty[order_region], axis=0)\n",
    "flux_1d_error /= np.sqrt(self.EXTRACTION_HEIGHT)\n",
    "linear_solution = linear_wavelength_solution(flux_1d, flux_1d_error, self.LINES[self.LINES['used']],\n",
    "                                             self.INITIAL_DISPERSIONS[order],\n",
    "                                             self.INITIAL_LINE_WIDTHS[order],\n",
    "                                             self.OFFSET_RANGES[order],\n",
    "                                             domain=image.orders.domains[i])\n"
   ]
  },
  {
   "cell_type": "code",
   "execution_count": null,
   "id": "36464c98-bea5-48f9-86f8-f1cbfc9d004f",
   "metadata": {},
   "outputs": [],
   "source": [
    "linear_solution.coef"
   ]
  },
  {
   "cell_type": "code",
   "execution_count": null,
   "id": "b4fc61c8-9424-4784-853f-c749ac839d0e",
   "metadata": {},
   "outputs": [],
   "source": [
    "hdu = fits.open('test_data/ttarc_HD201767_ftn_20200823_blue_2.0_59085_1.fits')\n",
    "lam = fits_header_to_wavelength(hdu[0].header)\n",
    "linear_solution.coef[0] = 4700\n",
    "fig = px.line(x=linear_solution(np.arange(flux_1d.size) + np.min(linear_solution.domain)), y=flux_1d, color_discrete_sequence=['steelblue'])\n",
    "fig.add_trace(go.Scatter(x=lam, y=hdu[0].data[0,:], line_color='coral'))\n",
    "fig.show()"
   ]
  },
  {
   "cell_type": "code",
   "execution_count": null,
   "id": "1cdf9aa9-8ffb-4443-8ce7-5ded2d514a43",
   "metadata": {},
   "outputs": [],
   "source": [
    "image.orders.domains"
   ]
  },
  {
   "cell_type": "code",
   "execution_count": null,
   "id": "f9708c5d-d1d1-4af3-81c5-df2d7f6c85b1",
   "metadata": {},
   "outputs": [],
   "source": []
  }
 ],
 "metadata": {
  "kernelspec": {
   "display_name": "Python 3 (ipykernel)",
   "language": "python",
   "name": "python3"
  },
  "language_info": {
   "codemirror_mode": {
    "name": "ipython",
    "version": 3
   },
   "file_extension": ".py",
   "mimetype": "text/x-python",
   "name": "python",
   "nbconvert_exporter": "python",
   "pygments_lexer": "ipython3",
   "version": "3.10.13"
  }
 },
 "nbformat": 4,
 "nbformat_minor": 5
}
