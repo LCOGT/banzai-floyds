{
 "cells": [
  {
   "cell_type": "markdown",
   "id": "6263ca3a-f101-43e9-b4b7-5a4bf108e28a",
   "metadata": {},
   "source": [
    "# Run the wavelength and the fringe frame maker notebooks first!"
   ]
  },
  {
   "cell_type": "code",
   "execution_count": 1,
   "id": "757e0876-6493-45b4-8559-f3abdee6bf62",
   "metadata": {},
   "outputs": [],
   "source": [
    "import os\n",
    "os.environ['OPENTSDB_PYTHON_METRICS_TEST_MODE'] = 'True'"
   ]
  },
  {
   "cell_type": "code",
   "execution_count": 2,
   "id": "862c2290-7747-43c1-b4b2-0bc2784a8d11",
   "metadata": {},
   "outputs": [],
   "source": [
    "import importlib.resources\n",
    "import requests\n",
    "from banzai_floyds import settings\n",
    "from banzai.utils.stage_utils import run_pipeline_stages\n",
    "from banzai.utils.fits_utils import download_from_s3\n",
    "import numpy as np\n",
    "from astropy.io import ascii\n",
    "from astropy.coordinates import SkyCoord\n",
    "from astropy import units"
   ]
  },
  {
   "cell_type": "code",
   "execution_count": 3,
   "id": "261d86b1-b4fe-4281-a9a8-a652d8f75ebf",
   "metadata": {},
   "outputs": [],
   "source": [
    "os.environ['DB_ADDRESS'] = 'sqlite:///test_data/test.db'\n",
    "settings.processed_path= os.path.join(os.getcwd(), 'test_data')\n",
    "settings.fpack=True\n",
    "settings.db_address = os.environ['DB_ADDRESS']\n",
    "settings.RAW_DATA_FRAME_URL = f'https://archive-api.lco.global/frames'"
   ]
  },
  {
   "cell_type": "code",
   "execution_count": 4,
   "id": "11322ec4-c6ab-4ca7-8c7b-8f4d98cdc4cd",
   "metadata": {},
   "outputs": [],
   "source": [
    "# set up the context object.\n",
    "import banzai.main\n",
    "context = banzai.main.parse_args(settings, parse_system_args=False)"
   ]
  },
  {
   "cell_type": "code",
   "execution_count": 5,
   "id": "3e5a75a0-e50b-4240-b784-cb3465ac6d21",
   "metadata": {},
   "outputs": [],
   "source": [
    "from banzai_floyds import dbs"
   ]
  },
  {
   "cell_type": "code",
   "execution_count": null,
   "id": "6cee9e03-9f7b-4385-a196-9c1ef68e080a",
   "metadata": {},
   "outputs": [],
   "source": [
    "dbs.ingest_standards(settings.db_address)"
   ]
  },
  {
   "cell_type": "code",
   "execution_count": 6,
   "id": "8a87154d-8ad0-41ff-ac8a-ad1fa909c66b",
   "metadata": {},
   "outputs": [],
   "source": [
    "# Start withjust the profile.\n",
    "context = banzai.main.parse_args(settings, parse_system_args=False)"
   ]
  },
  {
   "cell_type": "code",
   "execution_count": 7,
   "id": "a003d5fd-d46d-4469-ac59-78061a4902dd",
   "metadata": {},
   "outputs": [
    {
     "name": "stderr",
     "output_type": "stream",
     "text": [
      "2024-01-18 16:37:33.036     INFO:      fits_utils: Downloading file coj2m002-en12-20200813-0026-e00.fits.fz from archive. ID: 33852323. | {\"filename\": \"coj2m002-en12-20200813-0026-e00.fits.fz\", \"attempt_number\": 1, \"processName\": \"MainProcess\"}\n",
      "2024-01-18 16:37:35.523     INFO:          stages: Running banzai.stages.OverscanSubtractor | {\"filename\": \"coj2m002-en12-20200813-0026-e00.fits.fz\", \"site\": \"coj\", \"instrument\": \"floyds02\", \"epoch\": \"20200813\", \"request_num\": \"2207853\", \"obstype\": \"SPECTRUM\", \"filter\": \"air\", \"processName\": \"MainProcess\"}\n",
      "2024-01-18 16:37:35.525     INFO:          stages: Running banzai.stages.Trimmer | {\"filename\": \"coj2m002-en12-20200813-0026-e00.fits.fz\", \"site\": \"coj\", \"instrument\": \"floyds02\", \"epoch\": \"20200813\", \"request_num\": \"2207853\", \"obstype\": \"SPECTRUM\", \"filter\": \"air\", \"processName\": \"MainProcess\"}\n",
      "2024-01-18 16:37:35.525     INFO:            trim: Trimming image | {\"filename\": \"coj2m002-en12-20200813-0026-e00.fits.fz\", \"site\": \"coj\", \"instrument\": \"floyds02\", \"epoch\": \"20200813\", \"request_num\": \"2207853\", \"obstype\": \"SPECTRUM\", \"filter\": \"air\", \"processName\": \"MainProcess\"}\n",
      "2024-01-18 16:37:35.583     INFO:          stages: Running banzai.stages.GainNormalizer | {\"filename\": \"coj2m002-en12-20200813-0026-e00.fits.fz\", \"site\": \"coj\", \"instrument\": \"floyds02\", \"epoch\": \"20200813\", \"request_num\": \"2207853\", \"obstype\": \"SPECTRUM\", \"filter\": \"air\", \"processName\": \"MainProcess\"}\n",
      "2024-01-18 16:37:35.583     INFO:            gain: Multiplying by gain | {\"filename\": \"coj2m002-en12-20200813-0026-e00.fits.fz\", \"site\": \"coj\", \"instrument\": \"floyds02\", \"epoch\": \"20200813\", \"request_num\": \"2207853\", \"obstype\": \"SPECTRUM\", \"filter\": \"air\", \"processName\": \"MainProcess\"}\n",
      "2024-01-18 16:37:35.585     INFO:          stages: Running banzai.stages.PoissonInitializer | {\"filename\": \"coj2m002-en12-20200813-0026-e00.fits.fz\", \"site\": \"coj\", \"instrument\": \"floyds02\", \"epoch\": \"20200813\", \"request_num\": \"2207853\", \"obstype\": \"SPECTRUM\", \"filter\": \"air\", \"processName\": \"MainProcess\"}\n",
      "2024-01-18 16:37:35.591     INFO:          stages: Running banzai.stages.OrderLoader | {\"filename\": \"coj2m002-en12-20200813-0026-e00.fits.fz\", \"site\": \"coj\", \"instrument\": \"floyds02\", \"epoch\": \"20200813\", \"request_num\": \"2207853\", \"obstype\": \"SPECTRUM\", \"filter\": \"air\", \"processName\": \"MainProcess\"}\n",
      "2024-01-18 16:37:35.718     INFO:    calibrations: Applying master calibration | {\"filename\": \"coj2m002-en12-20200813-0026-e00.fits.fz\", \"site\": \"coj\", \"instrument\": \"floyds02\", \"epoch\": \"20200813\", \"request_num\": \"2207853\", \"obstype\": \"SPECTRUM\", \"filter\": \"air\", \"master_calibration\": \"coj2m002-en12-20220313-0002-f91.fits.fz\", \"processName\": \"MainProcess\"}\n",
      "2024-01-18 16:37:35.721     INFO:          stages: Running banzai.stages.OrderTweaker | {\"filename\": \"coj2m002-en12-20200813-0026-e00.fits.fz\", \"site\": \"coj\", \"instrument\": \"floyds02\", \"epoch\": \"20200813\", \"request_num\": \"2207853\", \"obstype\": \"SPECTRUM\", \"filter\": \"air\", \"processName\": \"MainProcess\"}\n",
      "2024-01-18 16:37:36.116     INFO:          stages: Running banzai.stages.WavelengthSolutionLoader | {\"filename\": \"coj2m002-en12-20200813-0026-e00.fits.fz\", \"site\": \"coj\", \"instrument\": \"floyds02\", \"epoch\": \"20200813\", \"request_num\": \"2207853\", \"obstype\": \"SPECTRUM\", \"filter\": \"air\", \"processName\": \"MainProcess\"}\n",
      "2024-01-18 16:37:36.275     INFO:    calibrations: Applying master calibration | {\"filename\": \"coj2m002-en12-20200813-0026-e00.fits.fz\", \"site\": \"coj\", \"instrument\": \"floyds02\", \"epoch\": \"20200813\", \"request_num\": \"2207853\", \"obstype\": \"SPECTRUM\", \"filter\": \"air\", \"master_calibration\": \"coj2m002-en12-20200813-0028-a91.fits.fz\", \"processName\": \"MainProcess\"}\n",
      "2024-01-18 16:37:36.279     INFO:          stages: Running banzai.stages.FringeLoader | {\"filename\": \"coj2m002-en12-20200813-0026-e00.fits.fz\", \"site\": \"coj\", \"instrument\": \"floyds02\", \"epoch\": \"20200813\", \"request_num\": \"2207853\", \"obstype\": \"SPECTRUM\", \"filter\": \"air\", \"processName\": \"MainProcess\"}\n",
      "2024-01-18 16:37:36.409     INFO:    calibrations: Applying master calibration | {\"filename\": \"coj2m002-en12-20200813-0026-e00.fits.fz\", \"site\": \"coj\", \"instrument\": \"floyds02\", \"epoch\": \"20200813\", \"request_num\": \"2207853\", \"obstype\": \"SPECTRUM\", \"filter\": \"air\", \"master_calibration\": \"coj2m002-en12-20200813-lampflat-0.1MHz_2.0preamp.fits.fz\", \"processName\": \"MainProcess\"}\n",
      "2024-01-18 16:37:36.411     INFO:          stages: Running banzai.stages.FringeCorrector | {\"filename\": \"coj2m002-en12-20200813-0026-e00.fits.fz\", \"site\": \"coj\", \"instrument\": \"floyds02\", \"epoch\": \"20200813\", \"request_num\": \"2207853\", \"obstype\": \"SPECTRUM\", \"filter\": \"air\", \"processName\": \"MainProcess\"}\n",
      "2024-01-18 16:37:44.731     INFO:          stages: Running banzai.stages.ProfileFitter | {\"filename\": \"coj2m002-en12-20200813-0026-e00.fits.fz\", \"site\": \"coj\", \"instrument\": \"floyds02\", \"epoch\": \"20200813\", \"request_num\": \"2207853\", \"obstype\": \"SPECTRUM\", \"filter\": \"air\", \"processName\": \"MainProcess\"}\n",
      "2024-01-18 16:38:20.729  WARNING:        warnings: /Users/cmccully/miniconda3/envs/banzai-floyds/lib/python3.10/site-packages/astropy/modeling/fitting.py:1449: AstropyUserWarning: The fit may be unsuccessful; check fit_info['message'] for more information.\n",
      "  warnings.warn(\n",
      "\n",
      "2024-01-18 16:38:39.701     INFO:          stages: Running banzai.stages.Extractor | {\"filename\": \"coj2m002-en12-20200813-0026-e00.fits.fz\", \"site\": \"coj\", \"instrument\": \"floyds02\", \"epoch\": \"20200813\", \"request_num\": \"2207853\", \"obstype\": \"SPECTRUM\", \"filter\": \"air\", \"processName\": \"MainProcess\"}\n",
      "2024-01-18 16:38:49.552     INFO:          stages: Running banzai.stages.StandardLoader | {\"filename\": \"coj2m002-en12-20200813-0026-e00.fits.fz\", \"site\": \"coj\", \"instrument\": \"floyds02\", \"epoch\": \"20200813\", \"request_num\": \"2207853\", \"obstype\": \"SPECTRUM\", \"filter\": \"air\", \"processName\": \"MainProcess\"}\n",
      "2024-01-18 16:38:49.562     INFO:          stages: Running banzai.stages.FluxSensitivity | {\"filename\": \"coj2m002-en12-20200813-0026-e00.fits.fz\", \"site\": \"coj\", \"instrument\": \"floyds02\", \"epoch\": \"20200813\", \"request_num\": \"2207853\", \"obstype\": \"SPECTRUM\", \"filter\": \"air\", \"processName\": \"MainProcess\"}\n",
      "2024-01-18 16:38:49.572     INFO:          stages: Running banzai.stages.FluxCalibrator | {\"filename\": \"coj2m002-en12-20200813-0026-e00.fits.fz\", \"site\": \"coj\", \"instrument\": \"floyds02\", \"epoch\": \"20200813\", \"request_num\": \"2207853\", \"obstype\": \"SPECTRUM\", \"filter\": \"air\", \"processName\": \"MainProcess\"}\n",
      "2024-01-18 16:38:49.588  WARNING:        warnings: /Users/cmccully/miniconda3/envs/banzai-floyds/lib/python3.10/site-packages/astropy/io/fits/card.py:1038: VerifyWarning: Card is too long, comment will be truncated.\n",
      "  warnings.warn(\n",
      "\n",
      "2024-01-18 16:38:49.962     INFO:      fits_utils: Downloading file ogg2m001-en06-20200822-0007-e00.fits.fz from archive. ID: 33989111. | {\"filename\": \"ogg2m001-en06-20200822-0007-e00.fits.fz\", \"attempt_number\": 1, \"processName\": \"MainProcess\"}\n",
      "2024-01-18 16:38:52.891     INFO:          stages: Running banzai.stages.OverscanSubtractor | {\"filename\": \"ogg2m001-en06-20200822-0007-e00.fits.fz\", \"site\": \"ogg\", \"instrument\": \"floyds01\", \"epoch\": \"20200822\", \"request_num\": \"2217414\", \"obstype\": \"SPECTRUM\", \"filter\": \"air\", \"processName\": \"MainProcess\"}\n",
      "2024-01-18 16:38:52.894     INFO:          stages: Running banzai.stages.Trimmer | {\"filename\": \"ogg2m001-en06-20200822-0007-e00.fits.fz\", \"site\": \"ogg\", \"instrument\": \"floyds01\", \"epoch\": \"20200822\", \"request_num\": \"2217414\", \"obstype\": \"SPECTRUM\", \"filter\": \"air\", \"processName\": \"MainProcess\"}\n",
      "2024-01-18 16:38:52.895     INFO:            trim: Trimming image | {\"filename\": \"ogg2m001-en06-20200822-0007-e00.fits.fz\", \"site\": \"ogg\", \"instrument\": \"floyds01\", \"epoch\": \"20200822\", \"request_num\": \"2217414\", \"obstype\": \"SPECTRUM\", \"filter\": \"air\", \"processName\": \"MainProcess\"}\n",
      "2024-01-18 16:38:52.957     INFO:          stages: Running banzai.stages.GainNormalizer | {\"filename\": \"ogg2m001-en06-20200822-0007-e00.fits.fz\", \"site\": \"ogg\", \"instrument\": \"floyds01\", \"epoch\": \"20200822\", \"request_num\": \"2217414\", \"obstype\": \"SPECTRUM\", \"filter\": \"air\", \"processName\": \"MainProcess\"}\n",
      "2024-01-18 16:38:52.958     INFO:            gain: Multiplying by gain | {\"filename\": \"ogg2m001-en06-20200822-0007-e00.fits.fz\", \"site\": \"ogg\", \"instrument\": \"floyds01\", \"epoch\": \"20200822\", \"request_num\": \"2217414\", \"obstype\": \"SPECTRUM\", \"filter\": \"air\", \"processName\": \"MainProcess\"}\n",
      "2024-01-18 16:38:52.959     INFO:          stages: Running banzai.stages.PoissonInitializer | {\"filename\": \"ogg2m001-en06-20200822-0007-e00.fits.fz\", \"site\": \"ogg\", \"instrument\": \"floyds01\", \"epoch\": \"20200822\", \"request_num\": \"2217414\", \"obstype\": \"SPECTRUM\", \"filter\": \"air\", \"processName\": \"MainProcess\"}\n",
      "2024-01-18 16:38:52.965     INFO:          stages: Running banzai.stages.OrderLoader | {\"filename\": \"ogg2m001-en06-20200822-0007-e00.fits.fz\", \"site\": \"ogg\", \"instrument\": \"floyds01\", \"epoch\": \"20200822\", \"request_num\": \"2217414\", \"obstype\": \"SPECTRUM\", \"filter\": \"air\", \"processName\": \"MainProcess\"}\n",
      "2024-01-18 16:38:53.095     INFO:    calibrations: Applying master calibration | {\"filename\": \"ogg2m001-en06-20200822-0007-e00.fits.fz\", \"site\": \"ogg\", \"instrument\": \"floyds01\", \"epoch\": \"20200822\", \"request_num\": \"2217414\", \"obstype\": \"SPECTRUM\", \"filter\": \"air\", \"master_calibration\": \"ogg2m001-en06-20190329-0018-f91.fits.fz\", \"processName\": \"MainProcess\"}\n",
      "2024-01-18 16:38:53.098     INFO:          stages: Running banzai.stages.OrderTweaker | {\"filename\": \"ogg2m001-en06-20200822-0007-e00.fits.fz\", \"site\": \"ogg\", \"instrument\": \"floyds01\", \"epoch\": \"20200822\", \"request_num\": \"2217414\", \"obstype\": \"SPECTRUM\", \"filter\": \"air\", \"processName\": \"MainProcess\"}\n",
      "2024-01-18 16:38:53.183     INFO:          stages: Running banzai.stages.WavelengthSolutionLoader | {\"filename\": \"ogg2m001-en06-20200822-0007-e00.fits.fz\", \"site\": \"ogg\", \"instrument\": \"floyds01\", \"epoch\": \"20200822\", \"request_num\": \"2217414\", \"obstype\": \"SPECTRUM\", \"filter\": \"air\", \"processName\": \"MainProcess\"}\n",
      "2024-01-18 16:38:53.357     INFO:    calibrations: Applying master calibration | {\"filename\": \"ogg2m001-en06-20200822-0007-e00.fits.fz\", \"site\": \"ogg\", \"instrument\": \"floyds01\", \"epoch\": \"20200822\", \"request_num\": \"2217414\", \"obstype\": \"SPECTRUM\", \"filter\": \"air\", \"master_calibration\": \"ogg2m001-en06-20200822-0009-a91.fits.fz\", \"processName\": \"MainProcess\"}\n",
      "2024-01-18 16:38:53.360     INFO:          stages: Running banzai.stages.FringeLoader | {\"filename\": \"ogg2m001-en06-20200822-0007-e00.fits.fz\", \"site\": \"ogg\", \"instrument\": \"floyds01\", \"epoch\": \"20200822\", \"request_num\": \"2217414\", \"obstype\": \"SPECTRUM\", \"filter\": \"air\", \"processName\": \"MainProcess\"}\n",
      "2024-01-18 16:38:53.454     INFO:    calibrations: Applying master calibration | {\"filename\": \"ogg2m001-en06-20200822-0007-e00.fits.fz\", \"site\": \"ogg\", \"instrument\": \"floyds01\", \"epoch\": \"20200822\", \"request_num\": \"2217414\", \"obstype\": \"SPECTRUM\", \"filter\": \"air\", \"master_calibration\": \"ogg2m001-en06-20200822-lampflat-0.1MHz_2.0preamp.fits.fz\", \"processName\": \"MainProcess\"}\n",
      "2024-01-18 16:38:53.456     INFO:          stages: Running banzai.stages.FringeCorrector | {\"filename\": \"ogg2m001-en06-20200822-0007-e00.fits.fz\", \"site\": \"ogg\", \"instrument\": \"floyds01\", \"epoch\": \"20200822\", \"request_num\": \"2217414\", \"obstype\": \"SPECTRUM\", \"filter\": \"air\", \"processName\": \"MainProcess\"}\n",
      "2024-01-18 16:39:02.182     INFO:          stages: Running banzai.stages.ProfileFitter | {\"filename\": \"ogg2m001-en06-20200822-0007-e00.fits.fz\", \"site\": \"ogg\", \"instrument\": \"floyds01\", \"epoch\": \"20200822\", \"request_num\": \"2217414\", \"obstype\": \"SPECTRUM\", \"filter\": \"air\", \"processName\": \"MainProcess\"}\n",
      "2024-01-18 16:39:47.603  WARNING:        warnings: /Users/cmccully/miniconda3/envs/banzai-floyds/lib/python3.10/site-packages/astropy/modeling/fitting.py:1449: AstropyUserWarning: The fit may be unsuccessful; check fit_info['message'] for more information.\n",
      "  warnings.warn(\n",
      "\n",
      "2024-01-18 16:39:54.440     INFO:          stages: Running banzai.stages.Extractor | {\"filename\": \"ogg2m001-en06-20200822-0007-e00.fits.fz\", \"site\": \"ogg\", \"instrument\": \"floyds01\", \"epoch\": \"20200822\", \"request_num\": \"2217414\", \"obstype\": \"SPECTRUM\", \"filter\": \"air\", \"processName\": \"MainProcess\"}\n",
      "2024-01-18 16:40:05.642     INFO:          stages: Running banzai.stages.StandardLoader | {\"filename\": \"ogg2m001-en06-20200822-0007-e00.fits.fz\", \"site\": \"ogg\", \"instrument\": \"floyds01\", \"epoch\": \"20200822\", \"request_num\": \"2217414\", \"obstype\": \"SPECTRUM\", \"filter\": \"air\", \"processName\": \"MainProcess\"}\n",
      "2024-01-18 16:40:05.659     INFO:          stages: Running banzai.stages.FluxSensitivity | {\"filename\": \"ogg2m001-en06-20200822-0007-e00.fits.fz\", \"site\": \"ogg\", \"instrument\": \"floyds01\", \"epoch\": \"20200822\", \"request_num\": \"2217414\", \"obstype\": \"SPECTRUM\", \"filter\": \"air\", \"processName\": \"MainProcess\"}\n",
      "2024-01-18 16:40:05.672     INFO:          stages: Running banzai.stages.FluxCalibrator | {\"filename\": \"ogg2m001-en06-20200822-0007-e00.fits.fz\", \"site\": \"ogg\", \"instrument\": \"floyds01\", \"epoch\": \"20200822\", \"request_num\": \"2217414\", \"obstype\": \"SPECTRUM\", \"filter\": \"air\", \"processName\": \"MainProcess\"}\n",
      "2024-01-18 16:40:05.689  WARNING:        warnings: /Users/cmccully/miniconda3/envs/banzai-floyds/lib/python3.10/site-packages/astropy/io/fits/card.py:1038: VerifyWarning: Card is too long, comment will be truncated.\n",
      "  warnings.warn(\n",
      "\n"
     ]
    }
   ],
   "source": [
    "from banzai_floyds.tests.test_e2e import is_standard\n",
    "test_data = ascii.read(os.path.join(importlib.resources.files('banzai_floyds.tests'), 'data/test_data.dat'))\n",
    "for row in test_data:\n",
    "    if 'e00.fits' in row['filename'] and is_standard(row['object']):\n",
    "        run_pipeline_stages([{'filename': row['filename'], 'RLEVEL': 0, 'frameid': row['frameid']}], context)"
   ]
  },
  {
   "cell_type": "code",
   "execution_count": null,
   "id": "f8fdf8ca-3203-4e51-b8d3-19ee31e74d4f",
   "metadata": {},
   "outputs": [],
   "source": [
    "test_data = ascii.read(os.path.join(importlib.resources.files('banzai_floyds.tests'), 'data/test_data.dat'))\n",
    "for row in test_data:\n",
    "    if 'e00.fits' in row['filename'] and not is_standard(row['object']):\n",
    "        run_pipeline_stages([{'filename': row['filename'], 'RLEVEL': 0, 'frameid': row['frameid']}], context)"
   ]
  },
  {
   "cell_type": "code",
   "execution_count": 10,
   "id": "0e0e455f-37d9-483c-9daf-924c03118336",
   "metadata": {},
   "outputs": [],
   "source": [
    "from matplotlib import pyplot\n",
    "from glob import glob\n",
    "from astropy.io import fits"
   ]
  },
  {
   "cell_type": "code",
   "execution_count": 11,
   "id": "196477e2-78d7-49e4-a236-2759a1b8b4c9",
   "metadata": {},
   "outputs": [],
   "source": [
    "extracted_spectra = glob('./test_data/*/*/*/processed/*-1d.fits.fz')"
   ]
  },
  {
   "cell_type": "code",
   "execution_count": 16,
   "id": "d293ea7a-46e6-4f2b-a482-d5c1763a67f2",
   "metadata": {},
   "outputs": [
    {
     "data": {
      "image/png": "[encoded data removed]",
      "text/plain": [
       "<Figure size 640x480 with 1 Axes>"
      ]
     },
     "metadata": {},
     "output_type": "display_data"
    }
   ],
   "source": [
    "#for f in extracted_spectra:\n",
    "f = extracted_spectra[1]\n",
    "hdu = fits.open(f)\n",
    "pyplot.plot(hdu[1].data['wavelength'], hdu[1].data['flux'])\n",
    "pyplot.yscale('log')\n",
    "pyplot.show()"
   ]
  },
  {
   "cell_type": "code",
   "execution_count": null,
   "id": "24c07b9c-2395-440c-993d-1bb3b749fec9",
   "metadata": {},
   "outputs": [],
   "source": [
    "import pkg_resources\n",
    "standard_files = glob(pkg_resources.resource_filename('banzai_floyds', 'data/standards/*.fits'))"
   ]
  },
  {
   "cell_type": "code",
   "execution_count": null,
   "id": "618d6751-1500-4d2a-a203-cb95049debae",
   "metadata": {},
   "outputs": [],
   "source": [
    "standard_files"
   ]
  },
  {
   "cell_type": "code",
   "execution_count": null,
   "id": "5a243dc9-7493-411c-bc84-bc13ca0f7d53",
   "metadata": {},
   "outputs": [],
   "source": [
    "hdu[0].header"
   ]
  },
  {
   "cell_type": "code",
   "execution_count": null,
   "id": "3f759c38-3f73-4acf-b40f-93e3685debb1",
   "metadata": {},
   "outputs": [],
   "source": [
    "from banzai_floyds.dbs import get_standard"
   ]
  },
  {
   "cell_type": "code",
   "execution_count": null,
   "id": "b7d2d0cd-3d2b-4286-8be3-659f9c85abac",
   "metadata": {},
   "outputs": [],
   "source": [
    "flux_standard = get_standard(hdu[0].header['RA'], hdu[0].header['DEC'], context.db_address)"
   ]
  },
  {
   "cell_type": "code",
   "execution_count": null,
   "id": "00c22ee2-bacb-4358-9051-09555da48131",
   "metadata": {},
   "outputs": [],
   "source": [
    "hdu = fits.open(extracted_spectra[3])\n",
    "hdu[0].header['OBJECT']"
   ]
  },
  {
   "cell_type": "code",
   "execution_count": null,
   "id": "3bc7a414-6acf-4567-b4ed-dc947704e166",
   "metadata": {},
   "outputs": [],
   "source": [
    "flux_standard"
   ]
  },
  {
   "cell_type": "code",
   "execution_count": null,
   "id": "047eaca7-4043-44f1-8e33-0cd348d30697",
   "metadata": {},
   "outputs": [],
   "source": [
    "image = factory.open({'path': './test_data/coj/en12/20200813/processed/coj2m002-en12-20200813-0014-e91-2d.fits.fz'}, context)"
   ]
  },
  {
   "cell_type": "code",
   "execution_count": null,
   "id": "e55a3255-719b-49b3-b503-a057d8e5b9bf",
   "metadata": {},
   "outputs": [],
   "source": [
    "from banzai_floyds.extract import get_wavelength_bins\n",
    "image.wavelength_bins = get_wavelength_bins(image.wavelengths)"
   ]
  },
  {
   "cell_type": "code",
   "execution_count": null,
   "id": "b6869214-a72b-4926-8981-4eaa3417aedd",
   "metadata": {},
   "outputs": [],
   "source": [
    "from banzai_floyds.extract import bin_data\n",
    "image.binned_data = bin_data(image.data, image.uncertainty, image.wavelengths,\n",
    "                             image.orders, image.wavelength_bins)"
   ]
  },
  {
   "cell_type": "code",
   "execution_count": null,
   "id": "f220f988-b77e-4f96-bc8b-5dac05b39bf5",
   "metadata": {},
   "outputs": [],
   "source": [
    "from banzai_floyds.extract import fit_profile_centers\n",
    "profile_centers = fit_profile_centers(image.binned_data)"
   ]
  },
  {
   "cell_type": "code",
   "execution_count": null,
   "id": "2f2a4bdc-0be9-42a5-b2be-05fcbf4ad390",
   "metadata": {},
   "outputs": [],
   "source": [
    "profile_centers"
   ]
  },
  {
   "cell_type": "code",
   "execution_count": null,
   "id": "00b86831-1e4e-4399-bb13-214593dbf5a4",
   "metadata": {},
   "outputs": [],
   "source": [
    "from matplotlib import pyplot\n",
    "pyplot.imshow(image.wavelengths.data)"
   ]
  },
  {
   "cell_type": "code",
   "execution_count": null,
   "id": "55a61cf8-05e5-4faa-a965-0f6234be79f7",
   "metadata": {},
   "outputs": [],
   "source": [
    "profile_centers[0](7500)"
   ]
  },
  {
   "cell_type": "code",
   "execution_count": null,
   "id": "6cdc35d1-e82a-4bbb-8c03-cabd28edc3b6",
   "metadata": {},
   "outputs": [],
   "source": [
    "import scipy.interpolate\n",
    "x, y = np.meshgrid(image.data.shape[1], image.data.shape[0])\n",
    "centers = image.orders.centers(x)\n",
    "#interpolator = scipy.interpolate.SmoothBivariateSpline(x, y, z)"
   ]
  },
  {
   "cell_type": "code",
   "execution_count": null,
   "id": "f7f4b4b7-6be3-4687-b2b6-622f29d5e498",
   "metadata": {},
   "outputs": [],
   "source": [
    "from matplotlib import pyplot\n",
    "pyplot.imshow(image.data * image.orders.data, vmin=-5, vmax=300)"
   ]
  },
  {
   "cell_type": "code",
   "execution_count": null,
   "id": "4f27679a-40da-4ebf-a4c7-d4dc25a26f75",
   "metadata": {},
   "outputs": [],
   "source": [
    "image.meta"
   ]
  },
  {
   "cell_type": "code",
   "execution_count": null,
   "id": "d5699e62-511f-45f6-8434-e00f09a0b91b",
   "metadata": {},
   "outputs": [],
   "source": []
  }
 ],
 "metadata": {
  "kernelspec": {
   "display_name": "Python 3 (ipykernel)",
   "language": "python",
   "name": "python3"
  },
  "language_info": {
   "codemirror_mode": {
    "name": "ipython",
    "version": 3
   },
   "file_extension": ".py",
   "mimetype": "text/x-python",
   "name": "python",
   "nbconvert_exporter": "python",
   "pygments_lexer": "ipython3",
   "version": "3.10.13"
  }
 },
 "nbformat": 4,
 "nbformat_minor": 5
}
