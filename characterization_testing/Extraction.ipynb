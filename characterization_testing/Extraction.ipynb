{
 "cells": [
  {
   "cell_type": "markdown",
   "id": "6263ca3a-f101-43e9-b4b7-5a4bf108e28a",
   "metadata": {},
   "source": [
    "# Run the wavelength and the fringe frame maker notebooks first!"
   ]
  },
  {
   "cell_type": "code",
   "execution_count": 1,
   "id": "757e0876-6493-45b4-8559-f3abdee6bf62",
   "metadata": {},
   "outputs": [],
   "source": [
    "import os\n",
    "os.environ['OPENTSDB_PYTHON_METRICS_TEST_MODE'] = 'True'"
   ]
  },
  {
   "cell_type": "code",
   "execution_count": 2,
   "id": "862c2290-7747-43c1-b4b2-0bc2784a8d11",
   "metadata": {},
   "outputs": [],
   "source": [
    "import importlib.resources\n",
    "import requests\n",
    "from banzai_floyds import settings\n",
    "from banzai.utils.stage_utils import run_pipeline_stages\n",
    "from banzai.utils.fits_utils import download_from_s3\n",
    "import numpy as np\n",
    "from astropy.io import ascii\n",
    "from astropy.coordinates import SkyCoord\n",
    "from astropy import units"
   ]
  },
  {
   "cell_type": "code",
   "execution_count": 3,
   "id": "261d86b1-b4fe-4281-a9a8-a652d8f75ebf",
   "metadata": {},
   "outputs": [],
   "source": [
    "os.environ['DB_ADDRESS'] = 'sqlite:///test_data/test.db'\n",
    "settings.processed_path= os.path.join(os.getcwd(), 'test_data')\n",
    "settings.fpack=True\n",
    "settings.db_address = os.environ['DB_ADDRESS']\n",
    "settings.RAW_DATA_FRAME_URL = f'https://archive-api.lco.global/frames'"
   ]
  },
  {
   "cell_type": "code",
   "execution_count": 4,
   "id": "11322ec4-c6ab-4ca7-8c7b-8f4d98cdc4cd",
   "metadata": {},
   "outputs": [],
   "source": [
    "# set up the context object.\n",
    "import banzai.main\n",
    "context = banzai.main.parse_args(settings, parse_system_args=False)"
   ]
  },
  {
   "cell_type": "code",
   "execution_count": 5,
   "id": "6cee9e03-9f7b-4385-a196-9c1ef68e080a",
   "metadata": {},
   "outputs": [],
   "source": [
    "from banzai_floyds import dbs\n",
    "dbs.ingest_standards(settings.db_address)"
   ]
  },
  {
   "cell_type": "code",
   "execution_count": 6,
   "id": "8a87154d-8ad0-41ff-ac8a-ad1fa909c66b",
   "metadata": {},
   "outputs": [],
   "source": [
    "# Start with just the profile.\n",
    "settings.ORDERED_STAGES = [\n",
    "    'banzai.bias.OverscanSubtractor',\n",
    "    'banzai.trim.Trimmer',\n",
    "    'banzai.gain.GainNormalizer',\n",
    "    'banzai.uncertainty.PoissonInitializer',\n",
    "    'banzai_floyds.orders.OrderLoader',\n",
    "    # Note that we currently don't apply the order tweak, only calculate it and save it in the header\n",
    "    'banzai_floyds.orders.OrderTweaker',\n",
    "    'banzai_floyds.wavelengths.WavelengthSolutionLoader',\n",
    "    'banzai_floyds.fringe.FringeLoader',\n",
    "    'banzai_floyds.fringe.FringeCorrector',\n",
    "    #'banzai_floyds.extract.ProfileFitter',\n",
    "]\n",
    "context = banzai.main.parse_args(settings, parse_system_args=False)"
   ]
  },
  {
   "cell_type": "code",
   "execution_count": 7,
   "id": "a003d5fd-d46d-4469-ac59-78061a4902dd",
   "metadata": {},
   "outputs": [
    {
     "name": "stderr",
     "output_type": "stream",
     "text": [
      "2023-11-10 12:35:46.260     INFO:      fits_utils: Downloading file coj2m002-en12-20200813-0014-e00.fits.fz from archive. ID: 33851447. | {\"filename\": \"coj2m002-en12-20200813-0014-e00.fits.fz\", \"attempt_number\": 1, \"processName\": \"MainProcess\"}\n",
      "2023-11-10 12:35:48.123     INFO:          stages: Running banzai.stages.OverscanSubtractor | {\"filename\": \"coj2m002-en12-20200813-0014-e00.fits.fz\", \"site\": \"coj\", \"instrument\": \"floyds02\", \"epoch\": \"20200813\", \"request_num\": \"2207712\", \"obstype\": \"SPECTRUM\", \"filter\": \"air\", \"processName\": \"MainProcess\"}\n",
      "2023-11-10 12:35:48.126     INFO:          stages: Running banzai.stages.Trimmer | {\"filename\": \"coj2m002-en12-20200813-0014-e00.fits.fz\", \"site\": \"coj\", \"instrument\": \"floyds02\", \"epoch\": \"20200813\", \"request_num\": \"2207712\", \"obstype\": \"SPECTRUM\", \"filter\": \"air\", \"processName\": \"MainProcess\"}\n",
      "2023-11-10 12:35:48.126     INFO:            trim: Trimming image | {\"filename\": \"coj2m002-en12-20200813-0014-e00.fits.fz\", \"site\": \"coj\", \"instrument\": \"floyds02\", \"epoch\": \"20200813\", \"request_num\": \"2207712\", \"obstype\": \"SPECTRUM\", \"filter\": \"air\", \"processName\": \"MainProcess\"}\n",
      "2023-11-10 12:35:48.181     INFO:          stages: Running banzai.stages.GainNormalizer | {\"filename\": \"coj2m002-en12-20200813-0014-e00.fits.fz\", \"site\": \"coj\", \"instrument\": \"floyds02\", \"epoch\": \"20200813\", \"request_num\": \"2207712\", \"obstype\": \"SPECTRUM\", \"filter\": \"air\", \"processName\": \"MainProcess\"}\n",
      "2023-11-10 12:35:48.182     INFO:            gain: Multiplying by gain | {\"filename\": \"coj2m002-en12-20200813-0014-e00.fits.fz\", \"site\": \"coj\", \"instrument\": \"floyds02\", \"epoch\": \"20200813\", \"request_num\": \"2207712\", \"obstype\": \"SPECTRUM\", \"filter\": \"air\", \"processName\": \"MainProcess\"}\n",
      "2023-11-10 12:35:48.184     INFO:          stages: Running banzai.stages.PoissonInitializer | {\"filename\": \"coj2m002-en12-20200813-0014-e00.fits.fz\", \"site\": \"coj\", \"instrument\": \"floyds02\", \"epoch\": \"20200813\", \"request_num\": \"2207712\", \"obstype\": \"SPECTRUM\", \"filter\": \"air\", \"processName\": \"MainProcess\"}\n",
      "2023-11-10 12:35:48.191     INFO:          stages: Running banzai.stages.OrderLoader | {\"filename\": \"coj2m002-en12-20200813-0014-e00.fits.fz\", \"site\": \"coj\", \"instrument\": \"floyds02\", \"epoch\": \"20200813\", \"request_num\": \"2207712\", \"obstype\": \"SPECTRUM\", \"filter\": \"air\", \"processName\": \"MainProcess\"}\n",
      "2023-11-10 12:35:48.319     INFO:    calibrations: Applying master calibration | {\"filename\": \"coj2m002-en12-20200813-0014-e00.fits.fz\", \"site\": \"coj\", \"instrument\": \"floyds02\", \"epoch\": \"20200813\", \"request_num\": \"2207712\", \"obstype\": \"SPECTRUM\", \"filter\": \"air\", \"master_calibration\": \"coj2m002-en12-20220313-0002-f91.fits.fz\", \"processName\": \"MainProcess\"}\n",
      "2023-11-10 12:35:48.323     INFO:          stages: Running banzai.stages.OrderTweaker | {\"filename\": \"coj2m002-en12-20200813-0014-e00.fits.fz\", \"site\": \"coj\", \"instrument\": \"floyds02\", \"epoch\": \"20200813\", \"request_num\": \"2207712\", \"obstype\": \"SPECTRUM\", \"filter\": \"air\", \"processName\": \"MainProcess\"}\n",
      "2023-11-10 12:35:48.687     INFO:          stages: Running banzai.stages.WavelengthSolutionLoader | {\"filename\": \"coj2m002-en12-20200813-0014-e00.fits.fz\", \"site\": \"coj\", \"instrument\": \"floyds02\", \"epoch\": \"20200813\", \"request_num\": \"2207712\", \"obstype\": \"SPECTRUM\", \"filter\": \"air\", \"processName\": \"MainProcess\"}\n",
      "2023-11-10 12:35:48.847     INFO:    calibrations: Applying master calibration | {\"filename\": \"coj2m002-en12-20200813-0014-e00.fits.fz\", \"site\": \"coj\", \"instrument\": \"floyds02\", \"epoch\": \"20200813\", \"request_num\": \"2207712\", \"obstype\": \"SPECTRUM\", \"filter\": \"air\", \"master_calibration\": \"coj2m002-en12-20200813-0015-a91.fits.fz\", \"processName\": \"MainProcess\"}\n",
      "2023-11-10 12:35:48.852     INFO:          stages: Running banzai.stages.FringeLoader | {\"filename\": \"coj2m002-en12-20200813-0014-e00.fits.fz\", \"site\": \"coj\", \"instrument\": \"floyds02\", \"epoch\": \"20200813\", \"request_num\": \"2207712\", \"obstype\": \"SPECTRUM\", \"filter\": \"air\", \"processName\": \"MainProcess\"}\n",
      "2023-11-10 12:35:48.945     INFO:    calibrations: Applying master calibration | {\"filename\": \"coj2m002-en12-20200813-0014-e00.fits.fz\", \"site\": \"coj\", \"instrument\": \"floyds02\", \"epoch\": \"20200813\", \"request_num\": \"2207712\", \"obstype\": \"SPECTRUM\", \"filter\": \"air\", \"master_calibration\": \"coj2m002-en12-20200813-lampflat-0.1MHz_2.0preamp.fits.fz\", \"processName\": \"MainProcess\"}\n",
      "2023-11-10 12:35:48.947     INFO:          stages: Running banzai.stages.FringeCorrector | {\"filename\": \"coj2m002-en12-20200813-0014-e00.fits.fz\", \"site\": \"coj\", \"instrument\": \"floyds02\", \"epoch\": \"20200813\", \"request_num\": \"2207712\", \"obstype\": \"SPECTRUM\", \"filter\": \"air\", \"processName\": \"MainProcess\"}\n",
      "2023-11-10 12:36:08.699  WARNING:        warnings: /Users/cmccully/miniconda3/envs/banzai-floyds/lib/python3.10/site-packages/astropy/io/fits/card.py:1038: VerifyWarning: Card is too long, comment will be truncated.\n",
      "  warnings.warn(\n",
      "\n",
      "2023-11-10 12:36:09.447     INFO:      fits_utils: Downloading file coj2m002-en12-20200813-0026-e00.fits.fz from archive. ID: 33852323. | {\"filename\": \"coj2m002-en12-20200813-0026-e00.fits.fz\", \"attempt_number\": 1, \"processName\": \"MainProcess\"}\n",
      "2023-11-10 12:36:11.599     INFO:          stages: Running banzai.stages.OverscanSubtractor | {\"filename\": \"coj2m002-en12-20200813-0026-e00.fits.fz\", \"site\": \"coj\", \"instrument\": \"floyds02\", \"epoch\": \"20200813\", \"request_num\": \"2207853\", \"obstype\": \"SPECTRUM\", \"filter\": \"air\", \"processName\": \"MainProcess\"}\n",
      "2023-11-10 12:36:11.602     INFO:          stages: Running banzai.stages.Trimmer | {\"filename\": \"coj2m002-en12-20200813-0026-e00.fits.fz\", \"site\": \"coj\", \"instrument\": \"floyds02\", \"epoch\": \"20200813\", \"request_num\": \"2207853\", \"obstype\": \"SPECTRUM\", \"filter\": \"air\", \"processName\": \"MainProcess\"}\n",
      "2023-11-10 12:36:11.603     INFO:            trim: Trimming image | {\"filename\": \"coj2m002-en12-20200813-0026-e00.fits.fz\", \"site\": \"coj\", \"instrument\": \"floyds02\", \"epoch\": \"20200813\", \"request_num\": \"2207853\", \"obstype\": \"SPECTRUM\", \"filter\": \"air\", \"processName\": \"MainProcess\"}\n",
      "2023-11-10 12:36:11.665     INFO:          stages: Running banzai.stages.GainNormalizer | {\"filename\": \"coj2m002-en12-20200813-0026-e00.fits.fz\", \"site\": \"coj\", \"instrument\": \"floyds02\", \"epoch\": \"20200813\", \"request_num\": \"2207853\", \"obstype\": \"SPECTRUM\", \"filter\": \"air\", \"processName\": \"MainProcess\"}\n",
      "2023-11-10 12:36:11.666     INFO:            gain: Multiplying by gain | {\"filename\": \"coj2m002-en12-20200813-0026-e00.fits.fz\", \"site\": \"coj\", \"instrument\": \"floyds02\", \"epoch\": \"20200813\", \"request_num\": \"2207853\", \"obstype\": \"SPECTRUM\", \"filter\": \"air\", \"processName\": \"MainProcess\"}\n",
      "2023-11-10 12:36:11.668     INFO:          stages: Running banzai.stages.PoissonInitializer | {\"filename\": \"coj2m002-en12-20200813-0026-e00.fits.fz\", \"site\": \"coj\", \"instrument\": \"floyds02\", \"epoch\": \"20200813\", \"request_num\": \"2207853\", \"obstype\": \"SPECTRUM\", \"filter\": \"air\", \"processName\": \"MainProcess\"}\n",
      "2023-11-10 12:36:11.673     INFO:          stages: Running banzai.stages.OrderLoader | {\"filename\": \"coj2m002-en12-20200813-0026-e00.fits.fz\", \"site\": \"coj\", \"instrument\": \"floyds02\", \"epoch\": \"20200813\", \"request_num\": \"2207853\", \"obstype\": \"SPECTRUM\", \"filter\": \"air\", \"processName\": \"MainProcess\"}\n",
      "2023-11-10 12:36:11.811     INFO:    calibrations: Applying master calibration | {\"filename\": \"coj2m002-en12-20200813-0026-e00.fits.fz\", \"site\": \"coj\", \"instrument\": \"floyds02\", \"epoch\": \"20200813\", \"request_num\": \"2207853\", \"obstype\": \"SPECTRUM\", \"filter\": \"air\", \"master_calibration\": \"coj2m002-en12-20220313-0002-f91.fits.fz\", \"processName\": \"MainProcess\"}\n",
      "2023-11-10 12:36:11.828     INFO:          stages: Running banzai.stages.OrderTweaker | {\"filename\": \"coj2m002-en12-20200813-0026-e00.fits.fz\", \"site\": \"coj\", \"instrument\": \"floyds02\", \"epoch\": \"20200813\", \"request_num\": \"2207853\", \"obstype\": \"SPECTRUM\", \"filter\": \"air\", \"processName\": \"MainProcess\"}\n",
      "2023-11-10 12:36:12.138     INFO:          stages: Running banzai.stages.WavelengthSolutionLoader | {\"filename\": \"coj2m002-en12-20200813-0026-e00.fits.fz\", \"site\": \"coj\", \"instrument\": \"floyds02\", \"epoch\": \"20200813\", \"request_num\": \"2207853\", \"obstype\": \"SPECTRUM\", \"filter\": \"air\", \"processName\": \"MainProcess\"}\n",
      "2023-11-10 12:36:12.314     INFO:    calibrations: Applying master calibration | {\"filename\": \"coj2m002-en12-20200813-0026-e00.fits.fz\", \"site\": \"coj\", \"instrument\": \"floyds02\", \"epoch\": \"20200813\", \"request_num\": \"2207853\", \"obstype\": \"SPECTRUM\", \"filter\": \"air\", \"master_calibration\": \"coj2m002-en12-20200813-0028-a91.fits.fz\", \"processName\": \"MainProcess\"}\n",
      "2023-11-10 12:36:12.318     INFO:          stages: Running banzai.stages.FringeLoader | {\"filename\": \"coj2m002-en12-20200813-0026-e00.fits.fz\", \"site\": \"coj\", \"instrument\": \"floyds02\", \"epoch\": \"20200813\", \"request_num\": \"2207853\", \"obstype\": \"SPECTRUM\", \"filter\": \"air\", \"processName\": \"MainProcess\"}\n",
      "2023-11-10 12:36:12.415     INFO:    calibrations: Applying master calibration | {\"filename\": \"coj2m002-en12-20200813-0026-e00.fits.fz\", \"site\": \"coj\", \"instrument\": \"floyds02\", \"epoch\": \"20200813\", \"request_num\": \"2207853\", \"obstype\": \"SPECTRUM\", \"filter\": \"air\", \"master_calibration\": \"coj2m002-en12-20200813-lampflat-0.1MHz_2.0preamp.fits.fz\", \"processName\": \"MainProcess\"}\n",
      "2023-11-10 12:36:12.417     INFO:          stages: Running banzai.stages.FringeCorrector | {\"filename\": \"coj2m002-en12-20200813-0026-e00.fits.fz\", \"site\": \"coj\", \"instrument\": \"floyds02\", \"epoch\": \"20200813\", \"request_num\": \"2207853\", \"obstype\": \"SPECTRUM\", \"filter\": \"air\", \"processName\": \"MainProcess\"}\n",
      "2023-11-10 12:36:30.927     INFO:      fits_utils: Downloading file ogg2m001-en06-20200822-0007-e00.fits.fz from archive. ID: 33989111. | {\"filename\": \"ogg2m001-en06-20200822-0007-e00.fits.fz\", \"attempt_number\": 1, \"processName\": \"MainProcess\"}\n",
      "2023-11-10 12:36:32.842     INFO:          stages: Running banzai.stages.OverscanSubtractor | {\"filename\": \"ogg2m001-en06-20200822-0007-e00.fits.fz\", \"site\": \"ogg\", \"instrument\": \"floyds01\", \"epoch\": \"20200822\", \"request_num\": \"2217414\", \"obstype\": \"SPECTRUM\", \"filter\": \"air\", \"processName\": \"MainProcess\"}\n",
      "2023-11-10 12:36:32.845     INFO:          stages: Running banzai.stages.Trimmer | {\"filename\": \"ogg2m001-en06-20200822-0007-e00.fits.fz\", \"site\": \"ogg\", \"instrument\": \"floyds01\", \"epoch\": \"20200822\", \"request_num\": \"2217414\", \"obstype\": \"SPECTRUM\", \"filter\": \"air\", \"processName\": \"MainProcess\"}\n",
      "2023-11-10 12:36:32.846     INFO:            trim: Trimming image | {\"filename\": \"ogg2m001-en06-20200822-0007-e00.fits.fz\", \"site\": \"ogg\", \"instrument\": \"floyds01\", \"epoch\": \"20200822\", \"request_num\": \"2217414\", \"obstype\": \"SPECTRUM\", \"filter\": \"air\", \"processName\": \"MainProcess\"}\n",
      "2023-11-10 12:36:32.900     INFO:          stages: Running banzai.stages.GainNormalizer | {\"filename\": \"ogg2m001-en06-20200822-0007-e00.fits.fz\", \"site\": \"ogg\", \"instrument\": \"floyds01\", \"epoch\": \"20200822\", \"request_num\": \"2217414\", \"obstype\": \"SPECTRUM\", \"filter\": \"air\", \"processName\": \"MainProcess\"}\n",
      "2023-11-10 12:36:32.900     INFO:            gain: Multiplying by gain | {\"filename\": \"ogg2m001-en06-20200822-0007-e00.fits.fz\", \"site\": \"ogg\", \"instrument\": \"floyds01\", \"epoch\": \"20200822\", \"request_num\": \"2217414\", \"obstype\": \"SPECTRUM\", \"filter\": \"air\", \"processName\": \"MainProcess\"}\n",
      "2023-11-10 12:36:32.902     INFO:          stages: Running banzai.stages.PoissonInitializer | {\"filename\": \"ogg2m001-en06-20200822-0007-e00.fits.fz\", \"site\": \"ogg\", \"instrument\": \"floyds01\", \"epoch\": \"20200822\", \"request_num\": \"2217414\", \"obstype\": \"SPECTRUM\", \"filter\": \"air\", \"processName\": \"MainProcess\"}\n",
      "2023-11-10 12:36:32.907     INFO:          stages: Running banzai.stages.OrderLoader | {\"filename\": \"ogg2m001-en06-20200822-0007-e00.fits.fz\", \"site\": \"ogg\", \"instrument\": \"floyds01\", \"epoch\": \"20200822\", \"request_num\": \"2217414\", \"obstype\": \"SPECTRUM\", \"filter\": \"air\", \"processName\": \"MainProcess\"}\n",
      "2023-11-10 12:36:33.070     INFO:    calibrations: Applying master calibration | {\"filename\": \"ogg2m001-en06-20200822-0007-e00.fits.fz\", \"site\": \"ogg\", \"instrument\": \"floyds01\", \"epoch\": \"20200822\", \"request_num\": \"2217414\", \"obstype\": \"SPECTRUM\", \"filter\": \"air\", \"master_calibration\": \"ogg2m001-en06-20190329-0018-f91.fits.fz\", \"processName\": \"MainProcess\"}\n",
      "2023-11-10 12:36:33.073     INFO:          stages: Running banzai.stages.OrderTweaker | {\"filename\": \"ogg2m001-en06-20200822-0007-e00.fits.fz\", \"site\": \"ogg\", \"instrument\": \"floyds01\", \"epoch\": \"20200822\", \"request_num\": \"2217414\", \"obstype\": \"SPECTRUM\", \"filter\": \"air\", \"processName\": \"MainProcess\"}\n",
      "2023-11-10 12:36:33.172     INFO:          stages: Running banzai.stages.WavelengthSolutionLoader | {\"filename\": \"ogg2m001-en06-20200822-0007-e00.fits.fz\", \"site\": \"ogg\", \"instrument\": \"floyds01\", \"epoch\": \"20200822\", \"request_num\": \"2217414\", \"obstype\": \"SPECTRUM\", \"filter\": \"air\", \"processName\": \"MainProcess\"}\n",
      "2023-11-10 12:36:33.336     INFO:    calibrations: Applying master calibration | {\"filename\": \"ogg2m001-en06-20200822-0007-e00.fits.fz\", \"site\": \"ogg\", \"instrument\": \"floyds01\", \"epoch\": \"20200822\", \"request_num\": \"2217414\", \"obstype\": \"SPECTRUM\", \"filter\": \"air\", \"master_calibration\": \"ogg2m001-en06-20200822-0009-a91.fits.fz\", \"processName\": \"MainProcess\"}\n",
      "2023-11-10 12:36:33.340     INFO:          stages: Running banzai.stages.FringeLoader | {\"filename\": \"ogg2m001-en06-20200822-0007-e00.fits.fz\", \"site\": \"ogg\", \"instrument\": \"floyds01\", \"epoch\": \"20200822\", \"request_num\": \"2217414\", \"obstype\": \"SPECTRUM\", \"filter\": \"air\", \"processName\": \"MainProcess\"}\n",
      "2023-11-10 12:36:33.432     INFO:    calibrations: Applying master calibration | {\"filename\": \"ogg2m001-en06-20200822-0007-e00.fits.fz\", \"site\": \"ogg\", \"instrument\": \"floyds01\", \"epoch\": \"20200822\", \"request_num\": \"2217414\", \"obstype\": \"SPECTRUM\", \"filter\": \"air\", \"master_calibration\": \"ogg2m001-en06-20200822-lampflat-0.1MHz_2.0preamp.fits.fz\", \"processName\": \"MainProcess\"}\n",
      "2023-11-10 12:36:33.434     INFO:          stages: Running banzai.stages.FringeCorrector | {\"filename\": \"ogg2m001-en06-20200822-0007-e00.fits.fz\", \"site\": \"ogg\", \"instrument\": \"floyds01\", \"epoch\": \"20200822\", \"request_num\": \"2217414\", \"obstype\": \"SPECTRUM\", \"filter\": \"air\", \"processName\": \"MainProcess\"}\n",
      "2023-11-10 12:36:53.016     INFO:      fits_utils: Downloading file ogg2m001-en06-20200822-0027-e00.fits.fz from archive. ID: 33994991. | {\"filename\": \"ogg2m001-en06-20200822-0027-e00.fits.fz\", \"attempt_number\": 1, \"processName\": \"MainProcess\"}\n",
      "2023-11-10 12:36:55.239     INFO:          stages: Running banzai.stages.OverscanSubtractor | {\"filename\": \"ogg2m001-en06-20200822-0027-e00.fits.fz\", \"site\": \"ogg\", \"instrument\": \"floyds01\", \"epoch\": \"20200822\", \"request_num\": \"2217762\", \"obstype\": \"SPECTRUM\", \"filter\": \"air\", \"processName\": \"MainProcess\"}\n",
      "2023-11-10 12:36:55.242     INFO:          stages: Running banzai.stages.Trimmer | {\"filename\": \"ogg2m001-en06-20200822-0027-e00.fits.fz\", \"site\": \"ogg\", \"instrument\": \"floyds01\", \"epoch\": \"20200822\", \"request_num\": \"2217762\", \"obstype\": \"SPECTRUM\", \"filter\": \"air\", \"processName\": \"MainProcess\"}\n",
      "2023-11-10 12:36:55.243     INFO:            trim: Trimming image | {\"filename\": \"ogg2m001-en06-20200822-0027-e00.fits.fz\", \"site\": \"ogg\", \"instrument\": \"floyds01\", \"epoch\": \"20200822\", \"request_num\": \"2217762\", \"obstype\": \"SPECTRUM\", \"filter\": \"air\", \"processName\": \"MainProcess\"}\n",
      "2023-11-10 12:36:55.311     INFO:          stages: Running banzai.stages.GainNormalizer | {\"filename\": \"ogg2m001-en06-20200822-0027-e00.fits.fz\", \"site\": \"ogg\", \"instrument\": \"floyds01\", \"epoch\": \"20200822\", \"request_num\": \"2217762\", \"obstype\": \"SPECTRUM\", \"filter\": \"air\", \"processName\": \"MainProcess\"}\n",
      "2023-11-10 12:36:55.311     INFO:            gain: Multiplying by gain | {\"filename\": \"ogg2m001-en06-20200822-0027-e00.fits.fz\", \"site\": \"ogg\", \"instrument\": \"floyds01\", \"epoch\": \"20200822\", \"request_num\": \"2217762\", \"obstype\": \"SPECTRUM\", \"filter\": \"air\", \"processName\": \"MainProcess\"}\n",
      "2023-11-10 12:36:55.313     INFO:          stages: Running banzai.stages.PoissonInitializer | {\"filename\": \"ogg2m001-en06-20200822-0027-e00.fits.fz\", \"site\": \"ogg\", \"instrument\": \"floyds01\", \"epoch\": \"20200822\", \"request_num\": \"2217762\", \"obstype\": \"SPECTRUM\", \"filter\": \"air\", \"processName\": \"MainProcess\"}\n",
      "2023-11-10 12:36:55.318     INFO:          stages: Running banzai.stages.OrderLoader | {\"filename\": \"ogg2m001-en06-20200822-0027-e00.fits.fz\", \"site\": \"ogg\", \"instrument\": \"floyds01\", \"epoch\": \"20200822\", \"request_num\": \"2217762\", \"obstype\": \"SPECTRUM\", \"filter\": \"air\", \"processName\": \"MainProcess\"}\n",
      "2023-11-10 12:36:55.464     INFO:    calibrations: Applying master calibration | {\"filename\": \"ogg2m001-en06-20200822-0027-e00.fits.fz\", \"site\": \"ogg\", \"instrument\": \"floyds01\", \"epoch\": \"20200822\", \"request_num\": \"2217762\", \"obstype\": \"SPECTRUM\", \"filter\": \"air\", \"master_calibration\": \"ogg2m001-en06-20190329-0018-f91.fits.fz\", \"processName\": \"MainProcess\"}\n",
      "2023-11-10 12:36:55.467     INFO:          stages: Running banzai.stages.OrderTweaker | {\"filename\": \"ogg2m001-en06-20200822-0027-e00.fits.fz\", \"site\": \"ogg\", \"instrument\": \"floyds01\", \"epoch\": \"20200822\", \"request_num\": \"2217762\", \"obstype\": \"SPECTRUM\", \"filter\": \"air\", \"processName\": \"MainProcess\"}\n",
      "2023-11-10 12:36:55.815     INFO:          stages: Running banzai.stages.WavelengthSolutionLoader | {\"filename\": \"ogg2m001-en06-20200822-0027-e00.fits.fz\", \"site\": \"ogg\", \"instrument\": \"floyds01\", \"epoch\": \"20200822\", \"request_num\": \"2217762\", \"obstype\": \"SPECTRUM\", \"filter\": \"air\", \"processName\": \"MainProcess\"}\n",
      "2023-11-10 12:36:55.995     INFO:    calibrations: Applying master calibration | {\"filename\": \"ogg2m001-en06-20200822-0027-e00.fits.fz\", \"site\": \"ogg\", \"instrument\": \"floyds01\", \"epoch\": \"20200822\", \"request_num\": \"2217762\", \"obstype\": \"SPECTRUM\", \"filter\": \"air\", \"master_calibration\": \"ogg2m001-en06-20200822-0028-a91.fits.fz\", \"processName\": \"MainProcess\"}\n",
      "2023-11-10 12:36:56.000     INFO:          stages: Running banzai.stages.FringeLoader | {\"filename\": \"ogg2m001-en06-20200822-0027-e00.fits.fz\", \"site\": \"ogg\", \"instrument\": \"floyds01\", \"epoch\": \"20200822\", \"request_num\": \"2217762\", \"obstype\": \"SPECTRUM\", \"filter\": \"air\", \"processName\": \"MainProcess\"}\n",
      "2023-11-10 12:36:56.092     INFO:    calibrations: Applying master calibration | {\"filename\": \"ogg2m001-en06-20200822-0027-e00.fits.fz\", \"site\": \"ogg\", \"instrument\": \"floyds01\", \"epoch\": \"20200822\", \"request_num\": \"2217762\", \"obstype\": \"SPECTRUM\", \"filter\": \"air\", \"master_calibration\": \"ogg2m001-en06-20200822-lampflat-0.1MHz_2.0preamp.fits.fz\", \"processName\": \"MainProcess\"}\n",
      "2023-11-10 12:36:56.094     INFO:          stages: Running banzai.stages.FringeCorrector | {\"filename\": \"ogg2m001-en06-20200822-0027-e00.fits.fz\", \"site\": \"ogg\", \"instrument\": \"floyds01\", \"epoch\": \"20200822\", \"request_num\": \"2217762\", \"obstype\": \"SPECTRUM\", \"filter\": \"air\", \"processName\": \"MainProcess\"}\n"
     ]
    }
   ],
   "source": [
    "test_data = ascii.read(os.path.join(importlib.resources.files('banzai_floyds.tests'), 'data/test_data.dat'))\n",
    "standards = []\n",
    "for row in test_data:\n",
    "    if 'e00.fits' in row['filename']:\n",
    "        frame_data = requests.get(settings.RAW_DATA_FRAME_URL + f'/{row[\"frameid\"]}/headers/').json()['data']\n",
    "        coord = SkyCoord(frame_data['RA'], frame_data['DEC'], unit=(units.hourangle, units.deg))\n",
    "        if dbs.get_standard(coord.ra.deg, coord.dec.deg, settings.db_address, offset_threshold=5) is not None:\n",
    "            run_pipeline_stages([{'filename': row['filename'], 'RLEVEL': 0, 'frameid': row['frameid']}], context)\n",
    "            standards.append(row['frameid'])"
   ]
  },
  {
   "cell_type": "code",
   "execution_count": 8,
   "id": "0e0e455f-37d9-483c-9daf-924c03118336",
   "metadata": {},
   "outputs": [
    {
     "name": "stdout",
     "output_type": "stream",
     "text": [
      "> \u001b[0;32m/Users/cmccully/miniconda3/envs/banzai-floyds/lib/python3.10/site-packages/astropy/io/fits/hdu/image.py\u001b[0m(291)\u001b[0;36mdata\u001b[0;34m()\u001b[0m\n",
      "\u001b[0;32m    289 \u001b[0;31m            \u001b[0;31m# Set new values of bitpix, bzero, and bscale now, but wait to\u001b[0m\u001b[0;34m\u001b[0m\u001b[0;34m\u001b[0m\u001b[0m\n",
      "\u001b[0m\u001b[0;32m    290 \u001b[0;31m            \u001b[0;31m# revise original values until header is updated.\u001b[0m\u001b[0;34m\u001b[0m\u001b[0;34m\u001b[0m\u001b[0m\n",
      "\u001b[0m\u001b[0;32m--> 291 \u001b[0;31m            \u001b[0mself\u001b[0m\u001b[0;34m.\u001b[0m\u001b[0m_bitpix\u001b[0m \u001b[0;34m=\u001b[0m \u001b[0mDTYPE2BITPIX\u001b[0m\u001b[0;34m[\u001b[0m\u001b[0mdata\u001b[0m\u001b[0;34m.\u001b[0m\u001b[0mdtype\u001b[0m\u001b[0;34m.\u001b[0m\u001b[0mname\u001b[0m\u001b[0;34m]\u001b[0m\u001b[0;34m\u001b[0m\u001b[0;34m\u001b[0m\u001b[0m\n",
      "\u001b[0m\u001b[0;32m    292 \u001b[0;31m            \u001b[0mself\u001b[0m\u001b[0;34m.\u001b[0m\u001b[0m_bscale\u001b[0m \u001b[0;34m=\u001b[0m \u001b[0;36m1\u001b[0m\u001b[0;34m\u001b[0m\u001b[0;34m\u001b[0m\u001b[0m\n",
      "\u001b[0m\u001b[0;32m    293 \u001b[0;31m            \u001b[0mself\u001b[0m\u001b[0;34m.\u001b[0m\u001b[0m_bzero\u001b[0m \u001b[0;34m=\u001b[0m \u001b[0;36m0\u001b[0m\u001b[0;34m\u001b[0m\u001b[0;34m\u001b[0m\u001b[0m\n",
      "\u001b[0m\n"
     ]
    },
    {
     "name": "stdin",
     "output_type": "stream",
     "text": [
      "ipdb>  u\n"
     ]
    },
    {
     "name": "stdout",
     "output_type": "stream",
     "text": [
      "> \u001b[0;32m/Users/cmccully/miniconda3/envs/banzai-floyds/lib/python3.10/site-packages/astropy/utils/decorators.py\u001b[0m(848)\u001b[0;36m__set__\u001b[0;34m()\u001b[0m\n",
      "\u001b[0;32m    846 \u001b[0;31m        \u001b[0mobj_dict\u001b[0m \u001b[0;34m=\u001b[0m \u001b[0mobj\u001b[0m\u001b[0;34m.\u001b[0m\u001b[0m__dict__\u001b[0m\u001b[0;34m\u001b[0m\u001b[0;34m\u001b[0m\u001b[0m\n",
      "\u001b[0m\u001b[0;32m    847 \u001b[0;31m        \u001b[0;32mif\u001b[0m \u001b[0mself\u001b[0m\u001b[0;34m.\u001b[0m\u001b[0mfset\u001b[0m\u001b[0;34m:\u001b[0m\u001b[0;34m\u001b[0m\u001b[0;34m\u001b[0m\u001b[0m\n",
      "\u001b[0m\u001b[0;32m--> 848 \u001b[0;31m            \u001b[0mret\u001b[0m \u001b[0;34m=\u001b[0m \u001b[0mself\u001b[0m\u001b[0;34m.\u001b[0m\u001b[0mfset\u001b[0m\u001b[0;34m(\u001b[0m\u001b[0mobj\u001b[0m\u001b[0;34m,\u001b[0m \u001b[0mval\u001b[0m\u001b[0;34m)\u001b[0m\u001b[0;34m\u001b[0m\u001b[0;34m\u001b[0m\u001b[0m\n",
      "\u001b[0m\u001b[0;32m    849 \u001b[0;31m            \u001b[0;32mif\u001b[0m \u001b[0mret\u001b[0m \u001b[0;32mis\u001b[0m \u001b[0;32mnot\u001b[0m \u001b[0;32mNone\u001b[0m \u001b[0;32mand\u001b[0m \u001b[0mobj_dict\u001b[0m\u001b[0;34m.\u001b[0m\u001b[0mget\u001b[0m\u001b[0;34m(\u001b[0m\u001b[0mself\u001b[0m\u001b[0;34m.\u001b[0m\u001b[0m_key\u001b[0m\u001b[0;34m)\u001b[0m \u001b[0;32mis\u001b[0m \u001b[0mret\u001b[0m\u001b[0;34m:\u001b[0m\u001b[0;34m\u001b[0m\u001b[0;34m\u001b[0m\u001b[0m\n",
      "\u001b[0m\u001b[0;32m    850 \u001b[0;31m                \u001b[0;31m# By returning the value set the setter signals that it\u001b[0m\u001b[0;34m\u001b[0m\u001b[0;34m\u001b[0m\u001b[0m\n",
      "\u001b[0m\n"
     ]
    },
    {
     "name": "stdin",
     "output_type": "stream",
     "text": [
      "ipdb>  u\n"
     ]
    },
    {
     "name": "stdout",
     "output_type": "stream",
     "text": [
      "> \u001b[0;32m/Users/cmccully/miniconda3/envs/banzai-floyds/lib/python3.10/site-packages/astropy/io/fits/hdu/image.py\u001b[0m(155)\u001b[0;36m__init__\u001b[0;34m()\u001b[0m\n",
      "\u001b[0;32m    153 \u001b[0;31m            \u001b[0;31m# and _bscale to the appropriate BITPIX for the data, and always\u001b[0m\u001b[0;34m\u001b[0m\u001b[0;34m\u001b[0m\u001b[0m\n",
      "\u001b[0m\u001b[0;32m    154 \u001b[0;31m            \u001b[0;31m# sets _bzero=0 and _bscale=1.\u001b[0m\u001b[0;34m\u001b[0m\u001b[0;34m\u001b[0m\u001b[0m\n",
      "\u001b[0m\u001b[0;32m--> 155 \u001b[0;31m            \u001b[0mself\u001b[0m\u001b[0;34m.\u001b[0m\u001b[0mdata\u001b[0m \u001b[0;34m=\u001b[0m \u001b[0mdata\u001b[0m\u001b[0;34m\u001b[0m\u001b[0;34m\u001b[0m\u001b[0m\n",
      "\u001b[0m\u001b[0;32m    156 \u001b[0;31m\u001b[0;34m\u001b[0m\u001b[0m\n",
      "\u001b[0m\u001b[0;32m    157 \u001b[0;31m            \u001b[0;31m# Check again for BITPIX/BSCALE/BZERO in case they changed when the\u001b[0m\u001b[0;34m\u001b[0m\u001b[0;34m\u001b[0m\u001b[0m\n",
      "\u001b[0m\n"
     ]
    },
    {
     "name": "stdin",
     "output_type": "stream",
     "text": [
      "ipdb>  u\n"
     ]
    },
    {
     "name": "stdout",
     "output_type": "stream",
     "text": [
      "> \u001b[0;32m/Users/cmccully/miniconda3/envs/banzai-floyds/lib/python3.10/site-packages/astropy/io/fits/hdu/image.py\u001b[0m(1237)\u001b[0;36m__init__\u001b[0;34m()\u001b[0m\n",
      "\u001b[0;32m   1235 \u001b[0;31m        \u001b[0;31m# and is only explicitly defined for the docstring.\u001b[0m\u001b[0;34m\u001b[0m\u001b[0;34m\u001b[0m\u001b[0m\n",
      "\u001b[0m\u001b[0;32m   1236 \u001b[0;31m\u001b[0;34m\u001b[0m\u001b[0m\n",
      "\u001b[0m\u001b[0;32m-> 1237 \u001b[0;31m        super().__init__(\n",
      "\u001b[0m\u001b[0;32m   1238 \u001b[0;31m            \u001b[0mdata\u001b[0m\u001b[0;34m=\u001b[0m\u001b[0mdata\u001b[0m\u001b[0;34m,\u001b[0m\u001b[0;34m\u001b[0m\u001b[0;34m\u001b[0m\u001b[0m\n",
      "\u001b[0m\u001b[0;32m   1239 \u001b[0;31m            \u001b[0mheader\u001b[0m\u001b[0;34m=\u001b[0m\u001b[0mheader\u001b[0m\u001b[0;34m,\u001b[0m\u001b[0;34m\u001b[0m\u001b[0;34m\u001b[0m\u001b[0m\n",
      "\u001b[0m\n"
     ]
    },
    {
     "name": "stdin",
     "output_type": "stream",
     "text": [
      "ipdb>  u\n"
     ]
    },
    {
     "name": "stdout",
     "output_type": "stream",
     "text": [
      "> \u001b[0;32m/Users/cmccully/miniconda3/envs/banzai-floyds/lib/python3.10/site-packages/astropy/io/fits/hdu/compressed.py\u001b[0m(861)\u001b[0;36m_update_header_data\u001b[0;34m()\u001b[0m\n",
      "\u001b[0;32m    859 \u001b[0;31m        \u001b[0mself\u001b[0m\u001b[0;34m.\u001b[0m\u001b[0m_remove_unnecessary_default_extnames\u001b[0m\u001b[0;34m(\u001b[0m\u001b[0mself\u001b[0m\u001b[0;34m.\u001b[0m\u001b[0m_header\u001b[0m\u001b[0;34m)\u001b[0m\u001b[0;34m\u001b[0m\u001b[0;34m\u001b[0m\u001b[0m\n",
      "\u001b[0m\u001b[0;32m    860 \u001b[0;31m\u001b[0;34m\u001b[0m\u001b[0m\n",
      "\u001b[0m\u001b[0;32m--> 861 \u001b[0;31m        \u001b[0mimage_hdu\u001b[0m \u001b[0;34m=\u001b[0m \u001b[0mImageHDU\u001b[0m\u001b[0;34m(\u001b[0m\u001b[0mdata\u001b[0m\u001b[0;34m=\u001b[0m\u001b[0mself\u001b[0m\u001b[0;34m.\u001b[0m\u001b[0mdata\u001b[0m\u001b[0;34m,\u001b[0m \u001b[0mheader\u001b[0m\u001b[0;34m=\u001b[0m\u001b[0mself\u001b[0m\u001b[0;34m.\u001b[0m\u001b[0m_header\u001b[0m\u001b[0;34m)\u001b[0m\u001b[0;34m\u001b[0m\u001b[0;34m\u001b[0m\u001b[0m\n",
      "\u001b[0m\u001b[0;32m    862 \u001b[0;31m        \u001b[0mself\u001b[0m\u001b[0;34m.\u001b[0m\u001b[0m_image_header\u001b[0m \u001b[0;34m=\u001b[0m \u001b[0mCompImageHeader\u001b[0m\u001b[0;34m(\u001b[0m\u001b[0mself\u001b[0m\u001b[0;34m.\u001b[0m\u001b[0m_header\u001b[0m\u001b[0;34m,\u001b[0m \u001b[0mimage_hdu\u001b[0m\u001b[0;34m.\u001b[0m\u001b[0mheader\u001b[0m\u001b[0;34m)\u001b[0m\u001b[0;34m\u001b[0m\u001b[0;34m\u001b[0m\u001b[0m\n",
      "\u001b[0m\u001b[0;32m    863 \u001b[0;31m        \u001b[0mself\u001b[0m\u001b[0;34m.\u001b[0m\u001b[0m_axes\u001b[0m \u001b[0;34m=\u001b[0m \u001b[0mimage_hdu\u001b[0m\u001b[0;34m.\u001b[0m\u001b[0m_axes\u001b[0m\u001b[0;34m\u001b[0m\u001b[0;34m\u001b[0m\u001b[0m\n",
      "\u001b[0m\n"
     ]
    },
    {
     "name": "stdin",
     "output_type": "stream",
     "text": [
      "ipdb>  data\n"
     ]
    },
    {
     "name": "stdout",
     "output_type": "stream",
     "text": [
      "*** NameError: name 'data' is not defined\n"
     ]
    },
    {
     "name": "stdin",
     "output_type": "stream",
     "text": [
      "ipdb>  self.data\n"
     ]
    },
    {
     "name": "stdout",
     "output_type": "stream",
     "text": [
      "array([None], dtype=object)\n"
     ]
    },
    {
     "name": "stdin",
     "output_type": "stream",
     "text": [
      "ipdb>  header\n"
     ]
    },
    {
     "name": "stdout",
     "output_type": "stream",
     "text": [
      "*** NameError: name 'header' is not defined\n"
     ]
    },
    {
     "name": "stdin",
     "output_type": "stream",
     "text": [
      "ipdb>  self._header\n"
     ]
    },
    {
     "name": "stdout",
     "output_type": "stream",
     "text": [
      "XTENSION= 'BINTABLE'           / binary table extension                         \n",
      "BITPIX  =                    8 / array data type                                \n",
      "NAXIS   =                    2 / number of array dimensions                     \n",
      "NAXIS1  =                    0 / length of dimension 1                          \n",
      "NAXIS2  =                    0 / length of dimension 2                          \n",
      "PCOUNT  =                    0 / number of group parameters                     \n",
      "GCOUNT  =                    1 / number of groups                               \n",
      "TFIELDS =                    0 / number of table fields                         \n",
      "LINWIDE1=    18.35631405646707                                                  \n",
      "LINTILT1=     8.29424378196516                                                  \n",
      "POLYORD1=                    3                                                  \n",
      "POLYDOM1= '[0.0, 1700.0]'                                                       \n",
      "COEF1_0 =    7420.633870638372                                                  \n",
      "COEF1_1 =   2963.7830263602964                                                  \n",
      "COEF1_2 =     9.68083292950284                                                  \n",
      "COEF1_3 =  -4.2472310383995815                                                  \n",
      "LINWIDE2=    9.170576809300446                                                  \n",
      "LINTILT2=    8.147865857787925                                                  \n",
      "POLYORD2=                    2                                                  \n",
      "POLYDOM2= '[630.0, 1975.0]'                                                     \n",
      "COEF2_0 =    4557.124647112705                                                  \n",
      "COEF2_1 =    1160.079492386367                                                  \n",
      "COEF2_2 =    7.906159138907725                                                  \n",
      "EXTNAME = 'WAVELENGTHS'                                                         \n"
     ]
    },
    {
     "name": "stdin",
     "output_type": "stream",
     "text": [
      "ipdb>  u\n"
     ]
    },
    {
     "name": "stdout",
     "output_type": "stream",
     "text": [
      "> \u001b[0;32m/Users/cmccully/miniconda3/envs/banzai-floyds/lib/python3.10/site-packages/astropy/io/fits/hdu/compressed.py\u001b[0m(694)\u001b[0;36m__init__\u001b[0;34m()\u001b[0m\n",
      "\u001b[0;32m    692 \u001b[0;31m            \u001b[0;31m# data; Create the initially empty table data array to\u001b[0m\u001b[0;34m\u001b[0m\u001b[0;34m\u001b[0m\u001b[0m\n",
      "\u001b[0m\u001b[0;32m    693 \u001b[0;31m            \u001b[0;31m# hold the compressed data.\u001b[0m\u001b[0;34m\u001b[0m\u001b[0;34m\u001b[0m\u001b[0m\n",
      "\u001b[0m\u001b[0;32m--> 694 \u001b[0;31m            self._update_header_data(\n",
      "\u001b[0m\u001b[0;32m    695 \u001b[0;31m                \u001b[0mheader\u001b[0m\u001b[0;34m,\u001b[0m\u001b[0;34m\u001b[0m\u001b[0;34m\u001b[0m\u001b[0m\n",
      "\u001b[0m\u001b[0;32m    696 \u001b[0;31m                \u001b[0mname\u001b[0m\u001b[0;34m,\u001b[0m\u001b[0;34m\u001b[0m\u001b[0;34m\u001b[0m\u001b[0m\n",
      "\u001b[0m\n"
     ]
    },
    {
     "name": "stdin",
     "output_type": "stream",
     "text": [
      "ipdb>  u\n"
     ]
    },
    {
     "name": "stdout",
     "output_type": "stream",
     "text": [
      "> \u001b[0;32m/Users/cmccully/miniconda3/envs/banzai-floyds/lib/python3.10/site-packages/astropy/utils/decorators.py\u001b[0m(604)\u001b[0;36mwrapper\u001b[0;34m()\u001b[0m\n",
      "\u001b[0;32m    602 \u001b[0;31m                    \u001b[0mwarnings\u001b[0m\u001b[0;34m.\u001b[0m\u001b[0mwarn\u001b[0m\u001b[0;34m(\u001b[0m\u001b[0mmsg\u001b[0m\u001b[0;34m,\u001b[0m \u001b[0mwarning_type\u001b[0m\u001b[0;34m,\u001b[0m \u001b[0mstacklevel\u001b[0m\u001b[0;34m=\u001b[0m\u001b[0;36m2\u001b[0m\u001b[0;34m)\u001b[0m\u001b[0;34m\u001b[0m\u001b[0;34m\u001b[0m\u001b[0m\n",
      "\u001b[0m\u001b[0;32m    603 \u001b[0;31m\u001b[0;34m\u001b[0m\u001b[0m\n",
      "\u001b[0m\u001b[0;32m--> 604 \u001b[0;31m            \u001b[0;32mreturn\u001b[0m \u001b[0mfunction\u001b[0m\u001b[0;34m(\u001b[0m\u001b[0;34m*\u001b[0m\u001b[0margs\u001b[0m\u001b[0;34m,\u001b[0m \u001b[0;34m**\u001b[0m\u001b[0mkwargs\u001b[0m\u001b[0;34m)\u001b[0m\u001b[0;34m\u001b[0m\u001b[0;34m\u001b[0m\u001b[0m\n",
      "\u001b[0m\u001b[0;32m    605 \u001b[0;31m\u001b[0;34m\u001b[0m\u001b[0m\n",
      "\u001b[0m\u001b[0;32m    606 \u001b[0;31m        \u001b[0;32mreturn\u001b[0m \u001b[0mwrapper\u001b[0m\u001b[0;34m\u001b[0m\u001b[0;34m\u001b[0m\u001b[0m\n",
      "\u001b[0m\n"
     ]
    },
    {
     "name": "stdin",
     "output_type": "stream",
     "text": [
      "ipdb>  u\n"
     ]
    },
    {
     "name": "stdout",
     "output_type": "stream",
     "text": [
      "> \u001b[0;32m/Users/cmccully/miniconda3/envs/banzai-floyds/lib/python3.10/site-packages/banzai/utils/fits_utils.py\u001b[0m(237)\u001b[0;36mpack\u001b[0;34m()\u001b[0m\n",
      "\u001b[0;32m    235 \u001b[0;31m            \u001b[0;32melse\u001b[0m\u001b[0;34m:\u001b[0m\u001b[0;34m\u001b[0m\u001b[0;34m\u001b[0m\u001b[0m\n",
      "\u001b[0m\u001b[0;32m    236 \u001b[0;31m                \u001b[0mquantize_level\u001b[0m \u001b[0;34m=\u001b[0m \u001b[0;36m64\u001b[0m\u001b[0;34m\u001b[0m\u001b[0;34m\u001b[0m\u001b[0m\n",
      "\u001b[0m\u001b[0;32m--> 237 \u001b[0;31m            compressed_hdu = fits.CompImageHDU(data=np.ascontiguousarray(hdu.data), header=hdu.header,\n",
      "\u001b[0m\u001b[0;32m    238 \u001b[0;31m                                               quantize_level=quantize_level, quantize_method=1)\n",
      "\u001b[0m\u001b[0;32m    239 \u001b[0;31m            \u001b[0mhdulist\u001b[0m\u001b[0;34m.\u001b[0m\u001b[0mappend\u001b[0m\u001b[0;34m(\u001b[0m\u001b[0mcompressed_hdu\u001b[0m\u001b[0;34m)\u001b[0m\u001b[0;34m\u001b[0m\u001b[0;34m\u001b[0m\u001b[0m\n",
      "\u001b[0m\n"
     ]
    },
    {
     "name": "stdin",
     "output_type": "stream",
     "text": [
      "ipdb>  hdu.data\n",
      "ipdb>  np.ascontiguousarray(hdu.data)\n"
     ]
    },
    {
     "name": "stdout",
     "output_type": "stream",
     "text": [
      "array([None], dtype=object)\n"
     ]
    },
    {
     "name": "stdin",
     "output_type": "stream",
     "text": [
      "ipdb>  q\n"
     ]
    }
   ],
   "source": [
    "%debug"
   ]
  },
  {
   "cell_type": "code",
   "execution_count": 7,
   "id": "196477e2-78d7-49e4-a236-2759a1b8b4c9",
   "metadata": {},
   "outputs": [],
   "source": [
    "for row in test_data:\n",
    "    if 'e00.fits' in row['filename'] and row['frameid'] not in standards:\n",
    "        run_pipeline_stages([{'filename': row['filename'], 'RLEVEL': 0, 'frameid': row['frameid']}], context)"
   ]
  },
  {
   "cell_type": "code",
   "execution_count": 5,
   "id": "d293ea7a-46e6-4f2b-a482-d5c1763a67f2",
   "metadata": {},
   "outputs": [],
   "source": [
    "from banzai_floyds.frames import FLOYDSFrameFactory\n",
    "factory = FLOYDSFrameFactory()"
   ]
  },
  {
   "cell_type": "code",
   "execution_count": 6,
   "id": "047eaca7-4043-44f1-8e33-0cd348d30697",
   "metadata": {},
   "outputs": [],
   "source": [
    "image = factory.open({'path': './test_data/coj/en12/20200813/processed/coj2m002-en12-20200813-0014-e91-2d.fits.fz'}, context)"
   ]
  },
  {
   "cell_type": "code",
   "execution_count": 7,
   "id": "e55a3255-719b-49b3-b503-a057d8e5b9bf",
   "metadata": {},
   "outputs": [],
   "source": [
    "from banzai_floyds.extract import get_wavelength_bins\n",
    "image.wavelength_bins = get_wavelength_bins(image.wavelengths)"
   ]
  },
  {
   "cell_type": "code",
   "execution_count": 10,
   "id": "b6869214-a72b-4926-8981-4eaa3417aedd",
   "metadata": {},
   "outputs": [],
   "source": [
    "from banzai_floyds.extract import bin_data\n",
    "image.binned_data = bin_data(image.data, image.uncertainty, image.wavelengths,\n",
    "                             image.orders, image.wavelength_bins)"
   ]
  },
  {
   "cell_type": "code",
   "execution_count": 11,
   "id": "f220f988-b77e-4f96-bc8b-5dac05b39bf5",
   "metadata": {},
   "outputs": [],
   "source": [
    "from banzai_floyds.extract import fit_profile_centers\n",
    "profile_centers = fit_profile_centers(image.binned_data)"
   ]
  },
  {
   "cell_type": "code",
   "execution_count": 12,
   "id": "2f2a4bdc-0be9-42a5-b2be-05fcbf4ad390",
   "metadata": {},
   "outputs": [
    {
     "data": {
      "text/plain": [
       "[Legendre([-42.63743148, -10.36254868,  -8.49968533,  22.45148574,\n",
       "         -9.72839256, -15.13319399], domain=[ 4494.74065168, 10365.41238813], window=[-1.,  1.]),\n",
       " Legendre([ 2.95250172,  4.0685062 ,  4.17281957, -6.21629649, -3.60127395,\n",
       "         7.79946989], domain=[3438.7569325 , 5712.78952944], window=[-1.,  1.])]"
      ]
     },
     "execution_count": 12,
     "metadata": {},
     "output_type": "execute_result"
    }
   ],
   "source": [
    "profile_centers"
   ]
  },
  {
   "cell_type": "code",
   "execution_count": 15,
   "id": "00b86831-1e4e-4399-bb13-214593dbf5a4",
   "metadata": {},
   "outputs": [
    {
     "data": {
      "text/plain": [
       "<matplotlib.image.AxesImage at 0x159e35c00>"
      ]
     },
     "execution_count": 15,
     "metadata": {},
     "output_type": "execute_result"
    },
    {
     "data": {
      "image/png": "[encoded data removed]",
      "text/plain": [
       "<Figure size 640x480 with 1 Axes>"
      ]
     },
     "metadata": {},
     "output_type": "display_data"
    }
   ],
   "source": [
    "from matplotlib import pyplot\n",
    "pyplot.imshow(image.wavelengths.data)"
   ]
  },
  {
   "cell_type": "code",
   "execution_count": 19,
   "id": "55a61cf8-05e5-4faa-a965-0f6234be79f7",
   "metadata": {},
   "outputs": [
    {
     "data": {
      "text/plain": [
       "-43.74474223610142"
      ]
     },
     "execution_count": 19,
     "metadata": {},
     "output_type": "execute_result"
    }
   ],
   "source": [
    "profile_centers[0](7500)"
   ]
  },
  {
   "cell_type": "code",
   "execution_count": 22,
   "id": "6cdc35d1-e82a-4bbb-8c03-cabd28edc3b6",
   "metadata": {},
   "outputs": [
    {
     "data": {
      "text/plain": [
       "<bound method Orders.center of <banzai_floyds.orders.Orders object at 0x147566500>>"
      ]
     },
     "execution_count": 22,
     "metadata": {},
     "output_type": "execute_result"
    }
   ],
   "source": [
    "import scipy.interpolate\n",
    "x, y = np.meshgrid(image.data.shape[1], image.data.shape[0])\n",
    "centers = image.orders.centers(x)\n",
    "#interpolator = scipy.interpolate.SmoothBivariateSpline(x, y, z)"
   ]
  },
  {
   "cell_type": "code",
   "execution_count": 25,
   "id": "f7f4b4b7-6be3-4687-b2b6-622f29d5e498",
   "metadata": {},
   "outputs": [
    {
     "data": {
      "text/plain": [
       "<matplotlib.image.AxesImage at 0x15a8bdd50>"
      ]
     },
     "execution_count": 25,
     "metadata": {},
     "output_type": "execute_result"
    },
    {
     "data": {
      "image/png": "[encoded data removed]",
      "text/plain": [
       "<Figure size 640x480 with 1 Axes>"
      ]
     },
     "metadata": {},
     "output_type": "display_data"
    }
   ],
   "source": [
    "from matplotlib import pyplot\n",
    "pyplot.imshow(image.data * image.orders.data, vmin=-5, vmax=300)"
   ]
  },
  {
   "cell_type": "code",
   "execution_count": 26,
   "id": "4f27679a-40da-4ebf-a4c7-d4dc25a26f75",
   "metadata": {},
   "outputs": [
    {
     "data": {
      "text/plain": [
       "SIMPLE  =                    T / conforms to FITS standard                      \n",
       "BITPIX  =                  -32 / array data type                                \n",
       "NAXIS   =                    2 / number of array dimensions                     \n",
       "NAXIS1  =                 2048                                                  \n",
       "NAXIS2  =                  512                                                  \n",
       "EXTEND  =                    T                                                  \n",
       "DATADICV= 'LCOGT-FITS-SPECTRO.DIC-0.0.5' / Version number of the data dictionary\n",
       "HDRVER  = 'LCOGT-HDR-2.0.1'    / Version number of the headers                  \n",
       "ORIGIN  = 'LCOGT   '           / Organization responsible for the data          \n",
       "SITEID  = 'coj     '           / ID code of the Observatory site                \n",
       "SITE    = 'LCOGT node at Siding Spring Observatory' / Site of the Observatory   \n",
       "ENCID   = 'clma    '           / ID code of the Enclosure                       \n",
       "ENCLOSUR= 'Clamshell-02'       / Building containing Telescope                  \n",
       "TELID   = '2m0a    '           / ID code of the Telescope                       \n",
       "TELESCOP= '2m0-02  '           / The Name of the Telescope                      \n",
       "LATITUDE=          -31.2728196 / [deg North] Telescope Latitude                 \n",
       "LONGITUD=          149.0708466 / [deg East] Telescope Longitude                 \n",
       "HEIGHT  =             1130.000 / [m] Altitude of Telescope above sea level      \n",
       "OBSGEO-X=         -4681305.099 / [m] Cartesian X co-ord of telescope (WGS84)    \n",
       "OBSGEO-Y=          2804939.432 / [m] Cartesian Y co-ord of telescope (WGS84)    \n",
       "OBSGEO-Z=         -3292370.526 / [m] Cartesian Z co-ord of telescope (WGS84)    \n",
       "OBSTYPE = 'SPECTRUM'           / Observation type                               \n",
       "FRAMENUM=                   14 / Running frame number                           \n",
       "MOLTYPE = 'SPECTRUM'           / Molecule type                                  \n",
       "MOLNUM  =                   14 / Molecule number                                \n",
       "MOLFRNUM=                    1 / Exposure number within molecule                \n",
       "FRMTOTAL=                    1 / Total number of exposures within molecule      \n",
       "ORIGNAME= 'coj2m002-en12-20200813-0014-e00.fits' / Fname written by ICS         \n",
       "OBSTELEM= 'N/A     '           / Link to observation telemetry                  \n",
       "TIMESYS = 'UTC     '           / Time system used                               \n",
       "DATE    = '2023-11-10T17:36:08.687066' / [UTC] Date this FITS file was written  \n",
       "DATE-OBS= '2020-08-13T13:48:59.623' / [UTC] Start date and time of the observati\n",
       "DAY-OBS = '20200813'           / [UTC] Date at start of local observing night   \n",
       "UTSTART = '13:48:59.623'       / [UTC] The start time of the observation        \n",
       "UTSTOP  = '14:33:59.666'       / [UTC] The finish time of the observation       \n",
       "MJD-OBS =        59074.5756853 / [UTC days] Start date/time (Modified Julian Dat\n",
       "EXPTIME =             2700.042 / [s] Exposure length                            \n",
       "REQTIME =         2700.0000000 / [s] Requested exposure length                  \n",
       "FILTER1 = 'air     '           / The first filter wheel filter type             \n",
       "FILTERI1= 'air     '           / The first filter wheel filter id               \n",
       "FILTER2 = 'NOTPRESENT'         / The second filter wheel filter type            \n",
       "FILTERI2= 'NOTPRESENT'         / The second filter wheel filter id              \n",
       "FILTER3 = 'NOTPRESENT'         / The third filter wheel filter type             \n",
       "FILTERI3= 'NOTPRESENT'         / The third filter wheel filter id               \n",
       "FILTER  = 'air     '           / Filter used                                    \n",
       "FWID    = 'UNKNOWN '           / Filter Wheel ID                                \n",
       "INSTRUME= 'en12    '           / Instrument used                                \n",
       "INSSTATE= 'OKAY    '           / The instrument status                          \n",
       "ICSVER  = 'master@0x9747e36'   / Version number of the ICS software             \n",
       "CONFMODE= '0.1MHz_2.0preamp'   / Camera mode configuration                      \n",
       "CONFNAME= 'N/A     '           / The instrument configuration used              \n",
       "DETECTOR= 'Andor Newton DU940P-BU' / Detector type                              \n",
       "DETECTID= '14242-18-11'        / Detector serial number                         \n",
       "GAIN    =                  1.0 / [electrons/count] Pixel gain                   \n",
       "RDNOISE =            3.5000000 / [electrons/pixel] Read noise                   \n",
       "DARKCURR=            0.0000000 / [electrons/pixel/s @ 200K] Dark current        \n",
       "SATURATE=              88320.0 / [ADU] Saturation level                         \n",
       "MAXLIN  =              87400.0 / [ADU] Non-linearity level                      \n",
       "RDSPEED =           30.0000000 / [kpix/s] Readout speed used                    \n",
       "DETSIZE = '[1:2079,1:512]'     / [pixel] Detector size                          \n",
       "AMPNAME = 'default '           / Amplifier name                                 \n",
       "CCDSEC  = 'UNKNOWN '           / [pixel] Region of CCD read                     \n",
       "CCDSUM  = '1 1     '           / CCD on-chip summing/binning                    \n",
       "BIASSEC = '[2049:2079,1:512]'  / [binned pixel] Section of bias/overscan data   \n",
       "DATASEC = '[1:2048,1:512]'     / [binned pixel] Data section                    \n",
       "TRIMSEC = '[1:2048,1:512]'     / [binned pixel] Section of useful data          \n",
       "ROI     = 'UNKNOWN '           / [binned pixel] Region of interest or MULTIPLE  \n",
       "DETSEC  = '[1:2048,1:512]'     / [binned pixel] Section of useful data          \n",
       "CCDXPIXE=            0.0000135 / [m] Size of pixels, in X                       \n",
       "CCDYPIXE=            0.0000135 / [m] Size of pixels, in Y                       \n",
       "PIXSCALE=            0.3370000 / [arcsec/pixel] Nominal pixel scale on sky      \n",
       "CCDSTEMP=          -70.0000000 / [deg C] CCD required temperature               \n",
       "CCDATEMP=          -70.1610031 / [deg C] CCD actual temperature                 \n",
       "CCDSESIG= 'N/A     '           / [mK] CCD temp control servo error signal       \n",
       "TELMODE = 'AUTOMATIC'          / Telescope mode                                 \n",
       "TAGID   = 'UNSPECIFIED'        / Time Allocation Group ID                       \n",
       "USERID  = 'supernova_exchange' / User ID                                        \n",
       "PROPID  = 'KEY2020B-002'       / Proposal ID                                    \n",
       "GROUPID = 'SN2020llx'          / Group ID                                       \n",
       "OBSID   = 'UNSPECIFIED'        / Observation ID                                 \n",
       "OBSNOTE = 'UNSPECIFIED'        / Observation Note                               \n",
       "SCHEDNAM= 'POND    '           / Name of scheduler in control                   \n",
       "TRACKNUM= '1035984 '           / Request DB tracking number                     \n",
       "REQNUM  = '2207712 '           / Request DB request number                      \n",
       "MOLUID  = '186409462'          / Molecule unique ID                             \n",
       "BLKTYPE = 'POND    '           / Group type                                     \n",
       "BLKUID  = '125183323'          / Group unique ID                                \n",
       "BLKSDATE= '2020-08-13T13:45:00' / [UTC] Block start date                        \n",
       "BLKEDATE= '2020-08-13T14:41:05' / [UTC] Block end date                          \n",
       "BLKNOMEX=         3365.0000000 / [s] Block nominal exec time                    \n",
       "BLKMNPH = 'N/A     '           / [(0-1)] Maximum lunar phase required           \n",
       "BLKMNDST=           20.0000000 / [deg] Minimum lunar distance required          \n",
       "BLKSEECO= 'N/A     '           / Minimum seeing required                        \n",
       "BLKTRNCO= 'N/A     '           / Minimum transparency required                  \n",
       "BLKAIRCO= '1.600000023841858'  / Maximum airmass required                       \n",
       "SCHEDSEE=            2.0496340 / [arcsec] Estimated seeing when group scheduled \n",
       "SCHEDTRN= 'N/A     '           / [(0-1)] Estimated transparency when group sched\n",
       "TRIGGER = 'N/A     '           / External trigger ID                            \n",
       "OBRECIPE= 'N/A     '           / Observing Recipes required/used                \n",
       "PCRECIPE= 'N/A     '           / Processing Recipes required/used               \n",
       "PPRECIPE= 'N/A     '           / Post-Processing Recipes required/used          \n",
       "RA      = '21:52:13.840'       / [HH:MM:SS.sss] RA where telescope is pointing  \n",
       "DEC     = '-55:34:28.91'       / [sDD:MM:SS.ss] Dec where telescope is pointing \n",
       "RADESYS = 'ICRS    '           / [[FK5,ICRS]] Fundamental coord. system of the o\n",
       "LST     = '21:15:05.25'        / [HH:MM:SS.ss] LST at start of current observati\n",
       "CAT-RA  = '21:52:14.038'       / [HH:MM:SS.sss] Catalog RA of the object        \n",
       "CAT-DEC = '-55:33:44.17'       / [sDD:MM:SS.ss] Catalog Dec of the object       \n",
       "CAT-EPOC=         2000.0000000 / [Year] Catalog epoch of the coordinates        \n",
       "OFST-RA = '21:52:18.813'       / [HH:MM:SS.sss] Catalog RA plus pointing offsets\n",
       "OFST-DEC= '-55:31:07.33'       / [sDD:MM:SS.ss] Catalog Dec plus pointing offset\n",
       "TPT-RA  = '21:53:29.289'       / [HH:MM:SS.sss] Telescope demand RA             \n",
       "TPT-DEC = '-55:39:27.96'       / [sDD:MM:SS.ss] Telescope demand Dec            \n",
       "OBJECT  = 'SN2020llx'          / Object name                                    \n",
       "SRCTYPE = 'EXTRASOLAR'         / Source type                                    \n",
       "PM-RA   =            0.0000000 / [sec/year] Proper motion in RA of the object   \n",
       "PM-DEC  =            0.0000000 / [arcsec/year] Proper motion in Dec of the objec\n",
       "PARALLAX=            0.0000000 / [arcsec] Parallax of the object                \n",
       "RADVEL  =            0.0000000 / [km/s] Radial velocity of the object           \n",
       "RATRACK =            0.0000000 / [arcsec/s] Non-sidereal tracking in RA         \n",
       "DECTRACK=            0.0000000 / [arcsec/s] Non-sidereal tracking in Dec        \n",
       "TELSTATE= 'WARNING '           / Current telescope status                       \n",
       "ENGSTATE= 'UNKNOWN '           / Engineering override state                     \n",
       "TCSSTATE= 'OKAY    '           / TCS state                                      \n",
       "TCSVER  = '0.4     '           / Version number of the TCS software             \n",
       "TPNTMODL= '20190822235737'     / Version number of the pointing model           \n",
       "UT1-UTC =           -0.2010300 / [s] UT1-UTC                                    \n",
       "POLARMOX=            0.2121000 / [arcsec] Polar motion X                        \n",
       "POLARMOY=            0.3840000 / [arcsec] Polar motion Y                        \n",
       "EOPSRC  = 'IERS BULL. A 2020/08/06' / Source of the EOP Values                  \n",
       "ROLLERDR=            0.0000000 / [rad] Driven roller encoder angle              \n",
       "ROLLERND=            0.0000000 / [rad] Non-driven roller encoder angle          \n",
       "AZDMD   =          167.0906587 / [deg] Azimuth axis demand                      \n",
       "AZIMUTH =          167.0906753 / [deg] Azimuth axis position                    \n",
       "AZSTAT  = 'WARNING '           / Azimuth axis state                             \n",
       "ALTDMD  =           64.8565662 / [deg] Altitude axis demand                     \n",
       "ALTITUDE=           64.8565641 / [deg] Altitude axis position                   \n",
       "ALTSTAT = 'OKAY    '           / Altitude axis state                            \n",
       "ROTTYPE = 'CASSEGRAIN'         / Selected image derotator                       \n",
       "ROTMODE = 'VFLOAT  '           / Rotator mode                                   \n",
       "ROTDMD  =           19.8615751 / [deg] Rotator axis demand                      \n",
       "ROTANGLE=           19.8632417 / [deg] Rotator axis position                    \n",
       "ROTSKYPA=          -19.2364555 / [deg] Rotator position angle                   \n",
       "ROTSTAT = 'OKAY    '           / Rotator axis state                             \n",
       "AIRMASS =            1.1004479 / Effective mean airmass                         \n",
       "AMSTART =            1.1044484 / Airmass at start of observation                \n",
       "AMEND   =            1.0964475 / Airmass at end of observation                  \n",
       "ENC1STAT= 'OPEN    '           / Enclosure shutter 1 state                      \n",
       "ENC2STAT= 'OPEN    '           / Enclosure shutter 2 state                      \n",
       "ENCAZ   =            0.0000000 / [deg] Enclosure azimuth                        \n",
       "ENCWLIGT= 'UNKNOWN '           / Enclosure white lights state                   \n",
       "ENCRLIGT= 'UNKNOWN '           / Enclosure red lights state                     \n",
       "FSTATION= 'CASSEGRAIN'         / Focal station, e.g. CASSEGRAIN, NASMYTH WRAP SI\n",
       "FOLDSTAT= 'DEPLOYED'           / Fold mirror state                              \n",
       "FOLDPORT= '5       '           / Fold mirror port                               \n",
       "FOLDPOSN= 'N/A, N/A'           / [{mm,deg}] Fold mirror position (r, theta)     \n",
       "M1COVER = 'UNKNOWN '           / M1 mirror cover state                          \n",
       "M1HRTMN = 'UNKNOWN '           / M1 Hartmann screen state                       \n",
       "FOCDMD  =            0.0000000 / [mm] Demanded focus position in focal plane    \n",
       "FOCPOSN =           -0.0109978 / [mm] Actual focus position in focal plane      \n",
       "FOCTELZP=           16.0600000 / [mm] Telescope default focus                   \n",
       "FOCINOFF=            4.2169089 / [mm] Instrument focus offset                   \n",
       "FOCTOFF =            0.1733420 / [mm] Thermal correction value                  \n",
       "FOCZOFF =           -0.0478769 / [mm] Zenith compression correction             \n",
       "FOCAFOFF=           -0.1017051 / [mm] Autofocus offset in focal plane           \n",
       "FOCOBOFF=            0.0000000 / [mm] Observer focus offset/defocus in focal pla\n",
       "FOCFLOFF=           -1.0000000 / [mm] Filter focus offset in focal plane        \n",
       "FOCSTAT = 'HALTED  '           / Focus state                                    \n",
       "M2PITCH =          -35.5633816 / [arcsec] M2 tilt about vertex in pitch directio\n",
       "M2ROLL  =           10.7205221 / [arcsec] M2 tilt about vertex in roll direction\n",
       "AUXROLL =            5.9959880 / [arcsec] Auxiliary pointing corrections in roll\n",
       "AUXPITCH=          -19.6984332 / [arcsec] Auxiliary pointing corrections in pitc\n",
       "CTYPE1  = 'RA---TAN'           / Type of WCS Projection                         \n",
       "CTYPE2  = 'DEC--TAN'           / Type of WCS Projection                         \n",
       "CRPIX1  =         1180.0000000 / [pixel] Coordinate of reference point (axis 1) \n",
       "CRPIX2  =          733.0000000 / [pixel] Coordinate of reference point (axis 2) \n",
       "CRVAL1  =          328.0204299 / [deg] RA at the reference pixel                \n",
       "CRVAL2  =          -55.6305603 / [deg] Dec at the reference pixel               \n",
       "CUNIT1  = 'deg     '           / Units of RA                                    \n",
       "CUNIT2  = 'deg     '           / Units of Dec                                   \n",
       "CD1_1   =            0.0000218 / WCS CD transformation matrix                   \n",
       "CD1_2   =           -0.0000910 / WCS CD transformation matrix                   \n",
       "CD2_1   =           -0.0000910 / WCS CD transformation matrix                   \n",
       "CD2_2   =           -0.0000218 / WCS CD transformation matrix                   \n",
       "WMSSTATE= 'OKAY    '           / WMS system state                               \n",
       "WMSHUMID=           51.8990000 / [%] Current percentage humidity                \n",
       "WMSTEMP =           11.3000000 / [deg C] External temperature                   \n",
       "WMSPRES =          889.0000000 / [mbar] Atmospheric pressure                    \n",
       "WINDSPEE=            5.4000000 / [km/h] Windspeed                               \n",
       "WINDDIR =          266.0000000 / [deg E of N] Wind direction                    \n",
       "WMSRAIN = 'CLEAR   '           / Rain alert                                     \n",
       "WMSMOIST=         5000.0000000 / [mV] Moisture level                            \n",
       "WMSDEWPT=            1.8000000 / [deg C] Dewpoint                               \n",
       "WMSCLOUD=          -29.7500000 / [deg C] Boltwood sky temperature               \n",
       "WMSSKYBR=           22.0000000 / [mag/arcsec^2] Measured sky brightness         \n",
       "SKYMAG  =           22.0000000 / [mag/arcsec^2] Computed (expected) sky brightne\n",
       "TUBETEMP=           10.5550000 / [deg C] Temperature of the telescope tube      \n",
       "M1TEMP  = 'UNKNOWN '           / [deg C] Primary mirror temperature             \n",
       "FOCTEMP =           10.5620000 / [deg C] Focus temperature                      \n",
       "ISSTEMP = 'UNKNOWN '           / [deg C] ISS temperature                        \n",
       "REFPRES =          889.0000000 / [mbar] Pressure used in refraction calculation \n",
       "REFTEMP =           11.3000000 / [deg C] Temperature used in refraction calculat\n",
       "REFHUMID=           51.7990000 / [%] Humidity used in refraction calculation    \n",
       "AGSTATE = 'GUIDING_CLOSED_LOOP' / Autoguider software state                     \n",
       "AGCAM   = 'kb38    '           / Camera used for autoguiding                    \n",
       "AGLCKFRC=               100.00 / [%] Fraction of time AG locked                 \n",
       "AGMODE  = 'ON      '           / Autoguider mode                                \n",
       "AGRA    =          328.0576773 / [deg] RA of guide star                         \n",
       "AGDEC   =          -55.5746938 / [deg] Dec of guide star                        \n",
       "AGGMAG  = 'UNKNOWN '           / [mag] Autoguider guide star mag                \n",
       "AGFWHM  =           16.8062888 / [arcsec] Autoguider FWHM                       \n",
       "AGMIRDMD= 'N/A     '           / [mm] Autoguider mirror demand                  \n",
       "AGMIRPOS= '-00.0, N/A'         / Autoguider mirror position                     \n",
       "AGMIRST = 'DEPLOYED'           / Autoguider mirror state                        \n",
       "AGFOCDMD= 'UNKNOWN '           / [mm] Autoguider focus demand                   \n",
       "AGFOCUS = 'UNKNOWN '           / [mm] Autoguider focus position                 \n",
       "AGFOCOFF=            0.3500000 / [mm] Autoguider relative focus offset          \n",
       "AGFOCST = 'UNKNOWN '           / Autoguider focus state                         \n",
       "AGFILTER= 'LL,     '           / Autoguider filter                              \n",
       "AGFILTID= 'RGBL-L1-007,'       / Autoguider filter id                           \n",
       "AGFILST = 'Enabled '           / Autoguider filter state                        \n",
       "MOONSTAT= 'DOWN    '           / [{UP, DOWN}] Moon position at obs start        \n",
       "MOONFRAC=            0.3146118 / [(0 - 1)] Lunar Illuminated Fraction           \n",
       "MOONDIST=          114.8560840 / [deg] Lunar distance from target               \n",
       "MOONALT =          -29.9477078 / [deg] Lunar altitude                           \n",
       "SUNDIST =          138.7703246 / [deg] Solar distance from target               \n",
       "SUNALT  =          -72.5562489 / [deg] Solar altitude                           \n",
       "APERTURE= 'N/A     '           / Aperture identification                        \n",
       "APERPA  = 'UNKNOWN '           / [deg] Slit position angle                      \n",
       "PICKMIRR= 'UNKNOWN '           / Calibration pickoff mirror                     \n",
       "APERTYPE= 'SLIT    '           / Aperture type                                  \n",
       "APERLEN =           30.0000000 / [arcsec] Aperture length                       \n",
       "APERWID =            2.0000000 / [arcsec] Aperture width                        \n",
       "LMP1TYPE= 'Tungsten Halogen'   / Lamp 1 type                                    \n",
       "LMP1ID  = 'UNKNOWN '           / Unique Lamp ID                                 \n",
       "LMP1SET = 'off     '           / Lamp 1 Set Status                              \n",
       "LMP1SHUT= 'closed  '           / Lamp 1 Shutter Status                          \n",
       "LMP2TYPE= 'Xenon   '           / Lamp 2 type                                    \n",
       "LMP2ID  = 'UNKNOWN '           / Unique Lamp ID                                 \n",
       "LMP2SET = 'off     '           / Lamp 2 Set Status                              \n",
       "LMP2SHUT= 'closed  '           / Lamp 2 Shutter Status                          \n",
       "LMP3TYPE= 'Mercury '           / Lamp 3 type                                    \n",
       "LMP3ID  = 'UNKNOWN '           / Unique Lamp ID                                 \n",
       "LMP3SET = 'off     '           / Lamp 3 Set Status                              \n",
       "LMP3SHUT= 'closed  '           / Lamp 3 Shutter Status                          \n",
       "LMP3CUR = '10      '           / [mA] Lamp 3 current                            \n",
       "LMP4TYPE= 'Zinc    '           / Lamp 4 type                                    \n",
       "LMP4ID  = 'UNKNOWN '           / Unique Lamp ID                                 \n",
       "LMP4SET = 'off     '           / Lamp 4 Set Status                              \n",
       "LMP4SHUT= 'closed  '           / Lamp 4 Shutter Status                          \n",
       "NDANGLE = 'UNKNOWN '           / [deg] Angle of neutral density filter          \n",
       "NDPOS   = 'UNKNOWN '           / ND Filter Position                             \n",
       "NDZERO  = 'UNKNOWN '           / Diff between motor home and ND=0               \n",
       "EXTVER  =                    1 / Extension instance                             \n",
       "CHECKSUM= '7aAPBV8P9ZAPAZ5P'   / HDU checksum updated 2020-08-13T14:34:22       \n",
       "DATASUM = '2260641078'         / data unit checksum updated 2020-08-13T14:34:22 \n",
       "L1STATOV= '1       '           / Status flag for overscan correction            \n",
       "OVERSCAN=    574.0978157644824 / Overscan value that was subtracted             \n",
       "ORDYSHFT=   1.7210922187073443                                                  \n",
       "L1IDARC = 'coj2m002-en12-20200813-0015-a91.fits.fz' / ID of ARC/DOUBLE frame    \n",
       "L1IDFRNG= 'coj2m002-en12-20200813-lampflat-0.1MHz_2.0preamp.fits.fz' / ID of Fri\n",
       "L1STATFR=                    1 / Status flag for fringe frame correction        \n",
       "RLEVEL  =                   91 / Reduction level                                \n",
       "PIPEVER = '1.13.2.dev1+ga7f3df5' / Pipeline version                             \n",
       "L1PUBDAT= '2021-08-13T13:48:59.623000' / [UTC] Date the frame becomes public    \n",
       "L1ID1D  = 'coj2m002-en12-20200813-0014-e91-1d.fits.fz'                          \n",
       "EXTNAME = 'SCI     '           / extension name                                 "
      ]
     },
     "execution_count": 26,
     "metadata": {},
     "output_type": "execute_result"
    }
   ],
   "source": [
    "image.meta"
   ]
  },
  {
   "cell_type": "code",
   "execution_count": null,
   "id": "d5699e62-511f-45f6-8434-e00f09a0b91b",
   "metadata": {},
   "outputs": [],
   "source": []
  }
 ],
 "metadata": {
  "kernelspec": {
   "display_name": "Python 3 (ipykernel)",
   "language": "python",
   "name": "python3"
  },
  "language_info": {
   "codemirror_mode": {
    "name": "ipython",
    "version": 3
   },
   "file_extension": ".py",
   "mimetype": "text/x-python",
   "name": "python",
   "nbconvert_exporter": "python",
   "pygments_lexer": "ipython3",
   "version": "3.10.13"
  }
 },
 "nbformat": 4,
 "nbformat_minor": 5
}
