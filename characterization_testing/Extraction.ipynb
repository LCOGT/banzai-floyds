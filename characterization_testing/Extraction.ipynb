{
 "cells": [
  {
   "cell_type": "markdown",
   "id": "6263ca3a-f101-43e9-b4b7-5a4bf108e28a",
   "metadata": {},
   "source": [
    "# Run the wavelength and the fringe frame maker notebooks first!"
   ]
  },
  {
   "cell_type": "code",
   "execution_count": null,
   "id": "757e0876-6493-45b4-8559-f3abdee6bf62",
   "metadata": {},
   "outputs": [],
   "source": [
    "import os\n",
    "os.environ['OPENTSDB_PYTHON_METRICS_TEST_MODE'] = 'True'"
   ]
  },
  {
   "cell_type": "code",
   "execution_count": null,
   "id": "862c2290-7747-43c1-b4b2-0bc2784a8d11",
   "metadata": {},
   "outputs": [],
   "source": [
    "import importlib.resources\n",
    "import requests\n",
    "from banzai_floyds import settings\n",
    "from banzai.utils.stage_utils import run_pipeline_stages\n",
    "from banzai.utils.fits_utils import download_from_s3\n",
    "import numpy as np\n",
    "from astropy.io import ascii, fits\n",
    "from astropy.coordinates import SkyCoord\n",
    "from astropy import units\n",
    "from matplotlib import pyplot\n",
    "from glob import glob\n",
    "import tarfile"
   ]
  },
  {
   "cell_type": "code",
   "execution_count": null,
   "id": "261d86b1-b4fe-4281-a9a8-a652d8f75ebf",
   "metadata": {},
   "outputs": [],
   "source": [
    "os.environ['DB_ADDRESS'] = 'sqlite:///test_data/test.db'\n",
    "settings.processed_path= os.path.join(os.getcwd(), 'test_data')\n",
    "settings.fpack=True\n",
    "settings.db_address = os.environ['DB_ADDRESS']\n",
    "settings.RAW_DATA_FRAME_URL = f'https://archive-api.lco.global/frames'"
   ]
  },
  {
   "cell_type": "code",
   "execution_count": null,
   "id": "11322ec4-c6ab-4ca7-8c7b-8f4d98cdc4cd",
   "metadata": {},
   "outputs": [],
   "source": [
    "# set up the context object.\n",
    "import banzai.main\n",
    "context = banzai.main.parse_args(settings, parse_system_args=False)"
   ]
  },
  {
   "cell_type": "code",
   "execution_count": null,
   "id": "3e5a75a0-e50b-4240-b784-cb3465ac6d21",
   "metadata": {},
   "outputs": [],
   "source": [
    "from banzai_floyds import dbs"
   ]
  },
  {
   "cell_type": "code",
   "execution_count": null,
   "id": "6cee9e03-9f7b-4385-a196-9c1ef68e080a",
   "metadata": {},
   "outputs": [],
   "source": [
    "dbs.ingest_standards(settings.db_address)"
   ]
  },
  {
   "cell_type": "code",
   "execution_count": null,
   "id": "8a87154d-8ad0-41ff-ac8a-ad1fa909c66b",
   "metadata": {},
   "outputs": [],
   "source": [
    "# Start with just the profile.\n",
    "context = banzai.main.parse_args(settings, parse_system_args=False)"
   ]
  },
  {
   "cell_type": "code",
   "execution_count": null,
   "id": "eb9af9f9-ecc2-4dfe-b886-8adceec19c6e",
   "metadata": {},
   "outputs": [],
   "source": [
    "from banzai_floyds.tests.test_e2e import is_standard\n",
    "test_data = ascii.read(os.path.join(importlib.resources.files('banzai_floyds.tests'), 'data/test_data.dat'))\n",
    "for row in test_data:\n",
    "    if 'e00.fits' in row['filename'] and is_standard(row['object']):\n",
    "        run_pipeline_stages([{'filename': row['filename'], 'RLEVEL': 0, 'frameid': row['frameid']}], context)\n",
    "for row in test_data:\n",
    "    if 'e00.fits' in row['filename'] and not is_standard(row['object']):\n",
    "        run_pipeline_stages([{'filename': row['filename'], 'RLEVEL': 0, 'frameid': row['frameid']}], context)"
   ]
  },
  {
   "cell_type": "code",
   "execution_count": null,
   "id": "5de975eb-123f-4f20-9995-5db1e9a24f32",
   "metadata": {},
   "outputs": [],
   "source": [
    "def fits_header_to_wavelength(header):\n",
    "    crval = float(header['CRVAL1'])\n",
    "    crpix = float(header['CRPIX1'])\n",
    "    # Convert crpix to be zero indexed\n",
    "    crpix -= 1\n",
    "    if 'CDELT1' in header.keys():\n",
    "        cdelt = float(header['CDELT1'])\n",
    "    else:\n",
    "        cdelt = float(header['CD1_1'])\n",
    "    npix = float(header['NAXIS1'])\n",
    "    lam = np.arange(crval - cdelt * crpix ,\n",
    "                    crval + cdelt * (npix - crpix) - 1e-4,\n",
    "                    cdelt)\n",
    "    return lam"
   ]
  },
  {
   "cell_type": "code",
   "execution_count": null,
   "id": "e941b927-b146-45a2-a72e-d7a93a20df82",
   "metadata": {},
   "outputs": [],
   "source": [
    "orders_to_color = {1: 'red', 2: 'blue'}\n",
    "\n",
    "# Untar and extract the arc file\n",
    "for filename in glob('test_data/*.tar.gz'):\n",
    "    with tarfile.open(filename, 'r:gz') as f:\n",
    "        for file_to_extract in f.getnames():\n",
    "            if 'ttarc' == file_to_extract[:5]:\n",
    "                f.extract(file_to_extract, os.path.join(os.getcwd(), 'test_data'))\n",
    "\n",
    "tar_filenames = glob('test_data/*.tar.gz')\n",
    "\n",
    "# plot the raw flux against the old pipeline's extractions\n",
    "for row in test_data:\n",
    "    if 'e00.fits' in row['filename'] and is_standard(row['object']):\n",
    "        spectrum = glob(f'./test_data/*/*/*/processed/{row[\"filename\"].replace(\"e00\", \"e91\").replace(\".fits\", \"-1d.fits\")}')[0]\n",
    "        hdu = fits.open(spectrum)\n",
    "        site = row['filename'][:3]\n",
    "        for tar_filename in tar_filenames:\n",
    "            if os.path.basename(tar_filename)[:3].lower() == site:\n",
    "                with tarfile.open(tar_filename, 'r:gz') as f:\n",
    "                    for file_to_extract in f.getnames():\n",
    "                        if 'ex.fits' in file_to_extract:\n",
    "                            f.extract(file_to_extract, os.path.join(os.getcwd(), 'test_data'))\n",
    "        for i in range(1, 3):\n",
    "            in_order = hdu['EXTRACTED'].data['order'] == i\n",
    "            data = hdu['EXTRACTED'].data\n",
    "            data_to_plot = data['flux'][in_order]\n",
    "            data_to_plot /= np.median(data_to_plot)\n",
    "            pyplot.plot(data['wavelength'][in_order], data_to_plot)\n",
    "\n",
    "            hdu[0].header['OBJECT'].upper()\n",
    "            print(os.path.basename(spectrum))\n",
    "\n",
    "            # get the old pipeline equivalent\n",
    "            old_extraction = glob(f'test_data/tt{hdu[0].header[\"OBJECT\"].upper()}*{orders_to_color[i]}*_ex.fits*')[0]\n",
    "            old_hdu = fits.open(old_extraction)\n",
    "            iraf_wavelengths = fits_header_to_wavelength(old_hdu[0].header)\n",
    "            iraf_data_plot = old_hdu[0].data[0, :].T\n",
    "            iraf_data_plot /= np.median(iraf_data_plot)\n",
    "            pyplot.plot(iraf_wavelengths, old_hdu[0].data[0, :].T)\n",
    "            pyplot.xlim(4800, 10200)\n",
    "            pyplot.ylim(-0.1, 7)\n",
    "            pyplot.show()\n",
    "            pyplot.plot(hdu['TELLURIC'].data['wavelength'], hdu['TELLURIC'].data['telluric'])\n",
    "            pyplot.show()"
   ]
  },
  {
   "cell_type": "code",
   "execution_count": null,
   "id": "0e0e455f-37d9-483c-9daf-924c03118336",
   "metadata": {},
   "outputs": [],
   "source": [
    "from glob import glob\n",
    "from astropy.io import fits"
   ]
  },
  {
   "cell_type": "code",
   "execution_count": null,
   "id": "196477e2-78d7-49e4-a236-2759a1b8b4c9",
   "metadata": {},
   "outputs": [],
   "source": [
    "extracted_spectra = glob('./test_data/*/*/*/processed/*-1d.fits.fz')"
   ]
  },
  {
   "cell_type": "code",
   "execution_count": null,
   "id": "d293ea7a-46e6-4f2b-a482-d5c1763a67f2",
   "metadata": {},
   "outputs": [],
   "source": [
    "#for f in extracted_spectra:\n",
    "for f in extracted_spectra:\n",
    "    hdu = fits.open(f)\n",
    "    \n",
    "    print(os.path.basename(f), hdu[0].header['OBJECT'])\n",
    "    for order in [1, 2]:\n",
    "        in_order = hdu['EXTRACTED'].data['order'] == order\n",
    "        pyplot.plot(hdu['EXTRACTED'].data['wavelength'][in_order], hdu['EXTRACTED'].data['flux'][in_order], color='steelblue')\n",
    "    pyplot.xlim(3300, 10200)\n",
    "    pyplot.show()"
   ]
  },
  {
   "cell_type": "code",
   "execution_count": null,
   "id": "d5699e62-511f-45f6-8434-e00f09a0b91b",
   "metadata": {},
   "outputs": [],
   "source": [
    "from plotly.subplots import make_subplots\n",
    "import plotly.graph_objects as go\n",
    "\n",
    "f = extracted_spectra[1]\n",
    "hdu = fits.open(f)\n",
    "\n",
    "fig = go.Figure(data={'x': hdu['SPECTRUM'].data['wavelength'], 'y': hdu['SPECTRUM'].data['flux']})\n",
    "fig.show()"
   ]
  },
  {
   "cell_type": "code",
   "execution_count": null,
   "id": "429a75ab-06c9-4f1a-b7eb-480f6c8e99bc",
   "metadata": {},
   "outputs": [],
   "source": [
    "import importlib.resources\n",
    "for spectrum in extracted_spectra:\n",
    "    if '0007' in spectrum or '0026' in spectrum:\n",
    "        hdu = fits.open(spectrum)\n",
    "        data = hdu['EXTRACTED'].data\n",
    "        if 'bd' in hdu[0].header['OBJECT'].lower():\n",
    "            standard_file = os.path.join(importlib.resources.files('banzai_floyds'), 'data', 'standards', 'bdp284211.fits')\n",
    "        else:\n",
    "            standard_file = os.path.join(importlib.resources.files('banzai_floyds'), 'data', 'standards', 'feige110.fits')\n",
    "        standard_hdu = fits.open(standard_file)\n",
    "        for order in [1, 2]:\n",
    "            in_order = data['order'] == order\n",
    "            pyplot.plot(data['wavelength'][in_order], data['flux'][in_order], color='steelblue')\n",
    "        pyplot.plot(standard_hdu[1].data['wavelength'], standard_hdu[1].data['flux'], color='lightsalmon')\n",
    "        pyplot.xlim(3000, 10500)\n",
    "        pyplot.ylim(0, 2e-12)\n",
    "        pyplot.show()\n"
   ]
  },
  {
   "cell_type": "code",
   "execution_count": null,
   "id": "f304b7a2-6ff4-417d-ae97-b016034a2db0",
   "metadata": {},
   "outputs": [],
   "source": [
    "#for f in extracted_spectra:\n",
    "for f in extracted_spectra:\n",
    "    hdu = fits.open(f)\n",
    "    \n",
    "    print(os.path.basename(f), hdu[0].header['OBJECT'])\n",
    "    for order in [1, 2]:\n",
    "        in_order = hdu['EXTRACTED'].data['order'] == order\n",
    "        pyplot.plot(hdu['EXTRACTED'].data['wavelength'][in_order], hdu['EXTRACTED'].data['flux'][in_order], color='steelblue')\n",
    "        pyplot.show()\n",
    "        pyplot.plot(hdu['EXTRACTED'].data['wavelength'][in_order], hdu['EXTRACTED'].data['fluxraw'][in_order], color='steelblue')\n",
    "        pyplot.show()\n",
    "        pyplot.plot(hdu['EXTRACTED'].data['wavelength'][in_order], hdu['EXTRACTED'].data['background'][in_order], color='steelblue')\n",
    "        pyplot.show()"
   ]
  }
 ],
 "metadata": {
  "kernelspec": {
   "display_name": "Python 3 (ipykernel)",
   "language": "python",
   "name": "python3"
  },
  "language_info": {
   "codemirror_mode": {
    "name": "ipython",
    "version": 3
   },
   "file_extension": ".py",
   "mimetype": "text/x-python",
   "name": "python",
   "nbconvert_exporter": "python",
   "pygments_lexer": "ipython3",
   "version": "3.13.5"
  }
 },
 "nbformat": 4,
 "nbformat_minor": 5
}
