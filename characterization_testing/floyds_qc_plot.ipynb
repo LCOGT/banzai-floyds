{
 "cells": [
  {
   "cell_type": "code",
   "execution_count": 14,
   "id": "7155a3e7",
   "metadata": {},
   "outputs": [],
   "source": [
    "import astropy.io.fits\n",
    "import matplotlib.pyplot as plt\n",
    "import numpy as np\n",
    "import os"
   ]
  },
  {
   "cell_type": "code",
   "execution_count": null,
   "id": "4d3c7170",
   "metadata": {},
   "outputs": [],
   "source": [
    "\n",
    "\n",
    "def plot_floyds_qc(fitsobject):\n",
    "\n",
    "\n",
    "    #print (list(fitsobject[0].header.keys()))\n",
    "    object  = fitsobject[0].header['OBJECT']\n",
    "    dateobs = fitsobject[0].header['DATE-OBS']\n",
    "    exptime = fitsobject[0].header['EXPTIME']   \n",
    "    filename = fitsobject[0].header['ORIGNAME']\n",
    "    wavelength = fitsobject[1].data['wavelength']\n",
    "\n",
    "    flux = fitsobject[1].data['flux']\n",
    "    background = fitsobject[1].data['background']\n",
    "\n",
    "    plt.subplot(3,2,(1,2))\n",
    "\n",
    "\n",
    "    \n",
    "    plt.plot (wavelength, background, label='Background Flux')\n",
    "    plt.plot (wavelength, flux, label='Object Flux')\n",
    "    plt.title (f'{filename} \\n {object}  • {dateobs} • {exptime}s')\n",
    "    plt.xlabel ('Wavelength (Angstroms)')\n",
    "    plt.ylabel ('Flux')\n",
    "    plt.legend()\n",
    "    \n",
    "\n",
    "\n",
    "    oxygen = 5577\n",
    "    plt.subplot(3,2,3)\n",
    "    plt.plot (wavelength, flux, label='Object Flux')\n",
    "    plt.plot (wavelength, background, label='Background Flux')\n",
    "    plt.xlim (oxygen-200, oxygen+200)\n",
    "    plt.axvline(oxygen, color='orange', linestyle='--', label='Sodium D2')\n",
    "    plt.title ('Oxygen Line')\n",
    "    plt.xlabel ('Wavelength (Angstroms)')\n",
    "    plt.ylabel ('Flux')\n",
    "\n",
    "\n",
    "    redoxygen = (6300+6360)/2\n",
    "    plt.subplot(3,2,4)\n",
    "    plt.plot (wavelength, flux, label='Object Flux')\n",
    "    plt.plot (wavelength, background, label='Background Flux')\n",
    "    plt.xlim (redoxygen-200, redoxygen+200)\n",
    "    plt.axvline(redoxygen, color='orange', linestyle='--', label='Sodium D2')\n",
    "    plt.title ('Red Oxygen Line')\n",
    "    plt.xlabel ('Wavelength (Angstroms)')\n",
    "    plt.ylabel ('Flux')\n",
    "   \n",
    "    \n",
    "    plt.tight_layout()\n",
    "\n",
    "    plt.savefig (f'{filename}.pdf', dpi=300)\n",
    "    plt.close()\n",
    "\n",
    "\n",
    "def plot_floyds_qc_from_file(filename):\n",
    "    \"\"\"\n",
    "    Plot the QC data from a FITS file.\n",
    "    \n",
    "    Parameters\n",
    "    ----------\n",
    "    filename : str\n",
    "        The path to the FITS file containing the QC data.\n",
    "    \"\"\"\n",
    "    with astropy.io.fits.open(filename) as hdul:\n",
    "        plot_floyds_qc(hdul)\n",
    "        hdul.close()\n",
    "    \n",
    "plot_floyds_qc_from_file('~/lco/banzai-floyds/coj2m002-en12-20250716-0014-e91-1d.fits.fz')"
   ]
  },
  {
   "cell_type": "code",
   "execution_count": 22,
   "id": "5a9206a7",
   "metadata": {},
   "outputs": [
    {
     "name": "stdout",
     "output_type": "stream",
     "text": [
      "['/Users/dharbeck/lco/banzai-floyds//coj2m002-en12-20250716-0014-e91-1d.fits.fz', '/Users/dharbeck/lco/banzai-floyds//coj2m002-en12-20250718-0011-e91-1d.fits.fz', '/Users/dharbeck/lco/banzai-floyds//coj2m002-en12-20250719-0011-e91-1d.fits.fz', '/Users/dharbeck/lco/banzai-floyds//coj2m002-en12-20250718-0001-e91-1d.fits.fz', '/Users/dharbeck/lco/banzai-floyds//coj2m002-en12-20250719-0014-e91-1d.fits.fz', '/Users/dharbeck/lco/banzai-floyds//coj2m002-en12-20250718-0012-e91-1d.fits.fz', '/Users/dharbeck/lco/banzai-floyds//coj2m002-en12-20250716-0017-e91-1d.fits.fz', '/Users/dharbeck/lco/banzai-floyds//coj2m002-en12-20250719-0015-e91-1d.fits.fz', '/Users/dharbeck/lco/banzai-floyds//coj2m002-en12-20250723-0004-e91-1d.fits.fz', '/Users/dharbeck/lco/banzai-floyds//coj2m002-en12-20250723-0005-e91-1d.fits.fz', '/Users/dharbeck/lco/banzai-floyds//coj2m002-en12-20250724-0004-e91-1d.fits.fz', '/Users/dharbeck/lco/banzai-floyds//coj2m002-en12-20250804-0012-e91-1d.fits.fz', '/Users/dharbeck/lco/banzai-floyds//coj2m002-en12-20250718-0022-e91-1d.fits.fz', '/Users/dharbeck/lco/banzai-floyds//coj2m002-en12-20250804-0002-e91-1d.fits.fz', '/Users/dharbeck/lco/banzai-floyds//coj2m002-en12-20250724-0007-e91-1d.fits.fz', '/Users/dharbeck/lco/banzai-floyds//coj2m002-en12-20250804-0003-e91-1d.fits.fz', '/Users/dharbeck/lco/banzai-floyds//coj2m002-en12-20250723-0001-e91-1d.fits.fz', '/Users/dharbeck/lco/banzai-floyds//coj2m002-en12-20250718-0023-e91-1d.fits.fz']\n"
     ]
    }
   ],
   "source": [
    "def list_1d_fits_fz_files(directory):\n",
    "    return [f'{directory}/{f}' for f in os.listdir(directory) if f.endswith('-1d.fits.fz')]\n",
    "\n",
    "allfiles = list_1d_fits_fz_files('/Users/dharbeck/lco/banzai-floyds/')\n",
    "print (allfiles)\n",
    "for file in allfiles:\n",
    "    plot_floyds_qc_from_file(file)"
   ]
  },
  {
   "cell_type": "code",
   "execution_count": null,
   "id": "85e62221",
   "metadata": {},
   "outputs": [],
   "source": []
  }
 ],
 "metadata": {
  "kernelspec": {
   "display_name": "banzai-floyds-Lpwl68nO-py3.11",
   "language": "python",
   "name": "python3"
  },
  "language_info": {
   "codemirror_mode": {
    "name": "ipython",
    "version": 3
   },
   "file_extension": ".py",
   "mimetype": "text/x-python",
   "name": "python",
   "nbconvert_exporter": "python",
   "pygments_lexer": "ipython3",
   "version": "3.11.3"
  }
 },
 "nbformat": 4,
 "nbformat_minor": 5
}
