{
 "cells": [
  {
   "cell_type": "markdown",
   "id": "9ec4fa5a-9c6c-4b64-8b5a-0730243a2e53",
   "metadata": {},
   "source": [
    "# Run the wavelength calibration notebook first!"
   ]
  },
  {
   "cell_type": "code",
   "execution_count": 1,
   "id": "e1b2885c-35b0-46be-b2f7-ab1eeae2519e",
   "metadata": {},
   "outputs": [],
   "source": [
    "import os\n",
    "os.environ['OPENTSDB_PYTHON_METRICS_TEST_MODE'] = 'True'"
   ]
  },
  {
   "cell_type": "code",
   "execution_count": 2,
   "id": "c4ba521c-5abe-497a-8a57-ae5bc4bf3a57",
   "metadata": {},
   "outputs": [],
   "source": [
    "from banzai.calibrations import make_master_calibrations\n",
    "import importlib.resources\n",
    "import requests\n",
    "from banzai_floyds import settings\n",
    "from banzai.utils.stage_utils import run_pipeline_stages\n",
    "from banzai.utils.fits_utils import download_from_s3\n",
    "import numpy as np\n",
    "from astropy.io import ascii"
   ]
  },
  {
   "cell_type": "code",
   "execution_count": 3,
   "id": "8265dfbb-d24a-43af-8b5f-70c9814da858",
   "metadata": {},
   "outputs": [],
   "source": [
    "os.environ['DB_ADDRESS'] = 'sqlite:///test_data/test.db'\n",
    "settings.processed_path= os.path.join(os.getcwd(), 'test_data')\n",
    "settings.fpack=True\n",
    "settings.db_address = os.environ['DB_ADDRESS']\n",
    "settings.RAW_DATA_FRAME_URL = f'https://archive-api.lco.global/frames'"
   ]
  },
  {
   "cell_type": "code",
   "execution_count": 4,
   "id": "526a1f03-b6b8-43a0-802b-a0f3b4f9512a",
   "metadata": {},
   "outputs": [],
   "source": [
    "# set up the context object.\n",
    "import banzai.main\n",
    "context = banzai.main.parse_args(settings, parse_system_args=False)"
   ]
  },
  {
   "cell_type": "code",
   "execution_count": 5,
   "id": "62eb93a6-216f-45ba-9490-7d634d9129e0",
   "metadata": {},
   "outputs": [
    {
     "name": "stderr",
     "output_type": "stream",
     "text": [
      "2024-02-05 12:40:56.713     INFO:      fits_utils: Downloading file coj2m002-en12-20200813-0016-w00.fits.fz from archive. ID: 33851505. | {\"filename\": \"coj2m002-en12-20200813-0016-w00.fits.fz\", \"attempt_number\": 1, \"processName\": \"MainProcess\"}\n",
      "2024-02-05 12:40:58.889     INFO:          stages: Running banzai.stages.OverscanSubtractor | {\"filename\": \"coj2m002-en12-20200813-0016-w00.fits.fz\", \"site\": \"coj\", \"instrument\": \"floyds02\", \"epoch\": \"20200813\", \"request_num\": \"2207712\", \"obstype\": \"LAMPFLAT\", \"filter\": \"air\", \"processName\": \"MainProcess\"}\n",
      "2024-02-05 12:40:58.891     INFO:          stages: Running banzai.stages.Trimmer | {\"filename\": \"coj2m002-en12-20200813-0016-w00.fits.fz\", \"site\": \"coj\", \"instrument\": \"floyds02\", \"epoch\": \"20200813\", \"request_num\": \"2207712\", \"obstype\": \"LAMPFLAT\", \"filter\": \"air\", \"processName\": \"MainProcess\"}\n",
      "2024-02-05 12:40:58.892     INFO:            trim: Trimming image | {\"filename\": \"coj2m002-en12-20200813-0016-w00.fits.fz\", \"site\": \"coj\", \"instrument\": \"floyds02\", \"epoch\": \"20200813\", \"request_num\": \"2207712\", \"obstype\": \"LAMPFLAT\", \"filter\": \"air\", \"processName\": \"MainProcess\"}\n",
      "2024-02-05 12:40:58.948     INFO:          stages: Running banzai.stages.GainNormalizer | {\"filename\": \"coj2m002-en12-20200813-0016-w00.fits.fz\", \"site\": \"coj\", \"instrument\": \"floyds02\", \"epoch\": \"20200813\", \"request_num\": \"2207712\", \"obstype\": \"LAMPFLAT\", \"filter\": \"air\", \"processName\": \"MainProcess\"}\n",
      "2024-02-05 12:40:58.949     INFO:            gain: Multiplying by gain | {\"filename\": \"coj2m002-en12-20200813-0016-w00.fits.fz\", \"site\": \"coj\", \"instrument\": \"floyds02\", \"epoch\": \"20200813\", \"request_num\": \"2207712\", \"obstype\": \"LAMPFLAT\", \"filter\": \"air\", \"processName\": \"MainProcess\"}\n",
      "2024-02-05 12:40:58.951     INFO:          stages: Running banzai.stages.PoissonInitializer | {\"filename\": \"coj2m002-en12-20200813-0016-w00.fits.fz\", \"site\": \"coj\", \"instrument\": \"floyds02\", \"epoch\": \"20200813\", \"request_num\": \"2207712\", \"obstype\": \"LAMPFLAT\", \"filter\": \"air\", \"processName\": \"MainProcess\"}\n",
      "2024-02-05 12:40:58.956     INFO:          stages: Running banzai.stages.OrderLoader | {\"filename\": \"coj2m002-en12-20200813-0016-w00.fits.fz\", \"site\": \"coj\", \"instrument\": \"floyds02\", \"epoch\": \"20200813\", \"request_num\": \"2207712\", \"obstype\": \"LAMPFLAT\", \"filter\": \"air\", \"processName\": \"MainProcess\"}\n",
      "2024-02-05 12:40:59.085     INFO:    calibrations: Applying master calibration | {\"filename\": \"coj2m002-en12-20200813-0016-w00.fits.fz\", \"site\": \"coj\", \"instrument\": \"floyds02\", \"epoch\": \"20200813\", \"request_num\": \"2207712\", \"obstype\": \"LAMPFLAT\", \"filter\": \"air\", \"master_calibration\": \"coj2m002-en12-20220313-0002-f91.fits.fz\", \"processName\": \"MainProcess\"}\n",
      "2024-02-05 12:40:59.087     INFO:          stages: Running banzai.stages.OrderTweaker | {\"filename\": \"coj2m002-en12-20200813-0016-w00.fits.fz\", \"site\": \"coj\", \"instrument\": \"floyds02\", \"epoch\": \"20200813\", \"request_num\": \"2207712\", \"obstype\": \"LAMPFLAT\", \"filter\": \"air\", \"processName\": \"MainProcess\"}\n",
      "2024-02-05 12:40:59.391     INFO:          stages: Running banzai.stages.WavelengthSolutionLoader | {\"filename\": \"coj2m002-en12-20200813-0016-w00.fits.fz\", \"site\": \"coj\", \"instrument\": \"floyds02\", \"epoch\": \"20200813\", \"request_num\": \"2207712\", \"obstype\": \"LAMPFLAT\", \"filter\": \"air\", \"processName\": \"MainProcess\"}\n",
      "2024-02-05 12:40:59.555     INFO:    calibrations: Applying master calibration | {\"filename\": \"coj2m002-en12-20200813-0016-w00.fits.fz\", \"site\": \"coj\", \"instrument\": \"floyds02\", \"epoch\": \"20200813\", \"request_num\": \"2207712\", \"obstype\": \"LAMPFLAT\", \"filter\": \"air\", \"master_calibration\": \"coj2m002-en12-20200813-0015-a91.fits.fz\", \"processName\": \"MainProcess\"}\n",
      "2024-02-05 12:40:59.559     INFO:          stages: Running banzai.stages.FringeLoader | {\"filename\": \"coj2m002-en12-20200813-0016-w00.fits.fz\", \"site\": \"coj\", \"instrument\": \"floyds02\", \"epoch\": \"20200813\", \"request_num\": \"2207712\", \"obstype\": \"LAMPFLAT\", \"filter\": \"air\", \"processName\": \"MainProcess\"}\n",
      "2024-02-05 12:40:59.732     INFO:      fits_utils: Downloading file coj2m002-en12-20200813-0027-w00.fits.fz from archive. ID: 33852359. | {\"filename\": \"coj2m002-en12-20200813-0027-w00.fits.fz\", \"attempt_number\": 1, \"processName\": \"MainProcess\"}\n",
      "2024-02-05 12:41:01.915     INFO:          stages: Running banzai.stages.OverscanSubtractor | {\"filename\": \"coj2m002-en12-20200813-0027-w00.fits.fz\", \"site\": \"coj\", \"instrument\": \"floyds02\", \"epoch\": \"20200813\", \"request_num\": \"2207853\", \"obstype\": \"LAMPFLAT\", \"filter\": \"air\", \"processName\": \"MainProcess\"}\n",
      "2024-02-05 12:41:01.917     INFO:          stages: Running banzai.stages.Trimmer | {\"filename\": \"coj2m002-en12-20200813-0027-w00.fits.fz\", \"site\": \"coj\", \"instrument\": \"floyds02\", \"epoch\": \"20200813\", \"request_num\": \"2207853\", \"obstype\": \"LAMPFLAT\", \"filter\": \"air\", \"processName\": \"MainProcess\"}\n",
      "2024-02-05 12:41:01.917     INFO:            trim: Trimming image | {\"filename\": \"coj2m002-en12-20200813-0027-w00.fits.fz\", \"site\": \"coj\", \"instrument\": \"floyds02\", \"epoch\": \"20200813\", \"request_num\": \"2207853\", \"obstype\": \"LAMPFLAT\", \"filter\": \"air\", \"processName\": \"MainProcess\"}\n",
      "2024-02-05 12:41:01.981     INFO:          stages: Running banzai.stages.GainNormalizer | {\"filename\": \"coj2m002-en12-20200813-0027-w00.fits.fz\", \"site\": \"coj\", \"instrument\": \"floyds02\", \"epoch\": \"20200813\", \"request_num\": \"2207853\", \"obstype\": \"LAMPFLAT\", \"filter\": \"air\", \"processName\": \"MainProcess\"}\n",
      "2024-02-05 12:41:01.982     INFO:            gain: Multiplying by gain | {\"filename\": \"coj2m002-en12-20200813-0027-w00.fits.fz\", \"site\": \"coj\", \"instrument\": \"floyds02\", \"epoch\": \"20200813\", \"request_num\": \"2207853\", \"obstype\": \"LAMPFLAT\", \"filter\": \"air\", \"processName\": \"MainProcess\"}\n",
      "2024-02-05 12:41:01.983     INFO:          stages: Running banzai.stages.PoissonInitializer | {\"filename\": \"coj2m002-en12-20200813-0027-w00.fits.fz\", \"site\": \"coj\", \"instrument\": \"floyds02\", \"epoch\": \"20200813\", \"request_num\": \"2207853\", \"obstype\": \"LAMPFLAT\", \"filter\": \"air\", \"processName\": \"MainProcess\"}\n",
      "2024-02-05 12:41:01.989     INFO:          stages: Running banzai.stages.OrderLoader | {\"filename\": \"coj2m002-en12-20200813-0027-w00.fits.fz\", \"site\": \"coj\", \"instrument\": \"floyds02\", \"epoch\": \"20200813\", \"request_num\": \"2207853\", \"obstype\": \"LAMPFLAT\", \"filter\": \"air\", \"processName\": \"MainProcess\"}\n",
      "2024-02-05 12:41:02.112     INFO:    calibrations: Applying master calibration | {\"filename\": \"coj2m002-en12-20200813-0027-w00.fits.fz\", \"site\": \"coj\", \"instrument\": \"floyds02\", \"epoch\": \"20200813\", \"request_num\": \"2207853\", \"obstype\": \"LAMPFLAT\", \"filter\": \"air\", \"master_calibration\": \"coj2m002-en12-20220313-0002-f91.fits.fz\", \"processName\": \"MainProcess\"}\n",
      "2024-02-05 12:41:02.115     INFO:          stages: Running banzai.stages.OrderTweaker | {\"filename\": \"coj2m002-en12-20200813-0027-w00.fits.fz\", \"site\": \"coj\", \"instrument\": \"floyds02\", \"epoch\": \"20200813\", \"request_num\": \"2207853\", \"obstype\": \"LAMPFLAT\", \"filter\": \"air\", \"processName\": \"MainProcess\"}\n",
      "2024-02-05 12:41:02.242     INFO:          stages: Running banzai.stages.WavelengthSolutionLoader | {\"filename\": \"coj2m002-en12-20200813-0027-w00.fits.fz\", \"site\": \"coj\", \"instrument\": \"floyds02\", \"epoch\": \"20200813\", \"request_num\": \"2207853\", \"obstype\": \"LAMPFLAT\", \"filter\": \"air\", \"processName\": \"MainProcess\"}\n",
      "2024-02-05 12:41:02.409     INFO:    calibrations: Applying master calibration | {\"filename\": \"coj2m002-en12-20200813-0027-w00.fits.fz\", \"site\": \"coj\", \"instrument\": \"floyds02\", \"epoch\": \"20200813\", \"request_num\": \"2207853\", \"obstype\": \"LAMPFLAT\", \"filter\": \"air\", \"master_calibration\": \"coj2m002-en12-20200813-0028-a91.fits.fz\", \"processName\": \"MainProcess\"}\n",
      "2024-02-05 12:41:02.412     INFO:          stages: Running banzai.stages.FringeLoader | {\"filename\": \"coj2m002-en12-20200813-0027-w00.fits.fz\", \"site\": \"coj\", \"instrument\": \"floyds02\", \"epoch\": \"20200813\", \"request_num\": \"2207853\", \"obstype\": \"LAMPFLAT\", \"filter\": \"air\", \"processName\": \"MainProcess\"}\n",
      "2024-02-05 12:41:02.583     INFO:      fits_utils: Downloading file ogg2m001-en06-20200822-0008-w00.fits.fz from archive. ID: 33989173. | {\"filename\": \"ogg2m001-en06-20200822-0008-w00.fits.fz\", \"attempt_number\": 1, \"processName\": \"MainProcess\"}\n",
      "2024-02-05 12:41:04.512     INFO:          stages: Running banzai.stages.OverscanSubtractor | {\"filename\": \"ogg2m001-en06-20200822-0008-w00.fits.fz\", \"site\": \"ogg\", \"instrument\": \"floyds01\", \"epoch\": \"20200822\", \"request_num\": \"2217414\", \"obstype\": \"LAMPFLAT\", \"filter\": \"air\", \"processName\": \"MainProcess\"}\n",
      "2024-02-05 12:41:04.515     INFO:          stages: Running banzai.stages.Trimmer | {\"filename\": \"ogg2m001-en06-20200822-0008-w00.fits.fz\", \"site\": \"ogg\", \"instrument\": \"floyds01\", \"epoch\": \"20200822\", \"request_num\": \"2217414\", \"obstype\": \"LAMPFLAT\", \"filter\": \"air\", \"processName\": \"MainProcess\"}\n",
      "2024-02-05 12:41:04.515     INFO:            trim: Trimming image | {\"filename\": \"ogg2m001-en06-20200822-0008-w00.fits.fz\", \"site\": \"ogg\", \"instrument\": \"floyds01\", \"epoch\": \"20200822\", \"request_num\": \"2217414\", \"obstype\": \"LAMPFLAT\", \"filter\": \"air\", \"processName\": \"MainProcess\"}\n",
      "2024-02-05 12:41:04.575     INFO:          stages: Running banzai.stages.GainNormalizer | {\"filename\": \"ogg2m001-en06-20200822-0008-w00.fits.fz\", \"site\": \"ogg\", \"instrument\": \"floyds01\", \"epoch\": \"20200822\", \"request_num\": \"2217414\", \"obstype\": \"LAMPFLAT\", \"filter\": \"air\", \"processName\": \"MainProcess\"}\n",
      "2024-02-05 12:41:04.575     INFO:            gain: Multiplying by gain | {\"filename\": \"ogg2m001-en06-20200822-0008-w00.fits.fz\", \"site\": \"ogg\", \"instrument\": \"floyds01\", \"epoch\": \"20200822\", \"request_num\": \"2217414\", \"obstype\": \"LAMPFLAT\", \"filter\": \"air\", \"processName\": \"MainProcess\"}\n",
      "2024-02-05 12:41:04.577     INFO:          stages: Running banzai.stages.PoissonInitializer | {\"filename\": \"ogg2m001-en06-20200822-0008-w00.fits.fz\", \"site\": \"ogg\", \"instrument\": \"floyds01\", \"epoch\": \"20200822\", \"request_num\": \"2217414\", \"obstype\": \"LAMPFLAT\", \"filter\": \"air\", \"processName\": \"MainProcess\"}\n",
      "2024-02-05 12:41:04.585     INFO:          stages: Running banzai.stages.OrderLoader | {\"filename\": \"ogg2m001-en06-20200822-0008-w00.fits.fz\", \"site\": \"ogg\", \"instrument\": \"floyds01\", \"epoch\": \"20200822\", \"request_num\": \"2217414\", \"obstype\": \"LAMPFLAT\", \"filter\": \"air\", \"processName\": \"MainProcess\"}\n",
      "2024-02-05 12:41:04.720     INFO:    calibrations: Applying master calibration | {\"filename\": \"ogg2m001-en06-20200822-0008-w00.fits.fz\", \"site\": \"ogg\", \"instrument\": \"floyds01\", \"epoch\": \"20200822\", \"request_num\": \"2217414\", \"obstype\": \"LAMPFLAT\", \"filter\": \"air\", \"master_calibration\": \"ogg2m001-en06-20190329-0018-f91.fits.fz\", \"processName\": \"MainProcess\"}\n",
      "2024-02-05 12:41:04.724     INFO:          stages: Running banzai.stages.OrderTweaker | {\"filename\": \"ogg2m001-en06-20200822-0008-w00.fits.fz\", \"site\": \"ogg\", \"instrument\": \"floyds01\", \"epoch\": \"20200822\", \"request_num\": \"2217414\", \"obstype\": \"LAMPFLAT\", \"filter\": \"air\", \"processName\": \"MainProcess\"}\n",
      "2024-02-05 12:41:05.015     INFO:          stages: Running banzai.stages.WavelengthSolutionLoader | {\"filename\": \"ogg2m001-en06-20200822-0008-w00.fits.fz\", \"site\": \"ogg\", \"instrument\": \"floyds01\", \"epoch\": \"20200822\", \"request_num\": \"2217414\", \"obstype\": \"LAMPFLAT\", \"filter\": \"air\", \"processName\": \"MainProcess\"}\n",
      "2024-02-05 12:41:05.221     INFO:    calibrations: Applying master calibration | {\"filename\": \"ogg2m001-en06-20200822-0008-w00.fits.fz\", \"site\": \"ogg\", \"instrument\": \"floyds01\", \"epoch\": \"20200822\", \"request_num\": \"2217414\", \"obstype\": \"LAMPFLAT\", \"filter\": \"air\", \"master_calibration\": \"ogg2m001-en06-20200822-0009-a91.fits.fz\", \"processName\": \"MainProcess\"}\n",
      "2024-02-05 12:41:05.224     INFO:          stages: Running banzai.stages.FringeLoader | {\"filename\": \"ogg2m001-en06-20200822-0008-w00.fits.fz\", \"site\": \"ogg\", \"instrument\": \"floyds01\", \"epoch\": \"20200822\", \"request_num\": \"2217414\", \"obstype\": \"LAMPFLAT\", \"filter\": \"air\", \"processName\": \"MainProcess\"}\n",
      "2024-02-05 12:41:05.397     INFO:      fits_utils: Downloading file ogg2m001-en06-20200822-0029-w00.fits.fz from archive. ID: 33995044. | {\"filename\": \"ogg2m001-en06-20200822-0029-w00.fits.fz\", \"attempt_number\": 1, \"processName\": \"MainProcess\"}\n",
      "2024-02-05 12:41:07.783     INFO:          stages: Running banzai.stages.OverscanSubtractor | {\"filename\": \"ogg2m001-en06-20200822-0029-w00.fits.fz\", \"site\": \"ogg\", \"instrument\": \"floyds01\", \"epoch\": \"20200822\", \"request_num\": \"2217762\", \"obstype\": \"LAMPFLAT\", \"filter\": \"air\", \"processName\": \"MainProcess\"}\n",
      "2024-02-05 12:41:07.785     INFO:          stages: Running banzai.stages.Trimmer | {\"filename\": \"ogg2m001-en06-20200822-0029-w00.fits.fz\", \"site\": \"ogg\", \"instrument\": \"floyds01\", \"epoch\": \"20200822\", \"request_num\": \"2217762\", \"obstype\": \"LAMPFLAT\", \"filter\": \"air\", \"processName\": \"MainProcess\"}\n",
      "2024-02-05 12:41:07.786     INFO:            trim: Trimming image | {\"filename\": \"ogg2m001-en06-20200822-0029-w00.fits.fz\", \"site\": \"ogg\", \"instrument\": \"floyds01\", \"epoch\": \"20200822\", \"request_num\": \"2217762\", \"obstype\": \"LAMPFLAT\", \"filter\": \"air\", \"processName\": \"MainProcess\"}\n",
      "2024-02-05 12:41:07.842     INFO:          stages: Running banzai.stages.GainNormalizer | {\"filename\": \"ogg2m001-en06-20200822-0029-w00.fits.fz\", \"site\": \"ogg\", \"instrument\": \"floyds01\", \"epoch\": \"20200822\", \"request_num\": \"2217762\", \"obstype\": \"LAMPFLAT\", \"filter\": \"air\", \"processName\": \"MainProcess\"}\n",
      "2024-02-05 12:41:07.842     INFO:            gain: Multiplying by gain | {\"filename\": \"ogg2m001-en06-20200822-0029-w00.fits.fz\", \"site\": \"ogg\", \"instrument\": \"floyds01\", \"epoch\": \"20200822\", \"request_num\": \"2217762\", \"obstype\": \"LAMPFLAT\", \"filter\": \"air\", \"processName\": \"MainProcess\"}\n",
      "2024-02-05 12:41:07.844     INFO:          stages: Running banzai.stages.PoissonInitializer | {\"filename\": \"ogg2m001-en06-20200822-0029-w00.fits.fz\", \"site\": \"ogg\", \"instrument\": \"floyds01\", \"epoch\": \"20200822\", \"request_num\": \"2217762\", \"obstype\": \"LAMPFLAT\", \"filter\": \"air\", \"processName\": \"MainProcess\"}\n",
      "2024-02-05 12:41:07.849     INFO:          stages: Running banzai.stages.OrderLoader | {\"filename\": \"ogg2m001-en06-20200822-0029-w00.fits.fz\", \"site\": \"ogg\", \"instrument\": \"floyds01\", \"epoch\": \"20200822\", \"request_num\": \"2217762\", \"obstype\": \"LAMPFLAT\", \"filter\": \"air\", \"processName\": \"MainProcess\"}\n",
      "2024-02-05 12:41:07.977     INFO:    calibrations: Applying master calibration | {\"filename\": \"ogg2m001-en06-20200822-0029-w00.fits.fz\", \"site\": \"ogg\", \"instrument\": \"floyds01\", \"epoch\": \"20200822\", \"request_num\": \"2217762\", \"obstype\": \"LAMPFLAT\", \"filter\": \"air\", \"master_calibration\": \"ogg2m001-en06-20190329-0018-f91.fits.fz\", \"processName\": \"MainProcess\"}\n",
      "2024-02-05 12:41:07.980     INFO:          stages: Running banzai.stages.OrderTweaker | {\"filename\": \"ogg2m001-en06-20200822-0029-w00.fits.fz\", \"site\": \"ogg\", \"instrument\": \"floyds01\", \"epoch\": \"20200822\", \"request_num\": \"2217762\", \"obstype\": \"LAMPFLAT\", \"filter\": \"air\", \"processName\": \"MainProcess\"}\n",
      "2024-02-05 12:41:08.053     INFO:          stages: Running banzai.stages.WavelengthSolutionLoader | {\"filename\": \"ogg2m001-en06-20200822-0029-w00.fits.fz\", \"site\": \"ogg\", \"instrument\": \"floyds01\", \"epoch\": \"20200822\", \"request_num\": \"2217762\", \"obstype\": \"LAMPFLAT\", \"filter\": \"air\", \"processName\": \"MainProcess\"}\n",
      "2024-02-05 12:41:08.222     INFO:    calibrations: Applying master calibration | {\"filename\": \"ogg2m001-en06-20200822-0029-w00.fits.fz\", \"site\": \"ogg\", \"instrument\": \"floyds01\", \"epoch\": \"20200822\", \"request_num\": \"2217762\", \"obstype\": \"LAMPFLAT\", \"filter\": \"air\", \"master_calibration\": \"ogg2m001-en06-20200822-0028-a91.fits.fz\", \"processName\": \"MainProcess\"}\n",
      "2024-02-05 12:41:08.224     INFO:          stages: Running banzai.stages.FringeLoader | {\"filename\": \"ogg2m001-en06-20200822-0029-w00.fits.fz\", \"site\": \"ogg\", \"instrument\": \"floyds01\", \"epoch\": \"20200822\", \"request_num\": \"2217762\", \"obstype\": \"LAMPFLAT\", \"filter\": \"air\", \"processName\": \"MainProcess\"}\n"
     ]
    }
   ],
   "source": [
    "test_data = ascii.read(os.path.join(importlib.resources.files('banzai_floyds.tests'), 'data/test_data.dat'))\n",
    "for row in test_data:\n",
    "    if 'w00.fits' in row['filename']:\n",
    "        run_pipeline_stages([{'filename': row['filename'], 'RLEVEL': 0, 'frameid': row['frameid']}], context)"
   ]
  },
  {
   "cell_type": "code",
   "execution_count": 6,
   "id": "72911fa4-6973-4cc4-a905-9d4242e13d89",
   "metadata": {},
   "outputs": [
    {
     "name": "stderr",
     "output_type": "stream",
     "text": [
      "2024-02-05 12:41:08.410     INFO:    calibrations: Making master frames | {\"type\": \"2m0-FLOYDS-SciCam\", \"site\": \"ogg\", \"camera\": \"en06\", \"obstype\": \"LAMPFLAT\", \"min_date\": \"2015-01-01\", \"max_date\": \"2025-01-01\", \"processName\": \"MainProcess\"}\n",
      "2024-02-05 12:41:08.609     INFO:          stages: Running banzai.stages.FringeMaker | {\"filename\": \"ogg2m001-en06-20200822-0008-w91.fits.fz\", \"site\": \"ogg\", \"instrument\": \"floyds01\", \"epoch\": \"20200822\", \"request_num\": \"2217414\", \"obstype\": \"LAMPFLAT\", \"filter\": \"air\", \"processName\": \"MainProcess\"}\n",
      "2024-02-05 12:41:32.981  WARNING:        warnings: /Users/cmccully/miniconda3/envs/banzai-floyds/lib/python3.10/site-packages/astropy/io/fits/card.py:1038: VerifyWarning: Card is too long, comment will be truncated.\n",
      "  warnings.warn(\n",
      "\n",
      "2024-02-05 12:41:33.102     INFO:    calibrations: Finished | {\"processName\": \"MainProcess\"}\n",
      "2024-02-05 12:41:33.103     INFO:    calibrations: Making master frames | {\"type\": \"2m0-FLOYDS-SciCam\", \"site\": \"coj\", \"camera\": \"en12\", \"obstype\": \"LAMPFLAT\", \"min_date\": \"2015-01-01\", \"max_date\": \"2025-01-01\", \"processName\": \"MainProcess\"}\n",
      "2024-02-05 12:41:33.296     INFO:          stages: Running banzai.stages.FringeMaker | {\"filename\": \"coj2m002-en12-20200813-0016-w91.fits.fz\", \"site\": \"coj\", \"instrument\": \"floyds02\", \"epoch\": \"20200813\", \"request_num\": \"2207712\", \"obstype\": \"LAMPFLAT\", \"filter\": \"air\", \"processName\": \"MainProcess\"}\n",
      "2024-02-05 12:41:58.282     INFO:    calibrations: Finished | {\"processName\": \"MainProcess\"}\n"
     ]
    }
   ],
   "source": [
    "observations = {'request': {'configuration': {'LAMPFLAT': {'instrument_configs': {'exposure_count': 1}}}}}\n",
    "intruments = [banzai.dbs.get_instruments_at_site(site, context.db_address)[0] for site in ['ogg', 'coj']]\n",
    "for instrument in intruments:\n",
    "    make_master_calibrations(instrument, 'LAMPFLAT', '2015-01-01', '2025-01-01', context)"
   ]
  },
  {
   "cell_type": "code",
   "execution_count": null,
   "id": "4355f988-c655-41bb-a1a9-b5422be34485",
   "metadata": {},
   "outputs": [],
   "source": []
  }
 ],
 "metadata": {
  "kernelspec": {
   "display_name": "Python 3 (ipykernel)",
   "language": "python",
   "name": "python3"
  },
  "language_info": {
   "codemirror_mode": {
    "name": "ipython",
    "version": 3
   },
   "file_extension": ".py",
   "mimetype": "text/x-python",
   "name": "python",
   "nbconvert_exporter": "python",
   "pygments_lexer": "ipython3",
   "version": "3.10.13"
  }
 },
 "nbformat": 4,
 "nbformat_minor": 5
}
