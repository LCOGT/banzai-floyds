{
 "cells": [
  {
   "cell_type": "markdown",
   "id": "9ec4fa5a-9c6c-4b64-8b5a-0730243a2e53",
   "metadata": {},
   "source": [
    "# Run the wavelength calibration notebook first!"
   ]
  },
  {
   "cell_type": "code",
   "execution_count": 1,
   "id": "e1b2885c-35b0-46be-b2f7-ab1eeae2519e",
   "metadata": {},
   "outputs": [],
   "source": [
    "import os\n",
    "os.environ['OPENTSDB_PYTHON_METRICS_TEST_MODE'] = 'True'"
   ]
  },
  {
   "cell_type": "code",
   "execution_count": 2,
   "id": "c4ba521c-5abe-497a-8a57-ae5bc4bf3a57",
   "metadata": {},
   "outputs": [],
   "source": [
    "from banzai.calibrations import make_master_calibrations\n",
    "import importlib.resources\n",
    "import requests\n",
    "from banzai_floyds import settings\n",
    "from banzai.utils.stage_utils import run_pipeline_stages\n",
    "from banzai.utils.fits_utils import download_from_s3\n",
    "import numpy as np\n",
    "from astropy.io import ascii"
   ]
  },
  {
   "cell_type": "code",
   "execution_count": 3,
   "id": "8265dfbb-d24a-43af-8b5f-70c9814da858",
   "metadata": {},
   "outputs": [],
   "source": [
    "os.environ['DB_ADDRESS'] = 'sqlite:///test_data/test.db'\n",
    "settings.processed_path= os.path.join(os.getcwd(), 'test_data')\n",
    "settings.fpack=True\n",
    "settings.db_address = os.environ['DB_ADDRESS']\n",
    "settings.RAW_DATA_FRAME_URL = f'https://archive-api.lco.global/frames'"
   ]
  },
  {
   "cell_type": "code",
   "execution_count": 4,
   "id": "526a1f03-b6b8-43a0-802b-a0f3b4f9512a",
   "metadata": {},
   "outputs": [],
   "source": [
    "# set up the context object.\n",
    "import banzai.main\n",
    "context = banzai.main.parse_args(settings, parse_system_args=False)"
   ]
  },
  {
   "cell_type": "code",
   "execution_count": 5,
   "id": "62eb93a6-216f-45ba-9490-7d634d9129e0",
   "metadata": {},
   "outputs": [
    {
     "name": "stderr",
     "output_type": "stream",
     "text": [
      "2024-11-04 13:53:31.584     INFO:      fits_utils: Downloading file coj2m002-en12-20200813-0016-w00.fits.fz from archive. ID: 33851505. | {\"filename\": \"coj2m002-en12-20200813-0016-w00.fits.fz\", \"attempt_number\": 1, \"processName\": \"MainProcess\"}\n",
      "2024-11-04 13:53:37.348     INFO:          stages: Running banzai.stages.OverscanSubtractor | {\"filename\": \"coj2m002-en12-20200813-0016-w00.fits.fz\", \"site\": \"coj\", \"instrument\": \"floyds02\", \"epoch\": \"20200813\", \"request_num\": \"2207712\", \"obstype\": \"LAMPFLAT\", \"filter\": \"air\", \"processName\": \"MainProcess\"}\n",
      "2024-11-04 13:53:37.350     INFO:          stages: Running banzai.stages.Trimmer | {\"filename\": \"coj2m002-en12-20200813-0016-w00.fits.fz\", \"site\": \"coj\", \"instrument\": \"floyds02\", \"epoch\": \"20200813\", \"request_num\": \"2207712\", \"obstype\": \"LAMPFLAT\", \"filter\": \"air\", \"processName\": \"MainProcess\"}\n",
      "2024-11-04 13:53:37.350     INFO:            trim: Trimming image | {\"filename\": \"coj2m002-en12-20200813-0016-w00.fits.fz\", \"site\": \"coj\", \"instrument\": \"floyds02\", \"epoch\": \"20200813\", \"request_num\": \"2207712\", \"obstype\": \"LAMPFLAT\", \"filter\": \"air\", \"processName\": \"MainProcess\"}\n",
      "2024-11-04 13:53:37.426     INFO:          stages: Running banzai.stages.GainNormalizer | {\"filename\": \"coj2m002-en12-20200813-0016-w00.fits.fz\", \"site\": \"coj\", \"instrument\": \"floyds02\", \"epoch\": \"20200813\", \"request_num\": \"2207712\", \"obstype\": \"LAMPFLAT\", \"filter\": \"air\", \"processName\": \"MainProcess\"}\n",
      "2024-11-04 13:53:37.426     INFO:            gain: Multiplying by gain | {\"filename\": \"coj2m002-en12-20200813-0016-w00.fits.fz\", \"site\": \"coj\", \"instrument\": \"floyds02\", \"epoch\": \"20200813\", \"request_num\": \"2207712\", \"obstype\": \"LAMPFLAT\", \"filter\": \"air\", \"processName\": \"MainProcess\"}\n",
      "2024-11-04 13:53:37.451     INFO:          stages: Running banzai.stages.PoissonInitializer | {\"filename\": \"coj2m002-en12-20200813-0016-w00.fits.fz\", \"site\": \"coj\", \"instrument\": \"floyds02\", \"epoch\": \"20200813\", \"request_num\": \"2207712\", \"obstype\": \"LAMPFLAT\", \"filter\": \"air\", \"processName\": \"MainProcess\"}\n",
      "2024-11-04 13:53:38.051     INFO:    inference_cr: Initializing Cosmic-CoNN CR detection ground_imaging model...\n",
      "\n",
      "2024-11-04 13:53:38.051     INFO:     cosmic_conn: ...GPU or CUDA not detected, using CPU (slower). \n",
      "2024-11-04 13:53:38.052     INFO:     cosmic_conn: ...training on CPU is not recommended.\n",
      "2024-11-04 13:53:38.062     INFO:    inference_cr: ground_imaging model initialized.\n",
      "\n",
      "2024-11-04 13:53:38.062     INFO:          stages: Running banzai.stages.CosmicRayDetector | {\"filename\": \"coj2m002-en12-20200813-0016-w00.fits.fz\", \"site\": \"coj\", \"instrument\": \"floyds02\", \"epoch\": \"20200813\", \"request_num\": \"2207712\", \"obstype\": \"LAMPFLAT\", \"filter\": \"air\", \"processName\": \"MainProcess\"}\n",
      "2024-11-04 13:53:41.077     INFO:          stages: Running banzai.stages.OrderLoader | {\"filename\": \"coj2m002-en12-20200813-0016-w00.fits.fz\", \"site\": \"coj\", \"instrument\": \"floyds02\", \"epoch\": \"20200813\", \"request_num\": \"2207712\", \"obstype\": \"LAMPFLAT\", \"filter\": \"air\", \"processName\": \"MainProcess\"}\n",
      "2024-11-04 13:53:41.223     INFO:    calibrations: Applying master calibration | {\"filename\": \"coj2m002-en12-20200813-0016-w00.fits.fz\", \"site\": \"coj\", \"instrument\": \"floyds02\", \"epoch\": \"20200813\", \"request_num\": \"2207712\", \"obstype\": \"LAMPFLAT\", \"filter\": \"air\", \"master_calibration\": \"coj2m002-en12-20220313-0002-f91.fits.fz\", \"processName\": \"MainProcess\"}\n",
      "2024-11-04 13:53:41.228     INFO:          stages: Running banzai.stages.OrderTweaker | {\"filename\": \"coj2m002-en12-20200813-0016-w00.fits.fz\", \"site\": \"coj\", \"instrument\": \"floyds02\", \"epoch\": \"20200813\", \"request_num\": \"2207712\", \"obstype\": \"LAMPFLAT\", \"filter\": \"air\", \"processName\": \"MainProcess\"}\n",
      "2024-11-04 13:53:41.353     INFO:          stages: Running banzai.stages.WavelengthSolutionLoader | {\"filename\": \"coj2m002-en12-20200813-0016-w00.fits.fz\", \"site\": \"coj\", \"instrument\": \"floyds02\", \"epoch\": \"20200813\", \"request_num\": \"2207712\", \"obstype\": \"LAMPFLAT\", \"filter\": \"air\", \"processName\": \"MainProcess\"}\n",
      "2024-11-04 13:53:41.549     INFO:    calibrations: Applying master calibration | {\"filename\": \"coj2m002-en12-20200813-0016-w00.fits.fz\", \"site\": \"coj\", \"instrument\": \"floyds02\", \"epoch\": \"20200813\", \"request_num\": \"2207712\", \"obstype\": \"LAMPFLAT\", \"filter\": \"air\", \"master_calibration\": \"coj2m002-en12-20200813-0015-a91.fits.fz\", \"processName\": \"MainProcess\"}\n",
      "2024-11-04 13:53:41.554     INFO:          stages: Running banzai.stages.FringeLoader | {\"filename\": \"coj2m002-en12-20200813-0016-w00.fits.fz\", \"site\": \"coj\", \"instrument\": \"floyds02\", \"epoch\": \"20200813\", \"request_num\": \"2207712\", \"obstype\": \"LAMPFLAT\", \"filter\": \"air\", \"processName\": \"MainProcess\"}\n",
      "2024-11-04 13:53:41.660     INFO:    calibrations: Applying master calibration | {\"filename\": \"coj2m002-en12-20200813-0016-w00.fits.fz\", \"site\": \"coj\", \"instrument\": \"floyds02\", \"epoch\": \"20200813\", \"request_num\": \"2207712\", \"obstype\": \"LAMPFLAT\", \"filter\": \"air\", \"master_calibration\": \"coj2m002-en12-20200813-lampflat.fits.fz\", \"processName\": \"MainProcess\"}\n",
      "2024-11-04 13:53:41.836     INFO:      fits_utils: Downloading file coj2m002-en12-20200813-0027-w00.fits.fz from archive. ID: 33852359. | {\"filename\": \"coj2m002-en12-20200813-0027-w00.fits.fz\", \"attempt_number\": 1, \"processName\": \"MainProcess\"}\n",
      "2024-11-04 13:53:47.798     INFO:          stages: Running banzai.stages.OverscanSubtractor | {\"filename\": \"coj2m002-en12-20200813-0027-w00.fits.fz\", \"site\": \"coj\", \"instrument\": \"floyds02\", \"epoch\": \"20200813\", \"request_num\": \"2207853\", \"obstype\": \"LAMPFLAT\", \"filter\": \"air\", \"processName\": \"MainProcess\"}\n",
      "2024-11-04 13:53:47.801     INFO:          stages: Running banzai.stages.Trimmer | {\"filename\": \"coj2m002-en12-20200813-0027-w00.fits.fz\", \"site\": \"coj\", \"instrument\": \"floyds02\", \"epoch\": \"20200813\", \"request_num\": \"2207853\", \"obstype\": \"LAMPFLAT\", \"filter\": \"air\", \"processName\": \"MainProcess\"}\n",
      "2024-11-04 13:53:47.801     INFO:            trim: Trimming image | {\"filename\": \"coj2m002-en12-20200813-0027-w00.fits.fz\", \"site\": \"coj\", \"instrument\": \"floyds02\", \"epoch\": \"20200813\", \"request_num\": \"2207853\", \"obstype\": \"LAMPFLAT\", \"filter\": \"air\", \"processName\": \"MainProcess\"}\n",
      "2024-11-04 13:53:47.885     INFO:          stages: Running banzai.stages.GainNormalizer | {\"filename\": \"coj2m002-en12-20200813-0027-w00.fits.fz\", \"site\": \"coj\", \"instrument\": \"floyds02\", \"epoch\": \"20200813\", \"request_num\": \"2207853\", \"obstype\": \"LAMPFLAT\", \"filter\": \"air\", \"processName\": \"MainProcess\"}\n",
      "2024-11-04 13:53:47.885     INFO:            gain: Multiplying by gain | {\"filename\": \"coj2m002-en12-20200813-0027-w00.fits.fz\", \"site\": \"coj\", \"instrument\": \"floyds02\", \"epoch\": \"20200813\", \"request_num\": \"2207853\", \"obstype\": \"LAMPFLAT\", \"filter\": \"air\", \"processName\": \"MainProcess\"}\n",
      "2024-11-04 13:53:47.912     INFO:          stages: Running banzai.stages.PoissonInitializer | {\"filename\": \"coj2m002-en12-20200813-0027-w00.fits.fz\", \"site\": \"coj\", \"instrument\": \"floyds02\", \"epoch\": \"20200813\", \"request_num\": \"2207853\", \"obstype\": \"LAMPFLAT\", \"filter\": \"air\", \"processName\": \"MainProcess\"}\n",
      "2024-11-04 13:53:47.938     INFO:          stages: Running banzai.stages.CosmicRayDetector | {\"filename\": \"coj2m002-en12-20200813-0027-w00.fits.fz\", \"site\": \"coj\", \"instrument\": \"floyds02\", \"epoch\": \"20200813\", \"request_num\": \"2207853\", \"obstype\": \"LAMPFLAT\", \"filter\": \"air\", \"processName\": \"MainProcess\"}\n",
      "2024-11-04 13:53:51.504     INFO:          stages: Running banzai.stages.OrderLoader | {\"filename\": \"coj2m002-en12-20200813-0027-w00.fits.fz\", \"site\": \"coj\", \"instrument\": \"floyds02\", \"epoch\": \"20200813\", \"request_num\": \"2207853\", \"obstype\": \"LAMPFLAT\", \"filter\": \"air\", \"processName\": \"MainProcess\"}\n",
      "2024-11-04 13:53:51.650     INFO:    calibrations: Applying master calibration | {\"filename\": \"coj2m002-en12-20200813-0027-w00.fits.fz\", \"site\": \"coj\", \"instrument\": \"floyds02\", \"epoch\": \"20200813\", \"request_num\": \"2207853\", \"obstype\": \"LAMPFLAT\", \"filter\": \"air\", \"master_calibration\": \"coj2m002-en12-20220313-0002-f91.fits.fz\", \"processName\": \"MainProcess\"}\n",
      "2024-11-04 13:53:51.655     INFO:          stages: Running banzai.stages.OrderTweaker | {\"filename\": \"coj2m002-en12-20200813-0027-w00.fits.fz\", \"site\": \"coj\", \"instrument\": \"floyds02\", \"epoch\": \"20200813\", \"request_num\": \"2207853\", \"obstype\": \"LAMPFLAT\", \"filter\": \"air\", \"processName\": \"MainProcess\"}\n",
      "2024-11-04 13:53:51.771     INFO:          stages: Running banzai.stages.WavelengthSolutionLoader | {\"filename\": \"coj2m002-en12-20200813-0027-w00.fits.fz\", \"site\": \"coj\", \"instrument\": \"floyds02\", \"epoch\": \"20200813\", \"request_num\": \"2207853\", \"obstype\": \"LAMPFLAT\", \"filter\": \"air\", \"processName\": \"MainProcess\"}\n",
      "2024-11-04 13:53:51.955     INFO:    calibrations: Applying master calibration | {\"filename\": \"coj2m002-en12-20200813-0027-w00.fits.fz\", \"site\": \"coj\", \"instrument\": \"floyds02\", \"epoch\": \"20200813\", \"request_num\": \"2207853\", \"obstype\": \"LAMPFLAT\", \"filter\": \"air\", \"master_calibration\": \"coj2m002-en12-20200813-0028-a91.fits.fz\", \"processName\": \"MainProcess\"}\n",
      "2024-11-04 13:53:51.958     INFO:          stages: Running banzai.stages.FringeLoader | {\"filename\": \"coj2m002-en12-20200813-0027-w00.fits.fz\", \"site\": \"coj\", \"instrument\": \"floyds02\", \"epoch\": \"20200813\", \"request_num\": \"2207853\", \"obstype\": \"LAMPFLAT\", \"filter\": \"air\", \"processName\": \"MainProcess\"}\n",
      "2024-11-04 13:53:52.065     INFO:    calibrations: Applying master calibration | {\"filename\": \"coj2m002-en12-20200813-0027-w00.fits.fz\", \"site\": \"coj\", \"instrument\": \"floyds02\", \"epoch\": \"20200813\", \"request_num\": \"2207853\", \"obstype\": \"LAMPFLAT\", \"filter\": \"air\", \"master_calibration\": \"coj2m002-en12-20200813-lampflat.fits.fz\", \"processName\": \"MainProcess\"}\n",
      "2024-11-04 13:53:52.243     INFO:      fits_utils: Downloading file ogg2m001-en06-20200822-0008-w00.fits.fz from archive. ID: 33989173. | {\"filename\": \"ogg2m001-en06-20200822-0008-w00.fits.fz\", \"attempt_number\": 1, \"processName\": \"MainProcess\"}\n",
      "2024-11-04 13:53:57.331     INFO:          stages: Running banzai.stages.OverscanSubtractor | {\"filename\": \"ogg2m001-en06-20200822-0008-w00.fits.fz\", \"site\": \"ogg\", \"instrument\": \"floyds01\", \"epoch\": \"20200822\", \"request_num\": \"2217414\", \"obstype\": \"LAMPFLAT\", \"filter\": \"air\", \"processName\": \"MainProcess\"}\n",
      "2024-11-04 13:53:57.333     INFO:          stages: Running banzai.stages.Trimmer | {\"filename\": \"ogg2m001-en06-20200822-0008-w00.fits.fz\", \"site\": \"ogg\", \"instrument\": \"floyds01\", \"epoch\": \"20200822\", \"request_num\": \"2217414\", \"obstype\": \"LAMPFLAT\", \"filter\": \"air\", \"processName\": \"MainProcess\"}\n",
      "2024-11-04 13:53:57.334     INFO:            trim: Trimming image | {\"filename\": \"ogg2m001-en06-20200822-0008-w00.fits.fz\", \"site\": \"ogg\", \"instrument\": \"floyds01\", \"epoch\": \"20200822\", \"request_num\": \"2217414\", \"obstype\": \"LAMPFLAT\", \"filter\": \"air\", \"processName\": \"MainProcess\"}\n",
      "2024-11-04 13:53:57.420     INFO:          stages: Running banzai.stages.GainNormalizer | {\"filename\": \"ogg2m001-en06-20200822-0008-w00.fits.fz\", \"site\": \"ogg\", \"instrument\": \"floyds01\", \"epoch\": \"20200822\", \"request_num\": \"2217414\", \"obstype\": \"LAMPFLAT\", \"filter\": \"air\", \"processName\": \"MainProcess\"}\n",
      "2024-11-04 13:53:57.421     INFO:            gain: Multiplying by gain | {\"filename\": \"ogg2m001-en06-20200822-0008-w00.fits.fz\", \"site\": \"ogg\", \"instrument\": \"floyds01\", \"epoch\": \"20200822\", \"request_num\": \"2217414\", \"obstype\": \"LAMPFLAT\", \"filter\": \"air\", \"processName\": \"MainProcess\"}\n",
      "2024-11-04 13:53:57.445     INFO:          stages: Running banzai.stages.PoissonInitializer | {\"filename\": \"ogg2m001-en06-20200822-0008-w00.fits.fz\", \"site\": \"ogg\", \"instrument\": \"floyds01\", \"epoch\": \"20200822\", \"request_num\": \"2217414\", \"obstype\": \"LAMPFLAT\", \"filter\": \"air\", \"processName\": \"MainProcess\"}\n",
      "2024-11-04 13:53:57.478     INFO:          stages: Running banzai.stages.CosmicRayDetector | {\"filename\": \"ogg2m001-en06-20200822-0008-w00.fits.fz\", \"site\": \"ogg\", \"instrument\": \"floyds01\", \"epoch\": \"20200822\", \"request_num\": \"2217414\", \"obstype\": \"LAMPFLAT\", \"filter\": \"air\", \"processName\": \"MainProcess\"}\n",
      "2024-11-04 13:54:00.754     INFO:          stages: Running banzai.stages.OrderLoader | {\"filename\": \"ogg2m001-en06-20200822-0008-w00.fits.fz\", \"site\": \"ogg\", \"instrument\": \"floyds01\", \"epoch\": \"20200822\", \"request_num\": \"2217414\", \"obstype\": \"LAMPFLAT\", \"filter\": \"air\", \"processName\": \"MainProcess\"}\n",
      "2024-11-04 13:54:00.896     INFO:    calibrations: Applying master calibration | {\"filename\": \"ogg2m001-en06-20200822-0008-w00.fits.fz\", \"site\": \"ogg\", \"instrument\": \"floyds01\", \"epoch\": \"20200822\", \"request_num\": \"2217414\", \"obstype\": \"LAMPFLAT\", \"filter\": \"air\", \"master_calibration\": \"ogg2m001-en06-20190329-0018-f91.fits.fz\", \"processName\": \"MainProcess\"}\n",
      "2024-11-04 13:54:00.901     INFO:          stages: Running banzai.stages.OrderTweaker | {\"filename\": \"ogg2m001-en06-20200822-0008-w00.fits.fz\", \"site\": \"ogg\", \"instrument\": \"floyds01\", \"epoch\": \"20200822\", \"request_num\": \"2217414\", \"obstype\": \"LAMPFLAT\", \"filter\": \"air\", \"processName\": \"MainProcess\"}\n",
      "2024-11-04 13:54:00.987     INFO:          stages: Running banzai.stages.WavelengthSolutionLoader | {\"filename\": \"ogg2m001-en06-20200822-0008-w00.fits.fz\", \"site\": \"ogg\", \"instrument\": \"floyds01\", \"epoch\": \"20200822\", \"request_num\": \"2217414\", \"obstype\": \"LAMPFLAT\", \"filter\": \"air\", \"processName\": \"MainProcess\"}\n",
      "2024-11-04 13:54:01.218     INFO:    calibrations: Applying master calibration | {\"filename\": \"ogg2m001-en06-20200822-0008-w00.fits.fz\", \"site\": \"ogg\", \"instrument\": \"floyds01\", \"epoch\": \"20200822\", \"request_num\": \"2217414\", \"obstype\": \"LAMPFLAT\", \"filter\": \"air\", \"master_calibration\": \"ogg2m001-en06-20200822-0009-a91.fits.fz\", \"processName\": \"MainProcess\"}\n",
      "2024-11-04 13:54:01.220     INFO:          stages: Running banzai.stages.FringeLoader | {\"filename\": \"ogg2m001-en06-20200822-0008-w00.fits.fz\", \"site\": \"ogg\", \"instrument\": \"floyds01\", \"epoch\": \"20200822\", \"request_num\": \"2217414\", \"obstype\": \"LAMPFLAT\", \"filter\": \"air\", \"processName\": \"MainProcess\"}\n",
      "2024-11-04 13:54:01.330     INFO:    calibrations: Applying master calibration | {\"filename\": \"ogg2m001-en06-20200822-0008-w00.fits.fz\", \"site\": \"ogg\", \"instrument\": \"floyds01\", \"epoch\": \"20200822\", \"request_num\": \"2217414\", \"obstype\": \"LAMPFLAT\", \"filter\": \"air\", \"master_calibration\": \"ogg2m001-en06-20200822-lampflat.fits.fz\", \"processName\": \"MainProcess\"}\n",
      "2024-11-04 13:54:01.506     INFO:      fits_utils: Downloading file ogg2m001-en06-20200822-0029-w00.fits.fz from archive. ID: 33995044. | {\"filename\": \"ogg2m001-en06-20200822-0029-w00.fits.fz\", \"attempt_number\": 1, \"processName\": \"MainProcess\"}\n",
      "2024-11-04 13:54:03.445     INFO:          stages: Running banzai.stages.OverscanSubtractor | {\"filename\": \"ogg2m001-en06-20200822-0029-w00.fits.fz\", \"site\": \"ogg\", \"instrument\": \"floyds01\", \"epoch\": \"20200822\", \"request_num\": \"2217762\", \"obstype\": \"LAMPFLAT\", \"filter\": \"air\", \"processName\": \"MainProcess\"}\n",
      "2024-11-04 13:54:03.447     INFO:          stages: Running banzai.stages.Trimmer | {\"filename\": \"ogg2m001-en06-20200822-0029-w00.fits.fz\", \"site\": \"ogg\", \"instrument\": \"floyds01\", \"epoch\": \"20200822\", \"request_num\": \"2217762\", \"obstype\": \"LAMPFLAT\", \"filter\": \"air\", \"processName\": \"MainProcess\"}\n",
      "2024-11-04 13:54:03.448     INFO:            trim: Trimming image | {\"filename\": \"ogg2m001-en06-20200822-0029-w00.fits.fz\", \"site\": \"ogg\", \"instrument\": \"floyds01\", \"epoch\": \"20200822\", \"request_num\": \"2217762\", \"obstype\": \"LAMPFLAT\", \"filter\": \"air\", \"processName\": \"MainProcess\"}\n",
      "2024-11-04 13:54:03.543     INFO:          stages: Running banzai.stages.GainNormalizer | {\"filename\": \"ogg2m001-en06-20200822-0029-w00.fits.fz\", \"site\": \"ogg\", \"instrument\": \"floyds01\", \"epoch\": \"20200822\", \"request_num\": \"2217762\", \"obstype\": \"LAMPFLAT\", \"filter\": \"air\", \"processName\": \"MainProcess\"}\n",
      "2024-11-04 13:54:03.544     INFO:            gain: Multiplying by gain | {\"filename\": \"ogg2m001-en06-20200822-0029-w00.fits.fz\", \"site\": \"ogg\", \"instrument\": \"floyds01\", \"epoch\": \"20200822\", \"request_num\": \"2217762\", \"obstype\": \"LAMPFLAT\", \"filter\": \"air\", \"processName\": \"MainProcess\"}\n",
      "2024-11-04 13:54:03.571     INFO:          stages: Running banzai.stages.PoissonInitializer | {\"filename\": \"ogg2m001-en06-20200822-0029-w00.fits.fz\", \"site\": \"ogg\", \"instrument\": \"floyds01\", \"epoch\": \"20200822\", \"request_num\": \"2217762\", \"obstype\": \"LAMPFLAT\", \"filter\": \"air\", \"processName\": \"MainProcess\"}\n",
      "2024-11-04 13:54:03.595     INFO:          stages: Running banzai.stages.CosmicRayDetector | {\"filename\": \"ogg2m001-en06-20200822-0029-w00.fits.fz\", \"site\": \"ogg\", \"instrument\": \"floyds01\", \"epoch\": \"20200822\", \"request_num\": \"2217762\", \"obstype\": \"LAMPFLAT\", \"filter\": \"air\", \"processName\": \"MainProcess\"}\n",
      "2024-11-04 13:54:06.664     INFO:          stages: Running banzai.stages.OrderLoader | {\"filename\": \"ogg2m001-en06-20200822-0029-w00.fits.fz\", \"site\": \"ogg\", \"instrument\": \"floyds01\", \"epoch\": \"20200822\", \"request_num\": \"2217762\", \"obstype\": \"LAMPFLAT\", \"filter\": \"air\", \"processName\": \"MainProcess\"}\n",
      "2024-11-04 13:54:06.807     INFO:    calibrations: Applying master calibration | {\"filename\": \"ogg2m001-en06-20200822-0029-w00.fits.fz\", \"site\": \"ogg\", \"instrument\": \"floyds01\", \"epoch\": \"20200822\", \"request_num\": \"2217762\", \"obstype\": \"LAMPFLAT\", \"filter\": \"air\", \"master_calibration\": \"ogg2m001-en06-20190329-0018-f91.fits.fz\", \"processName\": \"MainProcess\"}\n",
      "2024-11-04 13:54:06.812     INFO:          stages: Running banzai.stages.OrderTweaker | {\"filename\": \"ogg2m001-en06-20200822-0029-w00.fits.fz\", \"site\": \"ogg\", \"instrument\": \"floyds01\", \"epoch\": \"20200822\", \"request_num\": \"2217762\", \"obstype\": \"LAMPFLAT\", \"filter\": \"air\", \"processName\": \"MainProcess\"}\n",
      "2024-11-04 13:54:06.901     INFO:          stages: Running banzai.stages.WavelengthSolutionLoader | {\"filename\": \"ogg2m001-en06-20200822-0029-w00.fits.fz\", \"site\": \"ogg\", \"instrument\": \"floyds01\", \"epoch\": \"20200822\", \"request_num\": \"2217762\", \"obstype\": \"LAMPFLAT\", \"filter\": \"air\", \"processName\": \"MainProcess\"}\n",
      "2024-11-04 13:54:07.111     INFO:    calibrations: Applying master calibration | {\"filename\": \"ogg2m001-en06-20200822-0029-w00.fits.fz\", \"site\": \"ogg\", \"instrument\": \"floyds01\", \"epoch\": \"20200822\", \"request_num\": \"2217762\", \"obstype\": \"LAMPFLAT\", \"filter\": \"air\", \"master_calibration\": \"ogg2m001-en06-20200822-0028-a91.fits.fz\", \"processName\": \"MainProcess\"}\n",
      "2024-11-04 13:54:07.113     INFO:          stages: Running banzai.stages.FringeLoader | {\"filename\": \"ogg2m001-en06-20200822-0029-w00.fits.fz\", \"site\": \"ogg\", \"instrument\": \"floyds01\", \"epoch\": \"20200822\", \"request_num\": \"2217762\", \"obstype\": \"LAMPFLAT\", \"filter\": \"air\", \"processName\": \"MainProcess\"}\n",
      "2024-11-04 13:54:07.222     INFO:    calibrations: Applying master calibration | {\"filename\": \"ogg2m001-en06-20200822-0029-w00.fits.fz\", \"site\": \"ogg\", \"instrument\": \"floyds01\", \"epoch\": \"20200822\", \"request_num\": \"2217762\", \"obstype\": \"LAMPFLAT\", \"filter\": \"air\", \"master_calibration\": \"ogg2m001-en06-20200822-lampflat.fits.fz\", \"processName\": \"MainProcess\"}\n"
     ]
    }
   ],
   "source": [
    "test_data = ascii.read(os.path.join(importlib.resources.files('banzai_floyds.tests'), 'data/test_data.dat'))\n",
    "for row in test_data:\n",
    "    if 'w00.fits' in row['filename']:\n",
    "        run_pipeline_stages([{'filename': row['filename'], 'RLEVEL': 0, 'frameid': row['frameid']}], context)"
   ]
  },
  {
   "cell_type": "code",
   "execution_count": 6,
   "id": "72911fa4-6973-4cc4-a905-9d4242e13d89",
   "metadata": {},
   "outputs": [
    {
     "name": "stderr",
     "output_type": "stream",
     "text": [
      "2024-11-04 13:54:07.402     INFO:    calibrations: Making master frames | {\"type\": \"2m0-FLOYDS-SciCam\", \"site\": \"ogg\", \"camera\": \"en06\", \"obstype\": \"LAMPFLAT\", \"min_date\": \"2015-01-01\", \"max_date\": \"2025-01-01\", \"processName\": \"MainProcess\"}\n",
      "2024-11-04 13:54:07.634     INFO:          stages: Running banzai.stages.FringeMaker | {\"filename\": \"ogg2m001-en06-20200822-0008-w91.fits.fz\", \"site\": \"ogg\", \"instrument\": \"floyds01\", \"epoch\": \"20200822\", \"request_num\": \"2217414\", \"obstype\": \"LAMPFLAT\", \"filter\": \"air\", \"processName\": \"MainProcess\"}\n",
      "2024-11-04 13:54:46.656  WARNING:        warnings: /Users/cmccully/miniconda3/envs/banzai-floyds/lib/python3.10/site-packages/astropy/io/fits/card.py:1038: VerifyWarning: Card is too long, comment will be truncated.\n",
      "  warnings.warn(\n",
      "\n",
      "2024-11-04 13:54:46.891     INFO:    calibrations: Finished | {\"processName\": \"MainProcess\"}\n",
      "2024-11-04 13:54:46.891     INFO:    calibrations: Making master frames | {\"type\": \"2m0-FLOYDS-SciCam\", \"site\": \"coj\", \"camera\": \"en12\", \"obstype\": \"LAMPFLAT\", \"min_date\": \"2015-01-01\", \"max_date\": \"2025-01-01\", \"processName\": \"MainProcess\"}\n",
      "2024-11-04 13:54:47.151     INFO:          stages: Running banzai.stages.FringeMaker | {\"filename\": \"coj2m002-en12-20200813-0016-w91.fits.fz\", \"site\": \"coj\", \"instrument\": \"floyds02\", \"epoch\": \"20200813\", \"request_num\": \"2207712\", \"obstype\": \"LAMPFLAT\", \"filter\": \"air\", \"processName\": \"MainProcess\"}\n",
      "2024-11-04 13:55:28.919     INFO:    calibrations: Finished | {\"processName\": \"MainProcess\"}\n"
     ]
    }
   ],
   "source": [
    "observations = {'request': {'configuration': {'LAMPFLAT': {'instrument_configs': {'exposure_count': 1}}}}}\n",
    "intruments = [banzai.dbs.get_instruments_at_site(site, context.db_address)[0] for site in ['ogg', 'coj']]\n",
    "for instrument in intruments:\n",
    "    make_master_calibrations(instrument, 'LAMPFLAT', '2015-01-01', '2025-01-01', context)"
   ]
  },
  {
   "cell_type": "code",
   "execution_count": null,
   "id": "bbce7438-bc90-4b90-a6c0-e43077117a4d",
   "metadata": {},
   "outputs": [],
   "source": []
  }
 ],
 "metadata": {
  "kernelspec": {
   "display_name": "Python 3 (ipykernel)",
   "language": "python",
   "name": "python3"
  },
  "language_info": {
   "codemirror_mode": {
    "name": "ipython",
    "version": 3
   },
   "file_extension": ".py",
   "mimetype": "text/x-python",
   "name": "python",
   "nbconvert_exporter": "python",
   "pygments_lexer": "ipython3",
   "version": "3.10.13"
  }
 },
 "nbformat": 4,
 "nbformat_minor": 5
}
