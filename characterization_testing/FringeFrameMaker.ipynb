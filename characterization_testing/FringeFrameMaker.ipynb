{
 "cells": [
  {
   "cell_type": "markdown",
   "id": "9ec4fa5a-9c6c-4b64-8b5a-0730243a2e53",
   "metadata": {},
   "source": [
    "# Run the wavelength calibration notebook first!"
   ]
  },
  {
   "cell_type": "code",
   "execution_count": null,
   "id": "e1b2885c-35b0-46be-b2f7-ab1eeae2519e",
   "metadata": {},
   "outputs": [],
   "source": [
    "import os\n",
    "os.environ['OPENTSDB_PYTHON_METRICS_TEST_MODE'] = 'True'"
   ]
  },
  {
   "cell_type": "code",
   "execution_count": null,
   "id": "c4ba521c-5abe-497a-8a57-ae5bc4bf3a57",
   "metadata": {},
   "outputs": [],
   "source": [
    "from banzai.calibrations import make_master_calibrations\n",
    "import importlib.resources\n",
    "import requests\n",
    "from banzai_floyds import settings\n",
    "from banzai.utils.stage_utils import run_pipeline_stages\n",
    "from banzai.utils.fits_utils import download_from_s3\n",
    "import numpy as np\n",
    "from astropy.io import ascii"
   ]
  },
  {
   "cell_type": "code",
   "execution_count": null,
   "id": "8265dfbb-d24a-43af-8b5f-70c9814da858",
   "metadata": {},
   "outputs": [],
   "source": [
    "os.environ['DB_ADDRESS'] = 'sqlite:///test_data/test.db'\n",
    "settings.processed_path= os.path.join(os.getcwd(), 'test_data')\n",
    "settings.fpack=True\n",
    "settings.db_address = os.environ['DB_ADDRESS']\n",
    "settings.RAW_DATA_FRAME_URL = f'https://archive-api.lco.global/frames'"
   ]
  },
  {
   "cell_type": "code",
   "execution_count": null,
   "id": "526a1f03-b6b8-43a0-802b-a0f3b4f9512a",
   "metadata": {},
   "outputs": [],
   "source": [
    "# set up the context object.\n",
    "import banzai.main\n",
    "context = banzai.main.parse_args(settings, parse_system_args=False)"
   ]
  },
  {
   "cell_type": "code",
   "execution_count": null,
   "id": "62eb93a6-216f-45ba-9490-7d634d9129e0",
   "metadata": {},
   "outputs": [],
   "source": [
    "test_data = ascii.read(os.path.join(importlib.resources.files('banzai_floyds.tests'), 'data/test_data.dat'))\n",
    "for row in test_data:\n",
    "    if 'w00.fits' in row['filename']:\n",
    "        run_pipeline_stages([{'filename': row['filename'], 'RLEVEL': 0, 'frameid': row['frameid']}], context)"
   ]
  },
  {
   "cell_type": "code",
   "execution_count": null,
   "id": "72911fa4-6973-4cc4-a905-9d4242e13d89",
   "metadata": {},
   "outputs": [],
   "source": [
    "observations = {'request': {'configuration': {'LAMPFLAT': {'instrument_configs': {'exposure_count': 1}}}}}\n",
    "intruments = [banzai.dbs.get_instruments_at_site(site, context.db_address)[0] for site in ['ogg', 'coj']]\n",
    "for instrument in intruments:\n",
    "    make_master_calibrations(instrument, 'LAMPFLAT', '2015-01-01', '2026-01-01', context)"
   ]
  }
 ],
 "metadata": {
  "kernelspec": {
   "display_name": "Python 3 (ipykernel)",
   "language": "python",
   "name": "python3"
  },
  "language_info": {
   "codemirror_mode": {
    "name": "ipython",
    "version": 3
   },
   "file_extension": ".py",
   "mimetype": "text/x-python",
   "name": "python",
   "nbconvert_exporter": "python",
   "pygments_lexer": "ipython3",
   "version": "3.13.5"
  }
 },
 "nbformat": 4,
 "nbformat_minor": 5
}
