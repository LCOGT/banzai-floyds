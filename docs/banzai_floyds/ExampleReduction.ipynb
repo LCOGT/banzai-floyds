{
 "cells": [
  {
   "cell_type": "code",
   "execution_count": 1,
   "id": "125d0bc6",
   "metadata": {},
   "outputs": [],
   "source": [
    "import os\n",
    "os.environ['OPENTSDB_PYTHON_METRICS_TEST_MODE'] = 'True'"
   ]
  },
  {
   "cell_type": "code",
   "execution_count": 2,
   "id": "161b33dc",
   "metadata": {},
   "outputs": [
    {
     "name": "stderr",
     "output_type": "stream",
     "text": [
      "2023-09-07 16:29:54.713  WARNING:        warnings: /Users/cmccully/miniconda3/envs/banzai-floyds/lib/python3.10/site-packages/requests/__init__.py:102: RequestsDependencyWarning: urllib3 (1.26.14) or chardet (5.1.0)/charset_normalizer (2.0.4) doesn't match a supported version!\n",
      "  warnings.warn(\"urllib3 ({}) or chardet ({})/charset_normalizer ({}) doesn't match a supported \"\n",
      "\n",
      "2023-09-07 16:29:55.372     INFO:           utils: Note: NumExpr detected 10 cores but \"NUMEXPR_MAX_THREADS\" not set, so enforcing safe limit of 8.\n",
      "2023-09-07 16:29:55.373     INFO:           utils: NumExpr defaulting to 8 threads.\n"
     ]
    }
   ],
   "source": [
    "from banzai.calibrations import make_master_calibrations\n",
    "import requests\n",
    "from banzai_floyds import settings\n",
    "import banzai.dbs\n",
    "from banzai.utils.stage_utils import run_pipeline_stages\n",
    "import logging\n",
    "from banzai.logs import set_log_level\n",
    "from glob import glob\n",
    "\n",
    "import pkg_resources\n",
    "import banzai_floyds.dbs\n",
    "from astropy.io import ascii, fits\n",
    "from banzai.utils.fits_utils import download_from_s3"
   ]
  },
  {
   "cell_type": "code",
   "execution_count": 3,
   "id": "103fd876",
   "metadata": {},
   "outputs": [],
   "source": [
    "os.environ['DB_ADDRESS'] = 'sqlite:///test_data/test.db'\n",
    "\n",
    "settings.processed_path= os.path.join(os.getcwd(), 'test_data')\n",
    "settings.fpack=True\n",
    "settings.db_address = os.environ['DB_ADDRESS']\n",
    "settings.reduction_level = 91\n",
    "settings.ARCHIVE_API_ROOT = 'https://archive-api.lco.global/'\n",
    "settings.RAW_DATA_API_ROOT = 'https://archive-api.lco.global/'\n",
    "settings.RAW_DATA_FRAME_URL = 'https://archive-api.lco.global/frames'\n",
    "settings.ARCHIVE_FRAME_URL = 'https://archive-api.lco.global/frames'"
   ]
  },
  {
   "cell_type": "code",
   "execution_count": 4,
   "id": "caa18273",
   "metadata": {},
   "outputs": [],
   "source": [
    "# set up the context object.\n",
    "import banzai.main\n",
    "context = banzai.main.parse_args(settings, parse_system_args=False)"
   ]
  },
  {
   "cell_type": "code",
   "execution_count": 11,
   "id": "329a1e76",
   "metadata": {},
   "outputs": [],
   "source": [
    "os.makedirs('test_data', exist_ok=True)"
   ]
  },
  {
   "cell_type": "code",
   "execution_count": 23,
   "id": "74d0d7f8",
   "metadata": {},
   "outputs": [
    {
     "name": "stderr",
     "output_type": "stream",
     "text": [
      "2023-08-08 14:43:23.983  WARNING:        warnings: /Users/cmccully/miniconda3/envs/banzai-floyds/lib/python3.10/site-packages/requests/__init__.py:102: RequestsDependencyWarning: urllib3 (1.26.14) or chardet (5.1.0)/charset_normalizer (2.0.4) doesn't match a supported version!\n",
      "  warnings.warn(\"urllib3 ({}) or chardet ({})/charset_normalizer ({}) doesn't match a supported \"\n",
      "\n",
      "2023-08-08 14:43:24.617     INFO:           utils: Note: NumExpr detected 10 cores but \"NUMEXPR_MAX_THREADS\" not set, so enforcing safe limit of 8.\n",
      "2023-08-08 14:43:24.617     INFO:           utils: NumExpr defaulting to 8 threads.\n",
      "2023-08-08 14:43:25.455  WARNING:        warnings: /Users/cmccully/miniconda3/envs/banzai-floyds/lib/python3.10/site-packages/requests/__init__.py:102: RequestsDependencyWarning: urllib3 (1.26.14) or chardet (5.1.0)/charset_normalizer (2.0.4) doesn't match a supported version!\n",
      "  warnings.warn(\"urllib3 ({}) or chardet ({})/charset_normalizer ({}) doesn't match a supported \"\n",
      "\n",
      "2023-08-08 14:43:25.927     INFO:           utils: Note: NumExpr detected 10 cores but \"NUMEXPR_MAX_THREADS\" not set, so enforcing safe limit of 8.\n",
      "2023-08-08 14:43:25.927     INFO:           utils: NumExpr defaulting to 8 threads.\n",
      "2023-08-08 14:43:26.641  WARNING:        warnings: /Users/cmccully/miniconda3/envs/banzai-floyds/lib/python3.10/site-packages/requests/__init__.py:102: RequestsDependencyWarning: urllib3 (1.26.14) or chardet (5.1.0)/charset_normalizer (2.0.4) doesn't match a supported version!\n",
      "  warnings.warn(\"urllib3 ({}) or chardet ({})/charset_normalizer ({}) doesn't match a supported \"\n",
      "\n",
      "2023-08-08 14:43:27.069     INFO:           utils: Note: NumExpr detected 10 cores but \"NUMEXPR_MAX_THREADS\" not set, so enforcing safe limit of 8.\n",
      "2023-08-08 14:43:27.069     INFO:           utils: NumExpr defaulting to 8 threads.\n",
      "2023-08-08 14:43:27.720  WARNING:        warnings: /Users/cmccully/miniconda3/envs/banzai-floyds/lib/python3.10/site-packages/requests/__init__.py:102: RequestsDependencyWarning: urllib3 (1.26.14) or chardet (5.1.0)/charset_normalizer (2.0.4) doesn't match a supported version!\n",
      "  warnings.warn(\"urllib3 ({}) or chardet ({})/charset_normalizer ({}) doesn't match a supported \"\n",
      "\n",
      "2023-08-08 14:43:28.152     INFO:           utils: Note: NumExpr detected 10 cores but \"NUMEXPR_MAX_THREADS\" not set, so enforcing safe limit of 8.\n",
      "2023-08-08 14:43:28.152     INFO:           utils: NumExpr defaulting to 8 threads.\n"
     ]
    }
   ],
   "source": [
    "banzai.dbs.create_db(os.environ[\"DB_ADDRESS\"])\n",
    "os.system(f'banzai_add_site --site ogg --latitude 20.7069444444 --longitude -156.258055556 --elevation 3065 --timezone -10 --db-address={os.environ[\"DB_ADDRESS\"]}')\n",
    "os.system(f'banzai_add_site --site coj --latitude -31.272932 --longitude 149.070648 --elevation 1116 --timezone 10 --db-address={os.environ[\"DB_ADDRESS\"]}')\n",
    "os.system(f'banzai_add_instrument --site ogg --camera en06 --name floyds01 --instrument-type 2m0-FLOYDS-SciCam --db-address={os.environ[\"DB_ADDRESS\"]}')\n",
    "os.system(f'banzai_add_instrument --site coj --camera en12 --name floyds02 --instrument-type 2m0-FLOYDS-SciCam --db-address={os.environ[\"DB_ADDRESS\"]}')\n",
    "banzai_floyds.dbs.ingest_standards(os.environ[\"DB_ADDRESS\"])"
   ]
  },
  {
   "cell_type": "code",
   "execution_count": 37,
   "id": "3bbc2051",
   "metadata": {},
   "outputs": [
    {
     "name": "stderr",
     "output_type": "stream",
     "text": [
      "2023-08-08 14:50:21.963     INFO:      fits_utils: Downloading file ogg2m001-en06-20190329-0018-x00.fits.fz from archive. ID: 29878203. | {\"filename\": \"ogg2m001-en06-20190329-0018-x00.fits.fz\", \"attempt_number\": 1, \"processName\": \"MainProcess\"}\n",
      "2023-08-08 14:50:24.537     INFO:          stages: Running banzai.stages.OverscanSubtractor | {\"filename\": \"ogg2m001-en06-20190329-0018-f00.fits.fz\", \"site\": \"ogg\", \"instrument\": \"floyds01\", \"epoch\": \"20190329\", \"request_num\": \"UNSPECIFIED\", \"obstype\": \"SKYFLAT\", \"filter\": \"air\", \"processName\": \"MainProcess\"}\n",
      "2023-08-08 14:50:24.540     INFO:          stages: Running banzai.stages.Trimmer | {\"filename\": \"ogg2m001-en06-20190329-0018-f00.fits.fz\", \"site\": \"ogg\", \"instrument\": \"floyds01\", \"epoch\": \"20190329\", \"request_num\": \"UNSPECIFIED\", \"obstype\": \"SKYFLAT\", \"filter\": \"air\", \"processName\": \"MainProcess\"}\n",
      "2023-08-08 14:50:24.541     INFO:            trim: Trimming image | {\"filename\": \"ogg2m001-en06-20190329-0018-f00.fits.fz\", \"site\": \"ogg\", \"instrument\": \"floyds01\", \"epoch\": \"20190329\", \"request_num\": \"UNSPECIFIED\", \"obstype\": \"SKYFLAT\", \"filter\": \"air\", \"processName\": \"MainProcess\"}\n",
      "2023-08-08 14:50:24.622     INFO:          stages: Running banzai.stages.GainNormalizer | {\"filename\": \"ogg2m001-en06-20190329-0018-f00.fits.fz\", \"site\": \"ogg\", \"instrument\": \"floyds01\", \"epoch\": \"20190329\", \"request_num\": \"UNSPECIFIED\", \"obstype\": \"SKYFLAT\", \"filter\": \"air\", \"processName\": \"MainProcess\"}\n",
      "2023-08-08 14:50:24.623     INFO:            gain: Multiplying by gain | {\"filename\": \"ogg2m001-en06-20190329-0018-f00.fits.fz\", \"site\": \"ogg\", \"instrument\": \"floyds01\", \"epoch\": \"20190329\", \"request_num\": \"UNSPECIFIED\", \"obstype\": \"SKYFLAT\", \"filter\": \"air\", \"processName\": \"MainProcess\"}\n",
      "2023-08-08 14:50:24.625     INFO:          stages: Running banzai.stages.PoissonInitializer | {\"filename\": \"ogg2m001-en06-20190329-0018-f00.fits.fz\", \"site\": \"ogg\", \"instrument\": \"floyds01\", \"epoch\": \"20190329\", \"request_num\": \"UNSPECIFIED\", \"obstype\": \"SKYFLAT\", \"filter\": \"air\", \"processName\": \"MainProcess\"}\n",
      "2023-08-08 14:50:24.630     INFO:          stages: Running banzai.stages.OrderSolver | {\"filename\": \"ogg2m001-en06-20190329-0018-f00.fits.fz\", \"site\": \"ogg\", \"instrument\": \"floyds01\", \"epoch\": \"20190329\", \"request_num\": \"UNSPECIFIED\", \"obstype\": \"SKYFLAT\", \"filter\": \"air\", \"processName\": \"MainProcess\"}\n",
      "2023-08-08 14:50:29.758     INFO:      fits_utils: Downloading file coj2m002-en12-20220313-0002-x00.fits.fz from archive. ID: 49224839. | {\"filename\": \"coj2m002-en12-20220313-0002-x00.fits.fz\", \"attempt_number\": 1, \"processName\": \"MainProcess\"}\n",
      "2023-08-08 14:50:31.650     INFO:          stages: Running banzai.stages.OverscanSubtractor | {\"filename\": \"coj2m002-en12-20220313-0002-f00.fits.fz\", \"site\": \"coj\", \"instrument\": \"floyds02\", \"epoch\": \"20220313\", \"request_num\": \"UNSPECIFIED\", \"obstype\": \"SKYFLAT\", \"filter\": \"air\", \"processName\": \"MainProcess\"}\n",
      "2023-08-08 14:50:31.652     INFO:          stages: Running banzai.stages.Trimmer | {\"filename\": \"coj2m002-en12-20220313-0002-f00.fits.fz\", \"site\": \"coj\", \"instrument\": \"floyds02\", \"epoch\": \"20220313\", \"request_num\": \"UNSPECIFIED\", \"obstype\": \"SKYFLAT\", \"filter\": \"air\", \"processName\": \"MainProcess\"}\n",
      "2023-08-08 14:50:31.653     INFO:            trim: Trimming image | {\"filename\": \"coj2m002-en12-20220313-0002-f00.fits.fz\", \"site\": \"coj\", \"instrument\": \"floyds02\", \"epoch\": \"20220313\", \"request_num\": \"UNSPECIFIED\", \"obstype\": \"SKYFLAT\", \"filter\": \"air\", \"processName\": \"MainProcess\"}\n",
      "2023-08-08 14:50:31.705     INFO:          stages: Running banzai.stages.GainNormalizer | {\"filename\": \"coj2m002-en12-20220313-0002-f00.fits.fz\", \"site\": \"coj\", \"instrument\": \"floyds02\", \"epoch\": \"20220313\", \"request_num\": \"UNSPECIFIED\", \"obstype\": \"SKYFLAT\", \"filter\": \"air\", \"processName\": \"MainProcess\"}\n",
      "2023-08-08 14:50:31.706     INFO:            gain: Multiplying by gain | {\"filename\": \"coj2m002-en12-20220313-0002-f00.fits.fz\", \"site\": \"coj\", \"instrument\": \"floyds02\", \"epoch\": \"20220313\", \"request_num\": \"UNSPECIFIED\", \"obstype\": \"SKYFLAT\", \"filter\": \"air\", \"processName\": \"MainProcess\"}\n",
      "2023-08-08 14:50:31.708     INFO:          stages: Running banzai.stages.PoissonInitializer | {\"filename\": \"coj2m002-en12-20220313-0002-f00.fits.fz\", \"site\": \"coj\", \"instrument\": \"floyds02\", \"epoch\": \"20220313\", \"request_num\": \"UNSPECIFIED\", \"obstype\": \"SKYFLAT\", \"filter\": \"air\", \"processName\": \"MainProcess\"}\n",
      "2023-08-08 14:50:31.715     INFO:          stages: Running banzai.stages.OrderSolver | {\"filename\": \"coj2m002-en12-20220313-0002-f00.fits.fz\", \"site\": \"coj\", \"instrument\": \"floyds02\", \"epoch\": \"20220313\", \"request_num\": \"UNSPECIFIED\", \"obstype\": \"SKYFLAT\", \"filter\": \"air\", \"processName\": \"MainProcess\"}\n"
     ]
    }
   ],
   "source": [
    "skyflat_files = ascii.read(pkg_resources.resource_filename('banzai_floyds.tests', 'data/test_skyflat.dat'))\n",
    "for skyflat in skyflat_files:\n",
    "    skyflat_info = dict(skyflat)\n",
    "    context = banzai.main.parse_args(settings, parse_system_args=False)\n",
    "    skyflat_hdu = fits.open(download_from_s3(skyflat_info, context))\n",
    "\n",
    "    # Munge the data to be OBSTYPE SKYFLAT\n",
    "    skyflat_hdu['SCI'].header['OBSTYPE'] = 'SKYFLAT'\n",
    "    skyflat_name = skyflat_info[\"filename\"].replace(\"x00.fits\", \"f00.fits\")\n",
    "    filename = os.path.join('test_data', f'{skyflat_name}')\n",
    "    skyflat_hdu.writeto(filename, overwrite=True)\n",
    "    skyflat_hdu.close()\n",
    "    run_pipeline_stages([{'path': filename}], context)"
   ]
  },
  {
   "cell_type": "code",
   "execution_count": 41,
   "id": "dd2912c3-c513-49b5-b13d-4f3e39d0915b",
   "metadata": {},
   "outputs": [],
   "source": []
  },
  {
   "cell_type": "code",
   "execution_count": 5,
   "id": "404eae88-c53b-48f6-ae9c-4720bd7cbc38",
   "metadata": {},
   "outputs": [],
   "source": [
    "DATA_FILELIST = pkg_resources.resource_filename('banzai_floyds.tests', 'data/test_data.dat')\n",
    "test_data = ascii.read(DATA_FILELIST)"
   ]
  },
  {
   "cell_type": "code",
   "execution_count": 41,
   "id": "6013453f-2085-4f47-bf60-d1b53cd75e5c",
   "metadata": {},
   "outputs": [
    {
     "name": "stderr",
     "output_type": "stream",
     "text": [
      "2023-08-08 15:16:34.678     INFO:      fits_utils: Downloading file coj2m002-en12-20200813-0015-a00.fits.fz from archive. ID: 33851480. | {\"filename\": \"coj2m002-en12-20200813-0015-a00.fits.fz\", \"attempt_number\": 1, \"processName\": \"MainProcess\"}\n",
      "2023-08-08 15:16:36.681     INFO:          stages: Running banzai.stages.OverscanSubtractor | {\"filename\": \"coj2m002-en12-20200813-0015-a00.fits.fz\", \"site\": \"coj\", \"instrument\": \"floyds02\", \"epoch\": \"20200813\", \"request_num\": \"2207712\", \"obstype\": \"ARC\", \"filter\": \"air\", \"processName\": \"MainProcess\"}\n",
      "2023-08-08 15:16:36.684     INFO:          stages: Running banzai.stages.Trimmer | {\"filename\": \"coj2m002-en12-20200813-0015-a00.fits.fz\", \"site\": \"coj\", \"instrument\": \"floyds02\", \"epoch\": \"20200813\", \"request_num\": \"2207712\", \"obstype\": \"ARC\", \"filter\": \"air\", \"processName\": \"MainProcess\"}\n",
      "2023-08-08 15:16:36.684     INFO:            trim: Trimming image | {\"filename\": \"coj2m002-en12-20200813-0015-a00.fits.fz\", \"site\": \"coj\", \"instrument\": \"floyds02\", \"epoch\": \"20200813\", \"request_num\": \"2207712\", \"obstype\": \"ARC\", \"filter\": \"air\", \"processName\": \"MainProcess\"}\n",
      "2023-08-08 15:16:36.752     INFO:          stages: Running banzai.stages.GainNormalizer | {\"filename\": \"coj2m002-en12-20200813-0015-a00.fits.fz\", \"site\": \"coj\", \"instrument\": \"floyds02\", \"epoch\": \"20200813\", \"request_num\": \"2207712\", \"obstype\": \"ARC\", \"filter\": \"air\", \"processName\": \"MainProcess\"}\n",
      "2023-08-08 15:16:36.753     INFO:            gain: Multiplying by gain | {\"filename\": \"coj2m002-en12-20200813-0015-a00.fits.fz\", \"site\": \"coj\", \"instrument\": \"floyds02\", \"epoch\": \"20200813\", \"request_num\": \"2207712\", \"obstype\": \"ARC\", \"filter\": \"air\", \"processName\": \"MainProcess\"}\n",
      "2023-08-08 15:16:36.755     INFO:          stages: Running banzai.stages.PoissonInitializer | {\"filename\": \"coj2m002-en12-20200813-0015-a00.fits.fz\", \"site\": \"coj\", \"instrument\": \"floyds02\", \"epoch\": \"20200813\", \"request_num\": \"2207712\", \"obstype\": \"ARC\", \"filter\": \"air\", \"processName\": \"MainProcess\"}\n",
      "2023-08-08 15:16:36.761     INFO:          stages: Running banzai.stages.OrderLoader | {\"filename\": \"coj2m002-en12-20200813-0015-a00.fits.fz\", \"site\": \"coj\", \"instrument\": \"floyds02\", \"epoch\": \"20200813\", \"request_num\": \"2207712\", \"obstype\": \"ARC\", \"filter\": \"air\", \"processName\": \"MainProcess\"}\n",
      "2023-08-08 15:16:36.877     INFO:    calibrations: Applying master calibration | {\"filename\": \"coj2m002-en12-20200813-0015-a00.fits.fz\", \"site\": \"coj\", \"instrument\": \"floyds02\", \"epoch\": \"20200813\", \"request_num\": \"2207712\", \"obstype\": \"ARC\", \"filter\": \"air\", \"master_calibration\": \"coj2m002-en12-20220313-0002-f91.fits.fz\", \"processName\": \"MainProcess\"}\n",
      "2023-08-08 15:16:36.880     INFO:          stages: Running banzai.stages.OrderTweaker | {\"filename\": \"coj2m002-en12-20200813-0015-a00.fits.fz\", \"site\": \"coj\", \"instrument\": \"floyds02\", \"epoch\": \"20200813\", \"request_num\": \"2207712\", \"obstype\": \"ARC\", \"filter\": \"air\", \"processName\": \"MainProcess\"}\n",
      "2023-08-08 15:16:37.567     INFO:          stages: Running banzai.stages.CalibrateWavelengths | {\"filename\": \"coj2m002-en12-20200813-0015-a00.fits.fz\", \"site\": \"coj\", \"instrument\": \"floyds02\", \"epoch\": \"20200813\", \"request_num\": \"2207712\", \"obstype\": \"ARC\", \"filter\": \"air\", \"processName\": \"MainProcess\"}\n",
      "2023-08-08 15:16:45.125     INFO:      fits_utils: Downloading file coj2m002-en12-20200813-0028-a00.fits.fz from archive. ID: 33852388. | {\"filename\": \"coj2m002-en12-20200813-0028-a00.fits.fz\", \"attempt_number\": 1, \"processName\": \"MainProcess\"}\n",
      "2023-08-08 15:16:47.100     INFO:          stages: Running banzai.stages.OverscanSubtractor | {\"filename\": \"coj2m002-en12-20200813-0028-a00.fits.fz\", \"site\": \"coj\", \"instrument\": \"floyds02\", \"epoch\": \"20200813\", \"request_num\": \"2207853\", \"obstype\": \"ARC\", \"filter\": \"air\", \"processName\": \"MainProcess\"}\n",
      "2023-08-08 15:16:47.102     INFO:          stages: Running banzai.stages.Trimmer | {\"filename\": \"coj2m002-en12-20200813-0028-a00.fits.fz\", \"site\": \"coj\", \"instrument\": \"floyds02\", \"epoch\": \"20200813\", \"request_num\": \"2207853\", \"obstype\": \"ARC\", \"filter\": \"air\", \"processName\": \"MainProcess\"}\n",
      "2023-08-08 15:16:47.103     INFO:            trim: Trimming image | {\"filename\": \"coj2m002-en12-20200813-0028-a00.fits.fz\", \"site\": \"coj\", \"instrument\": \"floyds02\", \"epoch\": \"20200813\", \"request_num\": \"2207853\", \"obstype\": \"ARC\", \"filter\": \"air\", \"processName\": \"MainProcess\"}\n",
      "2023-08-08 15:16:47.181     INFO:          stages: Running banzai.stages.GainNormalizer | {\"filename\": \"coj2m002-en12-20200813-0028-a00.fits.fz\", \"site\": \"coj\", \"instrument\": \"floyds02\", \"epoch\": \"20200813\", \"request_num\": \"2207853\", \"obstype\": \"ARC\", \"filter\": \"air\", \"processName\": \"MainProcess\"}\n",
      "2023-08-08 15:16:47.181     INFO:            gain: Multiplying by gain | {\"filename\": \"coj2m002-en12-20200813-0028-a00.fits.fz\", \"site\": \"coj\", \"instrument\": \"floyds02\", \"epoch\": \"20200813\", \"request_num\": \"2207853\", \"obstype\": \"ARC\", \"filter\": \"air\", \"processName\": \"MainProcess\"}\n",
      "2023-08-08 15:16:47.183     INFO:          stages: Running banzai.stages.PoissonInitializer | {\"filename\": \"coj2m002-en12-20200813-0028-a00.fits.fz\", \"site\": \"coj\", \"instrument\": \"floyds02\", \"epoch\": \"20200813\", \"request_num\": \"2207853\", \"obstype\": \"ARC\", \"filter\": \"air\", \"processName\": \"MainProcess\"}\n",
      "2023-08-08 15:16:47.189     INFO:          stages: Running banzai.stages.OrderLoader | {\"filename\": \"coj2m002-en12-20200813-0028-a00.fits.fz\", \"site\": \"coj\", \"instrument\": \"floyds02\", \"epoch\": \"20200813\", \"request_num\": \"2207853\", \"obstype\": \"ARC\", \"filter\": \"air\", \"processName\": \"MainProcess\"}\n",
      "2023-08-08 15:16:47.304     INFO:    calibrations: Applying master calibration | {\"filename\": \"coj2m002-en12-20200813-0028-a00.fits.fz\", \"site\": \"coj\", \"instrument\": \"floyds02\", \"epoch\": \"20200813\", \"request_num\": \"2207853\", \"obstype\": \"ARC\", \"filter\": \"air\", \"master_calibration\": \"coj2m002-en12-20220313-0002-f91.fits.fz\", \"processName\": \"MainProcess\"}\n",
      "2023-08-08 15:16:47.307     INFO:          stages: Running banzai.stages.OrderTweaker | {\"filename\": \"coj2m002-en12-20200813-0028-a00.fits.fz\", \"site\": \"coj\", \"instrument\": \"floyds02\", \"epoch\": \"20200813\", \"request_num\": \"2207853\", \"obstype\": \"ARC\", \"filter\": \"air\", \"processName\": \"MainProcess\"}\n",
      "2023-08-08 15:16:47.430     INFO:          stages: Running banzai.stages.CalibrateWavelengths | {\"filename\": \"coj2m002-en12-20200813-0028-a00.fits.fz\", \"site\": \"coj\", \"instrument\": \"floyds02\", \"epoch\": \"20200813\", \"request_num\": \"2207853\", \"obstype\": \"ARC\", \"filter\": \"air\", \"processName\": \"MainProcess\"}\n",
      "2023-08-08 15:16:55.788     INFO:      fits_utils: Downloading file ogg2m001-en06-20200822-0009-a00.fits.fz from archive. ID: 33989264. | {\"filename\": \"ogg2m001-en06-20200822-0009-a00.fits.fz\", \"attempt_number\": 1, \"processName\": \"MainProcess\"}\n",
      "2023-08-08 15:16:57.925     INFO:          stages: Running banzai.stages.OverscanSubtractor | {\"filename\": \"ogg2m001-en06-20200822-0009-a00.fits.fz\", \"site\": \"ogg\", \"instrument\": \"floyds01\", \"epoch\": \"20200822\", \"request_num\": \"2217414\", \"obstype\": \"ARC\", \"filter\": \"air\", \"processName\": \"MainProcess\"}\n",
      "2023-08-08 15:16:57.928     INFO:          stages: Running banzai.stages.Trimmer | {\"filename\": \"ogg2m001-en06-20200822-0009-a00.fits.fz\", \"site\": \"ogg\", \"instrument\": \"floyds01\", \"epoch\": \"20200822\", \"request_num\": \"2217414\", \"obstype\": \"ARC\", \"filter\": \"air\", \"processName\": \"MainProcess\"}\n",
      "2023-08-08 15:16:57.928     INFO:            trim: Trimming image | {\"filename\": \"ogg2m001-en06-20200822-0009-a00.fits.fz\", \"site\": \"ogg\", \"instrument\": \"floyds01\", \"epoch\": \"20200822\", \"request_num\": \"2217414\", \"obstype\": \"ARC\", \"filter\": \"air\", \"processName\": \"MainProcess\"}\n",
      "2023-08-08 15:16:57.998     INFO:          stages: Running banzai.stages.GainNormalizer | {\"filename\": \"ogg2m001-en06-20200822-0009-a00.fits.fz\", \"site\": \"ogg\", \"instrument\": \"floyds01\", \"epoch\": \"20200822\", \"request_num\": \"2217414\", \"obstype\": \"ARC\", \"filter\": \"air\", \"processName\": \"MainProcess\"}\n",
      "2023-08-08 15:16:57.998     INFO:            gain: Multiplying by gain | {\"filename\": \"ogg2m001-en06-20200822-0009-a00.fits.fz\", \"site\": \"ogg\", \"instrument\": \"floyds01\", \"epoch\": \"20200822\", \"request_num\": \"2217414\", \"obstype\": \"ARC\", \"filter\": \"air\", \"processName\": \"MainProcess\"}\n",
      "2023-08-08 15:16:58.000     INFO:          stages: Running banzai.stages.PoissonInitializer | {\"filename\": \"ogg2m001-en06-20200822-0009-a00.fits.fz\", \"site\": \"ogg\", \"instrument\": \"floyds01\", \"epoch\": \"20200822\", \"request_num\": \"2217414\", \"obstype\": \"ARC\", \"filter\": \"air\", \"processName\": \"MainProcess\"}\n",
      "2023-08-08 15:16:58.006     INFO:          stages: Running banzai.stages.OrderLoader | {\"filename\": \"ogg2m001-en06-20200822-0009-a00.fits.fz\", \"site\": \"ogg\", \"instrument\": \"floyds01\", \"epoch\": \"20200822\", \"request_num\": \"2217414\", \"obstype\": \"ARC\", \"filter\": \"air\", \"processName\": \"MainProcess\"}\n",
      "2023-08-08 15:16:58.119     INFO:    calibrations: Applying master calibration | {\"filename\": \"ogg2m001-en06-20200822-0009-a00.fits.fz\", \"site\": \"ogg\", \"instrument\": \"floyds01\", \"epoch\": \"20200822\", \"request_num\": \"2217414\", \"obstype\": \"ARC\", \"filter\": \"air\", \"master_calibration\": \"ogg2m001-en06-20190329-0018-f91.fits.fz\", \"processName\": \"MainProcess\"}\n",
      "2023-08-08 15:16:58.122     INFO:          stages: Running banzai.stages.OrderTweaker | {\"filename\": \"ogg2m001-en06-20200822-0009-a00.fits.fz\", \"site\": \"ogg\", \"instrument\": \"floyds01\", \"epoch\": \"20200822\", \"request_num\": \"2217414\", \"obstype\": \"ARC\", \"filter\": \"air\", \"processName\": \"MainProcess\"}\n",
      "2023-08-08 15:16:58.232     INFO:          stages: Running banzai.stages.CalibrateWavelengths | {\"filename\": \"ogg2m001-en06-20200822-0009-a00.fits.fz\", \"site\": \"ogg\", \"instrument\": \"floyds01\", \"epoch\": \"20200822\", \"request_num\": \"2217414\", \"obstype\": \"ARC\", \"filter\": \"air\", \"processName\": \"MainProcess\"}\n",
      "2023-08-08 15:16:58.792  WARNING:        warnings: /Users/cmccully/miniconda3/envs/banzai-floyds/lib/python3.10/site-packages/numpy/polynomial/legendre.py:1412: RankWarning: The fit may be poorly conditioned\n",
      "  return pu._fit(legvander, x, y, deg, rcond, full, w)\n",
      "\n",
      "2023-08-08 15:17:07.290     INFO:      fits_utils: Downloading file ogg2m001-en06-20200822-0028-a00.fits.fz from archive. ID: 33995029. | {\"filename\": \"ogg2m001-en06-20200822-0028-a00.fits.fz\", \"attempt_number\": 1, \"processName\": \"MainProcess\"}\n",
      "2023-08-08 15:17:09.257     INFO:          stages: Running banzai.stages.OverscanSubtractor | {\"filename\": \"ogg2m001-en06-20200822-0028-a00.fits.fz\", \"site\": \"ogg\", \"instrument\": \"floyds01\", \"epoch\": \"20200822\", \"request_num\": \"2217762\", \"obstype\": \"ARC\", \"filter\": \"air\", \"processName\": \"MainProcess\"}\n",
      "2023-08-08 15:17:09.261     INFO:          stages: Running banzai.stages.Trimmer | {\"filename\": \"ogg2m001-en06-20200822-0028-a00.fits.fz\", \"site\": \"ogg\", \"instrument\": \"floyds01\", \"epoch\": \"20200822\", \"request_num\": \"2217762\", \"obstype\": \"ARC\", \"filter\": \"air\", \"processName\": \"MainProcess\"}\n",
      "2023-08-08 15:17:09.262     INFO:            trim: Trimming image | {\"filename\": \"ogg2m001-en06-20200822-0028-a00.fits.fz\", \"site\": \"ogg\", \"instrument\": \"floyds01\", \"epoch\": \"20200822\", \"request_num\": \"2217762\", \"obstype\": \"ARC\", \"filter\": \"air\", \"processName\": \"MainProcess\"}\n",
      "2023-08-08 15:17:09.317     INFO:          stages: Running banzai.stages.GainNormalizer | {\"filename\": \"ogg2m001-en06-20200822-0028-a00.fits.fz\", \"site\": \"ogg\", \"instrument\": \"floyds01\", \"epoch\": \"20200822\", \"request_num\": \"2217762\", \"obstype\": \"ARC\", \"filter\": \"air\", \"processName\": \"MainProcess\"}\n",
      "2023-08-08 15:17:09.317     INFO:            gain: Multiplying by gain | {\"filename\": \"ogg2m001-en06-20200822-0028-a00.fits.fz\", \"site\": \"ogg\", \"instrument\": \"floyds01\", \"epoch\": \"20200822\", \"request_num\": \"2217762\", \"obstype\": \"ARC\", \"filter\": \"air\", \"processName\": \"MainProcess\"}\n",
      "2023-08-08 15:17:09.319     INFO:          stages: Running banzai.stages.PoissonInitializer | {\"filename\": \"ogg2m001-en06-20200822-0028-a00.fits.fz\", \"site\": \"ogg\", \"instrument\": \"floyds01\", \"epoch\": \"20200822\", \"request_num\": \"2217762\", \"obstype\": \"ARC\", \"filter\": \"air\", \"processName\": \"MainProcess\"}\n",
      "2023-08-08 15:17:09.325     INFO:          stages: Running banzai.stages.OrderLoader | {\"filename\": \"ogg2m001-en06-20200822-0028-a00.fits.fz\", \"site\": \"ogg\", \"instrument\": \"floyds01\", \"epoch\": \"20200822\", \"request_num\": \"2217762\", \"obstype\": \"ARC\", \"filter\": \"air\", \"processName\": \"MainProcess\"}\n",
      "2023-08-08 15:17:09.434     INFO:    calibrations: Applying master calibration | {\"filename\": \"ogg2m001-en06-20200822-0028-a00.fits.fz\", \"site\": \"ogg\", \"instrument\": \"floyds01\", \"epoch\": \"20200822\", \"request_num\": \"2217762\", \"obstype\": \"ARC\", \"filter\": \"air\", \"master_calibration\": \"ogg2m001-en06-20190329-0018-f91.fits.fz\", \"processName\": \"MainProcess\"}\n",
      "2023-08-08 15:17:09.438     INFO:          stages: Running banzai.stages.OrderTweaker | {\"filename\": \"ogg2m001-en06-20200822-0028-a00.fits.fz\", \"site\": \"ogg\", \"instrument\": \"floyds01\", \"epoch\": \"20200822\", \"request_num\": \"2217762\", \"obstype\": \"ARC\", \"filter\": \"air\", \"processName\": \"MainProcess\"}\n",
      "2023-08-08 15:17:09.789     INFO:          stages: Running banzai.stages.CalibrateWavelengths | {\"filename\": \"ogg2m001-en06-20200822-0028-a00.fits.fz\", \"site\": \"ogg\", \"instrument\": \"floyds01\", \"epoch\": \"20200822\", \"request_num\": \"2217762\", \"obstype\": \"ARC\", \"filter\": \"air\", \"processName\": \"MainProcess\"}\n"
     ]
    }
   ],
   "source": [
    "for row in test_data:\n",
    "    if 'a00.fits' in row['filename']:\n",
    "        archive_record = requests.get(f'{context.ARCHIVE_FRAME_URL}/{row[\"frameid\"]}').json()\n",
    "        archive_record['frameid'] = archive_record['id']\n",
    "        run_pipeline_stages([archive_record], context)"
   ]
  },
  {
   "cell_type": "code",
   "execution_count": 47,
   "id": "683f69eb",
   "metadata": {},
   "outputs": [
    {
     "name": "stderr",
     "output_type": "stream",
     "text": [
      "2023-08-08 15:33:56.376     INFO:      fits_utils: Downloading file coj2m002-en12-20200813-0016-w00.fits.fz from archive. ID: 33851505. | {\"filename\": \"coj2m002-en12-20200813-0016-w00.fits.fz\", \"attempt_number\": 1, \"processName\": \"MainProcess\"}\n",
      "2023-08-08 15:33:58.482     INFO:          stages: Running banzai.stages.OverscanSubtractor | {\"filename\": \"coj2m002-en12-20200813-0016-w00.fits.fz\", \"site\": \"coj\", \"instrument\": \"floyds02\", \"epoch\": \"20200813\", \"request_num\": \"2207712\", \"obstype\": \"LAMPFLAT\", \"filter\": \"air\", \"processName\": \"MainProcess\"}\n",
      "2023-08-08 15:33:58.484     INFO:          stages: Running banzai.stages.Trimmer | {\"filename\": \"coj2m002-en12-20200813-0016-w00.fits.fz\", \"site\": \"coj\", \"instrument\": \"floyds02\", \"epoch\": \"20200813\", \"request_num\": \"2207712\", \"obstype\": \"LAMPFLAT\", \"filter\": \"air\", \"processName\": \"MainProcess\"}\n",
      "2023-08-08 15:33:58.485     INFO:            trim: Trimming image | {\"filename\": \"coj2m002-en12-20200813-0016-w00.fits.fz\", \"site\": \"coj\", \"instrument\": \"floyds02\", \"epoch\": \"20200813\", \"request_num\": \"2207712\", \"obstype\": \"LAMPFLAT\", \"filter\": \"air\", \"processName\": \"MainProcess\"}\n",
      "2023-08-08 15:33:58.553     INFO:          stages: Running banzai.stages.GainNormalizer | {\"filename\": \"coj2m002-en12-20200813-0016-w00.fits.fz\", \"site\": \"coj\", \"instrument\": \"floyds02\", \"epoch\": \"20200813\", \"request_num\": \"2207712\", \"obstype\": \"LAMPFLAT\", \"filter\": \"air\", \"processName\": \"MainProcess\"}\n",
      "2023-08-08 15:33:58.553     INFO:            gain: Multiplying by gain | {\"filename\": \"coj2m002-en12-20200813-0016-w00.fits.fz\", \"site\": \"coj\", \"instrument\": \"floyds02\", \"epoch\": \"20200813\", \"request_num\": \"2207712\", \"obstype\": \"LAMPFLAT\", \"filter\": \"air\", \"processName\": \"MainProcess\"}\n",
      "2023-08-08 15:33:58.555     INFO:          stages: Running banzai.stages.PoissonInitializer | {\"filename\": \"coj2m002-en12-20200813-0016-w00.fits.fz\", \"site\": \"coj\", \"instrument\": \"floyds02\", \"epoch\": \"20200813\", \"request_num\": \"2207712\", \"obstype\": \"LAMPFLAT\", \"filter\": \"air\", \"processName\": \"MainProcess\"}\n",
      "2023-08-08 15:33:58.562     INFO:          stages: Running banzai.stages.OrderLoader | {\"filename\": \"coj2m002-en12-20200813-0016-w00.fits.fz\", \"site\": \"coj\", \"instrument\": \"floyds02\", \"epoch\": \"20200813\", \"request_num\": \"2207712\", \"obstype\": \"LAMPFLAT\", \"filter\": \"air\", \"processName\": \"MainProcess\"}\n",
      "2023-08-08 15:33:58.676     INFO:    calibrations: Applying master calibration | {\"filename\": \"coj2m002-en12-20200813-0016-w00.fits.fz\", \"site\": \"coj\", \"instrument\": \"floyds02\", \"epoch\": \"20200813\", \"request_num\": \"2207712\", \"obstype\": \"LAMPFLAT\", \"filter\": \"air\", \"master_calibration\": \"coj2m002-en12-20220313-0002-f91.fits.fz\", \"processName\": \"MainProcess\"}\n",
      "2023-08-08 15:33:58.680     INFO:          stages: Running banzai.stages.OrderTweaker | {\"filename\": \"coj2m002-en12-20200813-0016-w00.fits.fz\", \"site\": \"coj\", \"instrument\": \"floyds02\", \"epoch\": \"20200813\", \"request_num\": \"2207712\", \"obstype\": \"LAMPFLAT\", \"filter\": \"air\", \"processName\": \"MainProcess\"}\n",
      "2023-08-08 15:33:58.908     INFO:          stages: Running banzai.stages.WavelengthSolutionLoader | {\"filename\": \"coj2m002-en12-20200813-0016-w00.fits.fz\", \"site\": \"coj\", \"instrument\": \"floyds02\", \"epoch\": \"20200813\", \"request_num\": \"2207712\", \"obstype\": \"LAMPFLAT\", \"filter\": \"air\", \"processName\": \"MainProcess\"}\n",
      "2023-08-08 15:33:59.067     INFO:    calibrations: Applying master calibration | {\"filename\": \"coj2m002-en12-20200813-0016-w00.fits.fz\", \"site\": \"coj\", \"instrument\": \"floyds02\", \"epoch\": \"20200813\", \"request_num\": \"2207712\", \"obstype\": \"LAMPFLAT\", \"filter\": \"air\", \"master_calibration\": \"coj2m002-en12-20200813-0015-a91.fits.fz\", \"processName\": \"MainProcess\"}\n",
      "2023-08-08 15:33:59.890     INFO:      fits_utils: Downloading file coj2m002-en12-20200813-0027-w00.fits.fz from archive. ID: 33852359. | {\"filename\": \"coj2m002-en12-20200813-0027-w00.fits.fz\", \"attempt_number\": 1, \"processName\": \"MainProcess\"}\n",
      "2023-08-08 15:34:02.051     INFO:          stages: Running banzai.stages.OverscanSubtractor | {\"filename\": \"coj2m002-en12-20200813-0027-w00.fits.fz\", \"site\": \"coj\", \"instrument\": \"floyds02\", \"epoch\": \"20200813\", \"request_num\": \"2207853\", \"obstype\": \"LAMPFLAT\", \"filter\": \"air\", \"processName\": \"MainProcess\"}\n",
      "2023-08-08 15:34:02.054     INFO:          stages: Running banzai.stages.Trimmer | {\"filename\": \"coj2m002-en12-20200813-0027-w00.fits.fz\", \"site\": \"coj\", \"instrument\": \"floyds02\", \"epoch\": \"20200813\", \"request_num\": \"2207853\", \"obstype\": \"LAMPFLAT\", \"filter\": \"air\", \"processName\": \"MainProcess\"}\n",
      "2023-08-08 15:34:02.054     INFO:            trim: Trimming image | {\"filename\": \"coj2m002-en12-20200813-0027-w00.fits.fz\", \"site\": \"coj\", \"instrument\": \"floyds02\", \"epoch\": \"20200813\", \"request_num\": \"2207853\", \"obstype\": \"LAMPFLAT\", \"filter\": \"air\", \"processName\": \"MainProcess\"}\n",
      "2023-08-08 15:34:02.118     INFO:          stages: Running banzai.stages.GainNormalizer | {\"filename\": \"coj2m002-en12-20200813-0027-w00.fits.fz\", \"site\": \"coj\", \"instrument\": \"floyds02\", \"epoch\": \"20200813\", \"request_num\": \"2207853\", \"obstype\": \"LAMPFLAT\", \"filter\": \"air\", \"processName\": \"MainProcess\"}\n",
      "2023-08-08 15:34:02.119     INFO:            gain: Multiplying by gain | {\"filename\": \"coj2m002-en12-20200813-0027-w00.fits.fz\", \"site\": \"coj\", \"instrument\": \"floyds02\", \"epoch\": \"20200813\", \"request_num\": \"2207853\", \"obstype\": \"LAMPFLAT\", \"filter\": \"air\", \"processName\": \"MainProcess\"}\n",
      "2023-08-08 15:34:02.121     INFO:          stages: Running banzai.stages.PoissonInitializer | {\"filename\": \"coj2m002-en12-20200813-0027-w00.fits.fz\", \"site\": \"coj\", \"instrument\": \"floyds02\", \"epoch\": \"20200813\", \"request_num\": \"2207853\", \"obstype\": \"LAMPFLAT\", \"filter\": \"air\", \"processName\": \"MainProcess\"}\n",
      "2023-08-08 15:34:02.127     INFO:          stages: Running banzai.stages.OrderLoader | {\"filename\": \"coj2m002-en12-20200813-0027-w00.fits.fz\", \"site\": \"coj\", \"instrument\": \"floyds02\", \"epoch\": \"20200813\", \"request_num\": \"2207853\", \"obstype\": \"LAMPFLAT\", \"filter\": \"air\", \"processName\": \"MainProcess\"}\n",
      "2023-08-08 15:34:02.251     INFO:    calibrations: Applying master calibration | {\"filename\": \"coj2m002-en12-20200813-0027-w00.fits.fz\", \"site\": \"coj\", \"instrument\": \"floyds02\", \"epoch\": \"20200813\", \"request_num\": \"2207853\", \"obstype\": \"LAMPFLAT\", \"filter\": \"air\", \"master_calibration\": \"coj2m002-en12-20220313-0002-f91.fits.fz\", \"processName\": \"MainProcess\"}\n",
      "2023-08-08 15:34:02.254     INFO:          stages: Running banzai.stages.OrderTweaker | {\"filename\": \"coj2m002-en12-20200813-0027-w00.fits.fz\", \"site\": \"coj\", \"instrument\": \"floyds02\", \"epoch\": \"20200813\", \"request_num\": \"2207853\", \"obstype\": \"LAMPFLAT\", \"filter\": \"air\", \"processName\": \"MainProcess\"}\n",
      "2023-08-08 15:34:02.455     INFO:          stages: Running banzai.stages.WavelengthSolutionLoader | {\"filename\": \"coj2m002-en12-20200813-0027-w00.fits.fz\", \"site\": \"coj\", \"instrument\": \"floyds02\", \"epoch\": \"20200813\", \"request_num\": \"2207853\", \"obstype\": \"LAMPFLAT\", \"filter\": \"air\", \"processName\": \"MainProcess\"}\n",
      "2023-08-08 15:34:02.629     INFO:    calibrations: Applying master calibration | {\"filename\": \"coj2m002-en12-20200813-0027-w00.fits.fz\", \"site\": \"coj\", \"instrument\": \"floyds02\", \"epoch\": \"20200813\", \"request_num\": \"2207853\", \"obstype\": \"LAMPFLAT\", \"filter\": \"air\", \"master_calibration\": \"coj2m002-en12-20200813-0028-a91.fits.fz\", \"processName\": \"MainProcess\"}\n",
      "2023-08-08 15:34:03.471     INFO:      fits_utils: Downloading file ogg2m001-en06-20200822-0008-w00.fits.fz from archive. ID: 33989173. | {\"filename\": \"ogg2m001-en06-20200822-0008-w00.fits.fz\", \"attempt_number\": 1, \"processName\": \"MainProcess\"}\n",
      "2023-08-08 15:34:05.535     INFO:          stages: Running banzai.stages.OverscanSubtractor | {\"filename\": \"ogg2m001-en06-20200822-0008-w00.fits.fz\", \"site\": \"ogg\", \"instrument\": \"floyds01\", \"epoch\": \"20200822\", \"request_num\": \"2217414\", \"obstype\": \"LAMPFLAT\", \"filter\": \"air\", \"processName\": \"MainProcess\"}\n",
      "2023-08-08 15:34:05.538     INFO:          stages: Running banzai.stages.Trimmer | {\"filename\": \"ogg2m001-en06-20200822-0008-w00.fits.fz\", \"site\": \"ogg\", \"instrument\": \"floyds01\", \"epoch\": \"20200822\", \"request_num\": \"2217414\", \"obstype\": \"LAMPFLAT\", \"filter\": \"air\", \"processName\": \"MainProcess\"}\n",
      "2023-08-08 15:34:05.539     INFO:            trim: Trimming image | {\"filename\": \"ogg2m001-en06-20200822-0008-w00.fits.fz\", \"site\": \"ogg\", \"instrument\": \"floyds01\", \"epoch\": \"20200822\", \"request_num\": \"2217414\", \"obstype\": \"LAMPFLAT\", \"filter\": \"air\", \"processName\": \"MainProcess\"}\n",
      "2023-08-08 15:34:05.616     INFO:          stages: Running banzai.stages.GainNormalizer | {\"filename\": \"ogg2m001-en06-20200822-0008-w00.fits.fz\", \"site\": \"ogg\", \"instrument\": \"floyds01\", \"epoch\": \"20200822\", \"request_num\": \"2217414\", \"obstype\": \"LAMPFLAT\", \"filter\": \"air\", \"processName\": \"MainProcess\"}\n",
      "2023-08-08 15:34:05.617     INFO:            gain: Multiplying by gain | {\"filename\": \"ogg2m001-en06-20200822-0008-w00.fits.fz\", \"site\": \"ogg\", \"instrument\": \"floyds01\", \"epoch\": \"20200822\", \"request_num\": \"2217414\", \"obstype\": \"LAMPFLAT\", \"filter\": \"air\", \"processName\": \"MainProcess\"}\n",
      "2023-08-08 15:34:05.619     INFO:          stages: Running banzai.stages.PoissonInitializer | {\"filename\": \"ogg2m001-en06-20200822-0008-w00.fits.fz\", \"site\": \"ogg\", \"instrument\": \"floyds01\", \"epoch\": \"20200822\", \"request_num\": \"2217414\", \"obstype\": \"LAMPFLAT\", \"filter\": \"air\", \"processName\": \"MainProcess\"}\n",
      "2023-08-08 15:34:05.625     INFO:          stages: Running banzai.stages.OrderLoader | {\"filename\": \"ogg2m001-en06-20200822-0008-w00.fits.fz\", \"site\": \"ogg\", \"instrument\": \"floyds01\", \"epoch\": \"20200822\", \"request_num\": \"2217414\", \"obstype\": \"LAMPFLAT\", \"filter\": \"air\", \"processName\": \"MainProcess\"}\n",
      "2023-08-08 15:34:05.733     INFO:    calibrations: Applying master calibration | {\"filename\": \"ogg2m001-en06-20200822-0008-w00.fits.fz\", \"site\": \"ogg\", \"instrument\": \"floyds01\", \"epoch\": \"20200822\", \"request_num\": \"2217414\", \"obstype\": \"LAMPFLAT\", \"filter\": \"air\", \"master_calibration\": \"ogg2m001-en06-20190329-0018-f91.fits.fz\", \"processName\": \"MainProcess\"}\n",
      "2023-08-08 15:34:05.737     INFO:          stages: Running banzai.stages.OrderTweaker | {\"filename\": \"ogg2m001-en06-20200822-0008-w00.fits.fz\", \"site\": \"ogg\", \"instrument\": \"floyds01\", \"epoch\": \"20200822\", \"request_num\": \"2217414\", \"obstype\": \"LAMPFLAT\", \"filter\": \"air\", \"processName\": \"MainProcess\"}\n",
      "2023-08-08 15:34:06.056     INFO:          stages: Running banzai.stages.WavelengthSolutionLoader | {\"filename\": \"ogg2m001-en06-20200822-0008-w00.fits.fz\", \"site\": \"ogg\", \"instrument\": \"floyds01\", \"epoch\": \"20200822\", \"request_num\": \"2217414\", \"obstype\": \"LAMPFLAT\", \"filter\": \"air\", \"processName\": \"MainProcess\"}\n",
      "2023-08-08 15:34:06.218     INFO:    calibrations: Applying master calibration | {\"filename\": \"ogg2m001-en06-20200822-0008-w00.fits.fz\", \"site\": \"ogg\", \"instrument\": \"floyds01\", \"epoch\": \"20200822\", \"request_num\": \"2217414\", \"obstype\": \"LAMPFLAT\", \"filter\": \"air\", \"master_calibration\": \"ogg2m001-en06-20200822-0009-a91.fits.fz\", \"processName\": \"MainProcess\"}\n",
      "2023-08-08 15:34:07.042     INFO:      fits_utils: Downloading file ogg2m001-en06-20200822-0029-w00.fits.fz from archive. ID: 33995044. | {\"filename\": \"ogg2m001-en06-20200822-0029-w00.fits.fz\", \"attempt_number\": 1, \"processName\": \"MainProcess\"}\n",
      "2023-08-08 15:34:09.032     INFO:          stages: Running banzai.stages.OverscanSubtractor | {\"filename\": \"ogg2m001-en06-20200822-0029-w00.fits.fz\", \"site\": \"ogg\", \"instrument\": \"floyds01\", \"epoch\": \"20200822\", \"request_num\": \"2217762\", \"obstype\": \"LAMPFLAT\", \"filter\": \"air\", \"processName\": \"MainProcess\"}\n",
      "2023-08-08 15:34:09.035     INFO:          stages: Running banzai.stages.Trimmer | {\"filename\": \"ogg2m001-en06-20200822-0029-w00.fits.fz\", \"site\": \"ogg\", \"instrument\": \"floyds01\", \"epoch\": \"20200822\", \"request_num\": \"2217762\", \"obstype\": \"LAMPFLAT\", \"filter\": \"air\", \"processName\": \"MainProcess\"}\n",
      "2023-08-08 15:34:09.035     INFO:            trim: Trimming image | {\"filename\": \"ogg2m001-en06-20200822-0029-w00.fits.fz\", \"site\": \"ogg\", \"instrument\": \"floyds01\", \"epoch\": \"20200822\", \"request_num\": \"2217762\", \"obstype\": \"LAMPFLAT\", \"filter\": \"air\", \"processName\": \"MainProcess\"}\n",
      "2023-08-08 15:34:09.095     INFO:          stages: Running banzai.stages.GainNormalizer | {\"filename\": \"ogg2m001-en06-20200822-0029-w00.fits.fz\", \"site\": \"ogg\", \"instrument\": \"floyds01\", \"epoch\": \"20200822\", \"request_num\": \"2217762\", \"obstype\": \"LAMPFLAT\", \"filter\": \"air\", \"processName\": \"MainProcess\"}\n",
      "2023-08-08 15:34:09.096     INFO:            gain: Multiplying by gain | {\"filename\": \"ogg2m001-en06-20200822-0029-w00.fits.fz\", \"site\": \"ogg\", \"instrument\": \"floyds01\", \"epoch\": \"20200822\", \"request_num\": \"2217762\", \"obstype\": \"LAMPFLAT\", \"filter\": \"air\", \"processName\": \"MainProcess\"}\n",
      "2023-08-08 15:34:09.098     INFO:          stages: Running banzai.stages.PoissonInitializer | {\"filename\": \"ogg2m001-en06-20200822-0029-w00.fits.fz\", \"site\": \"ogg\", \"instrument\": \"floyds01\", \"epoch\": \"20200822\", \"request_num\": \"2217762\", \"obstype\": \"LAMPFLAT\", \"filter\": \"air\", \"processName\": \"MainProcess\"}\n",
      "2023-08-08 15:34:09.104     INFO:          stages: Running banzai.stages.OrderLoader | {\"filename\": \"ogg2m001-en06-20200822-0029-w00.fits.fz\", \"site\": \"ogg\", \"instrument\": \"floyds01\", \"epoch\": \"20200822\", \"request_num\": \"2217762\", \"obstype\": \"LAMPFLAT\", \"filter\": \"air\", \"processName\": \"MainProcess\"}\n",
      "2023-08-08 15:34:09.210     INFO:    calibrations: Applying master calibration | {\"filename\": \"ogg2m001-en06-20200822-0029-w00.fits.fz\", \"site\": \"ogg\", \"instrument\": \"floyds01\", \"epoch\": \"20200822\", \"request_num\": \"2217762\", \"obstype\": \"LAMPFLAT\", \"filter\": \"air\", \"master_calibration\": \"ogg2m001-en06-20190329-0018-f91.fits.fz\", \"processName\": \"MainProcess\"}\n",
      "2023-08-08 15:34:09.214     INFO:          stages: Running banzai.stages.OrderTweaker | {\"filename\": \"ogg2m001-en06-20200822-0029-w00.fits.fz\", \"site\": \"ogg\", \"instrument\": \"floyds01\", \"epoch\": \"20200822\", \"request_num\": \"2217762\", \"obstype\": \"LAMPFLAT\", \"filter\": \"air\", \"processName\": \"MainProcess\"}\n",
      "2023-08-08 15:34:09.322     INFO:          stages: Running banzai.stages.WavelengthSolutionLoader | {\"filename\": \"ogg2m001-en06-20200822-0029-w00.fits.fz\", \"site\": \"ogg\", \"instrument\": \"floyds01\", \"epoch\": \"20200822\", \"request_num\": \"2217762\", \"obstype\": \"LAMPFLAT\", \"filter\": \"air\", \"processName\": \"MainProcess\"}\n",
      "2023-08-08 15:34:09.474     INFO:    calibrations: Applying master calibration | {\"filename\": \"ogg2m001-en06-20200822-0029-w00.fits.fz\", \"site\": \"ogg\", \"instrument\": \"floyds01\", \"epoch\": \"20200822\", \"request_num\": \"2217762\", \"obstype\": \"LAMPFLAT\", \"filter\": \"air\", \"master_calibration\": \"ogg2m001-en06-20200822-0028-a91.fits.fz\", \"processName\": \"MainProcess\"}\n"
     ]
    }
   ],
   "source": [
    "for row in test_data:\n",
    "    if 'w00.fits' in row['filename']:\n",
    "        archive_record = requests.get(f'{context.ARCHIVE_FRAME_URL}/{row[\"frameid\"]}').json()\n",
    "        archive_record['frameid'] = archive_record['id']\n",
    "        run_pipeline_stages([archive_record], context)"
   ]
  },
  {
   "cell_type": "code",
   "execution_count": 7,
   "id": "93283289",
   "metadata": {},
   "outputs": [
    {
     "name": "stderr",
     "output_type": "stream",
     "text": [
      "2023-09-05 11:31:12.412     INFO:    calibrations: Making master frames | {\"type\": \"2m0-FLOYDS-SciCam\", \"site\": \"ogg\", \"camera\": \"en06\", \"obstype\": \"LAMPFLAT\", \"min_date\": \"2020-01-01\", \"max_date\": \"2021-01-01\", \"processName\": \"MainProcess\"}\n",
      "2023-09-05 11:31:12.578     INFO:          stages: Running banzai.stages.FringeMaker | {\"filename\": \"ogg2m001-en06-20200822-0008-w91.fits.fz\", \"site\": \"ogg\", \"instrument\": \"floyds01\", \"epoch\": \"20200822\", \"request_num\": \"2217414\", \"obstype\": \"LAMPFLAT\", \"filter\": \"air\", \"processName\": \"MainProcess\"}\n",
      "2023-09-05 11:31:17.945  WARNING:        warnings: /Users/cmccully/miniconda3/envs/banzai-floyds/lib/python3.10/site-packages/astropy/io/fits/card.py:1008: VerifyWarning: Card is too long, comment will be truncated.\n",
      "  warnings.warn('Card is too long, comment will be truncated.',\n",
      "\n",
      "2023-09-05 11:31:18.125     INFO:    calibrations: Finished | {\"processName\": \"MainProcess\"}\n",
      "2023-09-05 11:31:18.126     INFO:    calibrations: Making master frames | {\"type\": \"2m0-FLOYDS-SciCam\", \"site\": \"coj\", \"camera\": \"en12\", \"obstype\": \"LAMPFLAT\", \"min_date\": \"2020-01-01\", \"max_date\": \"2021-01-01\", \"processName\": \"MainProcess\"}\n",
      "2023-09-05 11:31:18.266     INFO:          stages: Running banzai.stages.FringeMaker | {\"filename\": \"coj2m002-en12-20200813-0016-w91.fits.fz\", \"site\": \"coj\", \"instrument\": \"floyds02\", \"epoch\": \"20200813\", \"request_num\": \"2207712\", \"obstype\": \"LAMPFLAT\", \"filter\": \"air\", \"processName\": \"MainProcess\"}\n",
      "2023-09-05 11:31:25.037     INFO:    calibrations: Finished | {\"processName\": \"MainProcess\"}\n"
     ]
    }
   ],
   "source": [
    "coj_floyds = banzai.dbs.get_instruments_at_site('coj', settings.db_address)[0]\n",
    "ogg_floyds = banzai.dbs.get_instruments_at_site('ogg', settings.db_address)[0]\n",
    "make_master_calibrations(ogg_floyds, 'LAMPFLAT', '2020-01-01', '2021-01-01', context)\n",
    "make_master_calibrations(coj_floyds, 'LAMPFLAT', '2020-01-01', '2021-01-01', context)"
   ]
  },
  {
   "cell_type": "code",
   "execution_count": 6,
   "id": "dd129631",
   "metadata": {},
   "outputs": [
    {
     "name": "stderr",
     "output_type": "stream",
     "text": [
      "2023-09-07 16:30:20.894     INFO:      fits_utils: Downloading file coj2m002-en12-20200813-0014-e00.fits.fz from archive. ID: 33851447. | {\"filename\": \"coj2m002-en12-20200813-0014-e00.fits.fz\", \"attempt_number\": 1, \"processName\": \"MainProcess\"}\n",
      "2023-09-07 16:30:22.475     INFO:          stages: Running banzai.stages.OverscanSubtractor | {\"filename\": \"coj2m002-en12-20200813-0014-e00.fits.fz\", \"site\": \"coj\", \"instrument\": \"floyds02\", \"epoch\": \"20200813\", \"request_num\": \"2207712\", \"obstype\": \"SPECTRUM\", \"filter\": \"air\", \"processName\": \"MainProcess\"}\n",
      "2023-09-07 16:30:22.478     INFO:          stages: Running banzai.stages.Trimmer | {\"filename\": \"coj2m002-en12-20200813-0014-e00.fits.fz\", \"site\": \"coj\", \"instrument\": \"floyds02\", \"epoch\": \"20200813\", \"request_num\": \"2207712\", \"obstype\": \"SPECTRUM\", \"filter\": \"air\", \"processName\": \"MainProcess\"}\n",
      "2023-09-07 16:30:22.478     INFO:            trim: Trimming image | {\"filename\": \"coj2m002-en12-20200813-0014-e00.fits.fz\", \"site\": \"coj\", \"instrument\": \"floyds02\", \"epoch\": \"20200813\", \"request_num\": \"2207712\", \"obstype\": \"SPECTRUM\", \"filter\": \"air\", \"processName\": \"MainProcess\"}\n",
      "2023-09-07 16:30:22.538     INFO:          stages: Running banzai.stages.GainNormalizer | {\"filename\": \"coj2m002-en12-20200813-0014-e00.fits.fz\", \"site\": \"coj\", \"instrument\": \"floyds02\", \"epoch\": \"20200813\", \"request_num\": \"2207712\", \"obstype\": \"SPECTRUM\", \"filter\": \"air\", \"processName\": \"MainProcess\"}\n",
      "2023-09-07 16:30:22.538     INFO:            gain: Multiplying by gain | {\"filename\": \"coj2m002-en12-20200813-0014-e00.fits.fz\", \"site\": \"coj\", \"instrument\": \"floyds02\", \"epoch\": \"20200813\", \"request_num\": \"2207712\", \"obstype\": \"SPECTRUM\", \"filter\": \"air\", \"processName\": \"MainProcess\"}\n",
      "2023-09-07 16:30:22.541     INFO:          stages: Running banzai.stages.PoissonInitializer | {\"filename\": \"coj2m002-en12-20200813-0014-e00.fits.fz\", \"site\": \"coj\", \"instrument\": \"floyds02\", \"epoch\": \"20200813\", \"request_num\": \"2207712\", \"obstype\": \"SPECTRUM\", \"filter\": \"air\", \"processName\": \"MainProcess\"}\n",
      "2023-09-07 16:30:22.548     INFO:          stages: Running banzai.stages.OrderLoader | {\"filename\": \"coj2m002-en12-20200813-0014-e00.fits.fz\", \"site\": \"coj\", \"instrument\": \"floyds02\", \"epoch\": \"20200813\", \"request_num\": \"2207712\", \"obstype\": \"SPECTRUM\", \"filter\": \"air\", \"processName\": \"MainProcess\"}\n",
      "2023-09-07 16:30:22.666     INFO:    calibrations: Applying master calibration | {\"filename\": \"coj2m002-en12-20200813-0014-e00.fits.fz\", \"site\": \"coj\", \"instrument\": \"floyds02\", \"epoch\": \"20200813\", \"request_num\": \"2207712\", \"obstype\": \"SPECTRUM\", \"filter\": \"air\", \"master_calibration\": \"coj2m002-en12-20220313-0002-f91.fits.fz\", \"processName\": \"MainProcess\"}\n",
      "2023-09-07 16:30:22.669     INFO:          stages: Running banzai.stages.OrderTweaker | {\"filename\": \"coj2m002-en12-20200813-0014-e00.fits.fz\", \"site\": \"coj\", \"instrument\": \"floyds02\", \"epoch\": \"20200813\", \"request_num\": \"2207712\", \"obstype\": \"SPECTRUM\", \"filter\": \"air\", \"processName\": \"MainProcess\"}\n",
      "2023-09-07 16:30:23.050     INFO:          stages: Running banzai.stages.WavelengthSolutionLoader | {\"filename\": \"coj2m002-en12-20200813-0014-e00.fits.fz\", \"site\": \"coj\", \"instrument\": \"floyds02\", \"epoch\": \"20200813\", \"request_num\": \"2207712\", \"obstype\": \"SPECTRUM\", \"filter\": \"air\", \"processName\": \"MainProcess\"}\n",
      "2023-09-07 16:30:23.210     INFO:    calibrations: Applying master calibration | {\"filename\": \"coj2m002-en12-20200813-0014-e00.fits.fz\", \"site\": \"coj\", \"instrument\": \"floyds02\", \"epoch\": \"20200813\", \"request_num\": \"2207712\", \"obstype\": \"SPECTRUM\", \"filter\": \"air\", \"master_calibration\": \"coj2m002-en12-20200813-0015-a91.fits.fz\", \"processName\": \"MainProcess\"}\n",
      "2023-09-07 16:30:23.217     INFO:          stages: Running banzai.stages.FringeLoader | {\"filename\": \"coj2m002-en12-20200813-0014-e00.fits.fz\", \"site\": \"coj\", \"instrument\": \"floyds02\", \"epoch\": \"20200813\", \"request_num\": \"2207712\", \"obstype\": \"SPECTRUM\", \"filter\": \"air\", \"processName\": \"MainProcess\"}\n",
      "2023-09-07 16:30:23.300     INFO:    calibrations: Applying master calibration | {\"filename\": \"coj2m002-en12-20200813-0014-e00.fits.fz\", \"site\": \"coj\", \"instrument\": \"floyds02\", \"epoch\": \"20200813\", \"request_num\": \"2207712\", \"obstype\": \"SPECTRUM\", \"filter\": \"air\", \"master_calibration\": \"coj2m002-en12-20200813-lampflat-0.1MHz_2.0preamp.fits.fz\", \"processName\": \"MainProcess\"}\n",
      "2023-09-07 16:30:23.302     INFO:          stages: Running banzai.stages.FringeCorrector | {\"filename\": \"coj2m002-en12-20200813-0014-e00.fits.fz\", \"site\": \"coj\", \"instrument\": \"floyds02\", \"epoch\": \"20200813\", \"request_num\": \"2207712\", \"obstype\": \"SPECTRUM\", \"filter\": \"air\", \"processName\": \"MainProcess\"}\n",
      "2023-09-07 16:30:27.850     INFO:          stages: Running banzai.stages.Extractor | {\"filename\": \"coj2m002-en12-20200813-0014-e00.fits.fz\", \"site\": \"coj\", \"instrument\": \"floyds02\", \"epoch\": \"20200813\", \"request_num\": \"2207712\", \"obstype\": \"SPECTRUM\", \"filter\": \"air\", \"processName\": \"MainProcess\"}\n",
      "2023-09-07 17:50:20.029  WARNING:        warnings: /Users/cmccully/miniconda3/envs/banzai-floyds/lib/python3.10/site-packages/astropy/io/fits/card.py:1008: VerifyWarning: Card is too long, comment will be truncated.\n",
      "  warnings.warn('Card is too long, comment will be truncated.',\n",
      "\n"
     ]
    },
    {
     "ename": "ConnectionError",
     "evalue": "HTTPSConnectionPool(host='archive-api.lco.global', port=443): Max retries exceeded with url: /frames/33852323 (Caused by NewConnectionError('<urllib3.connection.HTTPSConnection object at 0x163eab7c0>: Failed to establish a new connection: [Errno 8] nodename nor servname provided, or not known'))",
     "output_type": "error",
     "traceback": [
      "\u001b[0;31m---------------------------------------------------------------------------\u001b[0m",
      "\u001b[0;31mgaierror\u001b[0m                                  Traceback (most recent call last)",
      "File \u001b[0;32m~/miniconda3/envs/banzai-floyds/lib/python3.10/site-packages/urllib3/connection.py:174\u001b[0m, in \u001b[0;36mHTTPConnection._new_conn\u001b[0;34m(self)\u001b[0m\n\u001b[1;32m    173\u001b[0m \u001b[38;5;28;01mtry\u001b[39;00m:\n\u001b[0;32m--> 174\u001b[0m     conn \u001b[38;5;241m=\u001b[39m \u001b[43mconnection\u001b[49m\u001b[38;5;241;43m.\u001b[39;49m\u001b[43mcreate_connection\u001b[49m\u001b[43m(\u001b[49m\n\u001b[1;32m    175\u001b[0m \u001b[43m        \u001b[49m\u001b[43m(\u001b[49m\u001b[38;5;28;43mself\u001b[39;49m\u001b[38;5;241;43m.\u001b[39;49m\u001b[43m_dns_host\u001b[49m\u001b[43m,\u001b[49m\u001b[43m \u001b[49m\u001b[38;5;28;43mself\u001b[39;49m\u001b[38;5;241;43m.\u001b[39;49m\u001b[43mport\u001b[49m\u001b[43m)\u001b[49m\u001b[43m,\u001b[49m\u001b[43m \u001b[49m\u001b[38;5;28;43mself\u001b[39;49m\u001b[38;5;241;43m.\u001b[39;49m\u001b[43mtimeout\u001b[49m\u001b[43m,\u001b[49m\u001b[43m \u001b[49m\u001b[38;5;241;43m*\u001b[39;49m\u001b[38;5;241;43m*\u001b[39;49m\u001b[43mextra_kw\u001b[49m\n\u001b[1;32m    176\u001b[0m \u001b[43m    \u001b[49m\u001b[43m)\u001b[49m\n\u001b[1;32m    178\u001b[0m \u001b[38;5;28;01mexcept\u001b[39;00m SocketTimeout:\n",
      "File \u001b[0;32m~/miniconda3/envs/banzai-floyds/lib/python3.10/site-packages/urllib3/util/connection.py:72\u001b[0m, in \u001b[0;36mcreate_connection\u001b[0;34m(address, timeout, source_address, socket_options)\u001b[0m\n\u001b[1;32m     68\u001b[0m     \u001b[38;5;28;01mreturn\u001b[39;00m six\u001b[38;5;241m.\u001b[39mraise_from(\n\u001b[1;32m     69\u001b[0m         LocationParseError(\u001b[38;5;124mu\u001b[39m\u001b[38;5;124m\"\u001b[39m\u001b[38;5;124m'\u001b[39m\u001b[38;5;132;01m%s\u001b[39;00m\u001b[38;5;124m'\u001b[39m\u001b[38;5;124m, label empty or too long\u001b[39m\u001b[38;5;124m\"\u001b[39m \u001b[38;5;241m%\u001b[39m host), \u001b[38;5;28;01mNone\u001b[39;00m\n\u001b[1;32m     70\u001b[0m     )\n\u001b[0;32m---> 72\u001b[0m \u001b[38;5;28;01mfor\u001b[39;00m res \u001b[38;5;129;01min\u001b[39;00m \u001b[43msocket\u001b[49m\u001b[38;5;241;43m.\u001b[39;49m\u001b[43mgetaddrinfo\u001b[49m\u001b[43m(\u001b[49m\u001b[43mhost\u001b[49m\u001b[43m,\u001b[49m\u001b[43m \u001b[49m\u001b[43mport\u001b[49m\u001b[43m,\u001b[49m\u001b[43m \u001b[49m\u001b[43mfamily\u001b[49m\u001b[43m,\u001b[49m\u001b[43m \u001b[49m\u001b[43msocket\u001b[49m\u001b[38;5;241;43m.\u001b[39;49m\u001b[43mSOCK_STREAM\u001b[49m\u001b[43m)\u001b[49m:\n\u001b[1;32m     73\u001b[0m     af, socktype, proto, canonname, sa \u001b[38;5;241m=\u001b[39m res\n",
      "File \u001b[0;32m~/miniconda3/envs/banzai-floyds/lib/python3.10/socket.py:955\u001b[0m, in \u001b[0;36mgetaddrinfo\u001b[0;34m(host, port, family, type, proto, flags)\u001b[0m\n\u001b[1;32m    954\u001b[0m addrlist \u001b[38;5;241m=\u001b[39m []\n\u001b[0;32m--> 955\u001b[0m \u001b[38;5;28;01mfor\u001b[39;00m res \u001b[38;5;129;01min\u001b[39;00m \u001b[43m_socket\u001b[49m\u001b[38;5;241;43m.\u001b[39;49m\u001b[43mgetaddrinfo\u001b[49m\u001b[43m(\u001b[49m\u001b[43mhost\u001b[49m\u001b[43m,\u001b[49m\u001b[43m \u001b[49m\u001b[43mport\u001b[49m\u001b[43m,\u001b[49m\u001b[43m \u001b[49m\u001b[43mfamily\u001b[49m\u001b[43m,\u001b[49m\u001b[43m \u001b[49m\u001b[38;5;28;43mtype\u001b[39;49m\u001b[43m,\u001b[49m\u001b[43m \u001b[49m\u001b[43mproto\u001b[49m\u001b[43m,\u001b[49m\u001b[43m \u001b[49m\u001b[43mflags\u001b[49m\u001b[43m)\u001b[49m:\n\u001b[1;32m    956\u001b[0m     af, socktype, proto, canonname, sa \u001b[38;5;241m=\u001b[39m res\n",
      "\u001b[0;31mgaierror\u001b[0m: [Errno 8] nodename nor servname provided, or not known",
      "\nDuring handling of the above exception, another exception occurred:\n",
      "\u001b[0;31mNewConnectionError\u001b[0m                        Traceback (most recent call last)",
      "File \u001b[0;32m~/miniconda3/envs/banzai-floyds/lib/python3.10/site-packages/urllib3/connectionpool.py:703\u001b[0m, in \u001b[0;36mHTTPConnectionPool.urlopen\u001b[0;34m(self, method, url, body, headers, retries, redirect, assert_same_host, timeout, pool_timeout, release_conn, chunked, body_pos, **response_kw)\u001b[0m\n\u001b[1;32m    702\u001b[0m \u001b[38;5;66;03m# Make the request on the httplib connection object.\u001b[39;00m\n\u001b[0;32m--> 703\u001b[0m httplib_response \u001b[38;5;241m=\u001b[39m \u001b[38;5;28;43mself\u001b[39;49m\u001b[38;5;241;43m.\u001b[39;49m\u001b[43m_make_request\u001b[49m\u001b[43m(\u001b[49m\n\u001b[1;32m    704\u001b[0m \u001b[43m    \u001b[49m\u001b[43mconn\u001b[49m\u001b[43m,\u001b[49m\n\u001b[1;32m    705\u001b[0m \u001b[43m    \u001b[49m\u001b[43mmethod\u001b[49m\u001b[43m,\u001b[49m\n\u001b[1;32m    706\u001b[0m \u001b[43m    \u001b[49m\u001b[43murl\u001b[49m\u001b[43m,\u001b[49m\n\u001b[1;32m    707\u001b[0m \u001b[43m    \u001b[49m\u001b[43mtimeout\u001b[49m\u001b[38;5;241;43m=\u001b[39;49m\u001b[43mtimeout_obj\u001b[49m\u001b[43m,\u001b[49m\n\u001b[1;32m    708\u001b[0m \u001b[43m    \u001b[49m\u001b[43mbody\u001b[49m\u001b[38;5;241;43m=\u001b[39;49m\u001b[43mbody\u001b[49m\u001b[43m,\u001b[49m\n\u001b[1;32m    709\u001b[0m \u001b[43m    \u001b[49m\u001b[43mheaders\u001b[49m\u001b[38;5;241;43m=\u001b[39;49m\u001b[43mheaders\u001b[49m\u001b[43m,\u001b[49m\n\u001b[1;32m    710\u001b[0m \u001b[43m    \u001b[49m\u001b[43mchunked\u001b[49m\u001b[38;5;241;43m=\u001b[39;49m\u001b[43mchunked\u001b[49m\u001b[43m,\u001b[49m\n\u001b[1;32m    711\u001b[0m \u001b[43m\u001b[49m\u001b[43m)\u001b[49m\n\u001b[1;32m    713\u001b[0m \u001b[38;5;66;03m# If we're going to release the connection in ``finally:``, then\u001b[39;00m\n\u001b[1;32m    714\u001b[0m \u001b[38;5;66;03m# the response doesn't need to know about the connection. Otherwise\u001b[39;00m\n\u001b[1;32m    715\u001b[0m \u001b[38;5;66;03m# it will also try to release it and we'll have a double-release\u001b[39;00m\n\u001b[1;32m    716\u001b[0m \u001b[38;5;66;03m# mess.\u001b[39;00m\n",
      "File \u001b[0;32m~/miniconda3/envs/banzai-floyds/lib/python3.10/site-packages/urllib3/connectionpool.py:386\u001b[0m, in \u001b[0;36mHTTPConnectionPool._make_request\u001b[0;34m(self, conn, method, url, timeout, chunked, **httplib_request_kw)\u001b[0m\n\u001b[1;32m    385\u001b[0m \u001b[38;5;28;01mtry\u001b[39;00m:\n\u001b[0;32m--> 386\u001b[0m     \u001b[38;5;28;43mself\u001b[39;49m\u001b[38;5;241;43m.\u001b[39;49m\u001b[43m_validate_conn\u001b[49m\u001b[43m(\u001b[49m\u001b[43mconn\u001b[49m\u001b[43m)\u001b[49m\n\u001b[1;32m    387\u001b[0m \u001b[38;5;28;01mexcept\u001b[39;00m (SocketTimeout, BaseSSLError) \u001b[38;5;28;01mas\u001b[39;00m e:\n\u001b[1;32m    388\u001b[0m     \u001b[38;5;66;03m# Py2 raises this as a BaseSSLError, Py3 raises it as socket timeout.\u001b[39;00m\n",
      "File \u001b[0;32m~/miniconda3/envs/banzai-floyds/lib/python3.10/site-packages/urllib3/connectionpool.py:1042\u001b[0m, in \u001b[0;36mHTTPSConnectionPool._validate_conn\u001b[0;34m(self, conn)\u001b[0m\n\u001b[1;32m   1041\u001b[0m \u001b[38;5;28;01mif\u001b[39;00m \u001b[38;5;129;01mnot\u001b[39;00m \u001b[38;5;28mgetattr\u001b[39m(conn, \u001b[38;5;124m\"\u001b[39m\u001b[38;5;124msock\u001b[39m\u001b[38;5;124m\"\u001b[39m, \u001b[38;5;28;01mNone\u001b[39;00m):  \u001b[38;5;66;03m# AppEngine might not have  `.sock`\u001b[39;00m\n\u001b[0;32m-> 1042\u001b[0m     \u001b[43mconn\u001b[49m\u001b[38;5;241;43m.\u001b[39;49m\u001b[43mconnect\u001b[49m\u001b[43m(\u001b[49m\u001b[43m)\u001b[49m\n\u001b[1;32m   1044\u001b[0m \u001b[38;5;28;01mif\u001b[39;00m \u001b[38;5;129;01mnot\u001b[39;00m conn\u001b[38;5;241m.\u001b[39mis_verified:\n",
      "File \u001b[0;32m~/miniconda3/envs/banzai-floyds/lib/python3.10/site-packages/urllib3/connection.py:358\u001b[0m, in \u001b[0;36mHTTPSConnection.connect\u001b[0;34m(self)\u001b[0m\n\u001b[1;32m    356\u001b[0m \u001b[38;5;28;01mdef\u001b[39;00m \u001b[38;5;21mconnect\u001b[39m(\u001b[38;5;28mself\u001b[39m):\n\u001b[1;32m    357\u001b[0m     \u001b[38;5;66;03m# Add certificate verification\u001b[39;00m\n\u001b[0;32m--> 358\u001b[0m     \u001b[38;5;28mself\u001b[39m\u001b[38;5;241m.\u001b[39msock \u001b[38;5;241m=\u001b[39m conn \u001b[38;5;241m=\u001b[39m \u001b[38;5;28;43mself\u001b[39;49m\u001b[38;5;241;43m.\u001b[39;49m\u001b[43m_new_conn\u001b[49m\u001b[43m(\u001b[49m\u001b[43m)\u001b[49m\n\u001b[1;32m    359\u001b[0m     hostname \u001b[38;5;241m=\u001b[39m \u001b[38;5;28mself\u001b[39m\u001b[38;5;241m.\u001b[39mhost\n",
      "File \u001b[0;32m~/miniconda3/envs/banzai-floyds/lib/python3.10/site-packages/urllib3/connection.py:186\u001b[0m, in \u001b[0;36mHTTPConnection._new_conn\u001b[0;34m(self)\u001b[0m\n\u001b[1;32m    185\u001b[0m \u001b[38;5;28;01mexcept\u001b[39;00m SocketError \u001b[38;5;28;01mas\u001b[39;00m e:\n\u001b[0;32m--> 186\u001b[0m     \u001b[38;5;28;01mraise\u001b[39;00m NewConnectionError(\n\u001b[1;32m    187\u001b[0m         \u001b[38;5;28mself\u001b[39m, \u001b[38;5;124m\"\u001b[39m\u001b[38;5;124mFailed to establish a new connection: \u001b[39m\u001b[38;5;132;01m%s\u001b[39;00m\u001b[38;5;124m\"\u001b[39m \u001b[38;5;241m%\u001b[39m e\n\u001b[1;32m    188\u001b[0m     )\n\u001b[1;32m    190\u001b[0m \u001b[38;5;28;01mreturn\u001b[39;00m conn\n",
      "\u001b[0;31mNewConnectionError\u001b[0m: <urllib3.connection.HTTPSConnection object at 0x163eab7c0>: Failed to establish a new connection: [Errno 8] nodename nor servname provided, or not known",
      "\nDuring handling of the above exception, another exception occurred:\n",
      "\u001b[0;31mMaxRetryError\u001b[0m                             Traceback (most recent call last)",
      "File \u001b[0;32m~/miniconda3/envs/banzai-floyds/lib/python3.10/site-packages/requests/adapters.py:439\u001b[0m, in \u001b[0;36mHTTPAdapter.send\u001b[0;34m(self, request, stream, timeout, verify, cert, proxies)\u001b[0m\n\u001b[1;32m    438\u001b[0m \u001b[38;5;28;01mif\u001b[39;00m \u001b[38;5;129;01mnot\u001b[39;00m chunked:\n\u001b[0;32m--> 439\u001b[0m     resp \u001b[38;5;241m=\u001b[39m \u001b[43mconn\u001b[49m\u001b[38;5;241;43m.\u001b[39;49m\u001b[43murlopen\u001b[49m\u001b[43m(\u001b[49m\n\u001b[1;32m    440\u001b[0m \u001b[43m        \u001b[49m\u001b[43mmethod\u001b[49m\u001b[38;5;241;43m=\u001b[39;49m\u001b[43mrequest\u001b[49m\u001b[38;5;241;43m.\u001b[39;49m\u001b[43mmethod\u001b[49m\u001b[43m,\u001b[49m\n\u001b[1;32m    441\u001b[0m \u001b[43m        \u001b[49m\u001b[43murl\u001b[49m\u001b[38;5;241;43m=\u001b[39;49m\u001b[43murl\u001b[49m\u001b[43m,\u001b[49m\n\u001b[1;32m    442\u001b[0m \u001b[43m        \u001b[49m\u001b[43mbody\u001b[49m\u001b[38;5;241;43m=\u001b[39;49m\u001b[43mrequest\u001b[49m\u001b[38;5;241;43m.\u001b[39;49m\u001b[43mbody\u001b[49m\u001b[43m,\u001b[49m\n\u001b[1;32m    443\u001b[0m \u001b[43m        \u001b[49m\u001b[43mheaders\u001b[49m\u001b[38;5;241;43m=\u001b[39;49m\u001b[43mrequest\u001b[49m\u001b[38;5;241;43m.\u001b[39;49m\u001b[43mheaders\u001b[49m\u001b[43m,\u001b[49m\n\u001b[1;32m    444\u001b[0m \u001b[43m        \u001b[49m\u001b[43mredirect\u001b[49m\u001b[38;5;241;43m=\u001b[39;49m\u001b[38;5;28;43;01mFalse\u001b[39;49;00m\u001b[43m,\u001b[49m\n\u001b[1;32m    445\u001b[0m \u001b[43m        \u001b[49m\u001b[43massert_same_host\u001b[49m\u001b[38;5;241;43m=\u001b[39;49m\u001b[38;5;28;43;01mFalse\u001b[39;49;00m\u001b[43m,\u001b[49m\n\u001b[1;32m    446\u001b[0m \u001b[43m        \u001b[49m\u001b[43mpreload_content\u001b[49m\u001b[38;5;241;43m=\u001b[39;49m\u001b[38;5;28;43;01mFalse\u001b[39;49;00m\u001b[43m,\u001b[49m\n\u001b[1;32m    447\u001b[0m \u001b[43m        \u001b[49m\u001b[43mdecode_content\u001b[49m\u001b[38;5;241;43m=\u001b[39;49m\u001b[38;5;28;43;01mFalse\u001b[39;49;00m\u001b[43m,\u001b[49m\n\u001b[1;32m    448\u001b[0m \u001b[43m        \u001b[49m\u001b[43mretries\u001b[49m\u001b[38;5;241;43m=\u001b[39;49m\u001b[38;5;28;43mself\u001b[39;49m\u001b[38;5;241;43m.\u001b[39;49m\u001b[43mmax_retries\u001b[49m\u001b[43m,\u001b[49m\n\u001b[1;32m    449\u001b[0m \u001b[43m        \u001b[49m\u001b[43mtimeout\u001b[49m\u001b[38;5;241;43m=\u001b[39;49m\u001b[43mtimeout\u001b[49m\n\u001b[1;32m    450\u001b[0m \u001b[43m    \u001b[49m\u001b[43m)\u001b[49m\n\u001b[1;32m    452\u001b[0m \u001b[38;5;66;03m# Send the request.\u001b[39;00m\n\u001b[1;32m    453\u001b[0m \u001b[38;5;28;01melse\u001b[39;00m:\n",
      "File \u001b[0;32m~/miniconda3/envs/banzai-floyds/lib/python3.10/site-packages/urllib3/connectionpool.py:787\u001b[0m, in \u001b[0;36mHTTPConnectionPool.urlopen\u001b[0;34m(self, method, url, body, headers, retries, redirect, assert_same_host, timeout, pool_timeout, release_conn, chunked, body_pos, **response_kw)\u001b[0m\n\u001b[1;32m    785\u001b[0m     e \u001b[38;5;241m=\u001b[39m ProtocolError(\u001b[38;5;124m\"\u001b[39m\u001b[38;5;124mConnection aborted.\u001b[39m\u001b[38;5;124m\"\u001b[39m, e)\n\u001b[0;32m--> 787\u001b[0m retries \u001b[38;5;241m=\u001b[39m \u001b[43mretries\u001b[49m\u001b[38;5;241;43m.\u001b[39;49m\u001b[43mincrement\u001b[49m\u001b[43m(\u001b[49m\n\u001b[1;32m    788\u001b[0m \u001b[43m    \u001b[49m\u001b[43mmethod\u001b[49m\u001b[43m,\u001b[49m\u001b[43m \u001b[49m\u001b[43murl\u001b[49m\u001b[43m,\u001b[49m\u001b[43m \u001b[49m\u001b[43merror\u001b[49m\u001b[38;5;241;43m=\u001b[39;49m\u001b[43me\u001b[49m\u001b[43m,\u001b[49m\u001b[43m \u001b[49m\u001b[43m_pool\u001b[49m\u001b[38;5;241;43m=\u001b[39;49m\u001b[38;5;28;43mself\u001b[39;49m\u001b[43m,\u001b[49m\u001b[43m \u001b[49m\u001b[43m_stacktrace\u001b[49m\u001b[38;5;241;43m=\u001b[39;49m\u001b[43msys\u001b[49m\u001b[38;5;241;43m.\u001b[39;49m\u001b[43mexc_info\u001b[49m\u001b[43m(\u001b[49m\u001b[43m)\u001b[49m\u001b[43m[\u001b[49m\u001b[38;5;241;43m2\u001b[39;49m\u001b[43m]\u001b[49m\n\u001b[1;32m    789\u001b[0m \u001b[43m\u001b[49m\u001b[43m)\u001b[49m\n\u001b[1;32m    790\u001b[0m retries\u001b[38;5;241m.\u001b[39msleep()\n",
      "File \u001b[0;32m~/miniconda3/envs/banzai-floyds/lib/python3.10/site-packages/urllib3/util/retry.py:592\u001b[0m, in \u001b[0;36mRetry.increment\u001b[0;34m(self, method, url, response, error, _pool, _stacktrace)\u001b[0m\n\u001b[1;32m    591\u001b[0m \u001b[38;5;28;01mif\u001b[39;00m new_retry\u001b[38;5;241m.\u001b[39mis_exhausted():\n\u001b[0;32m--> 592\u001b[0m     \u001b[38;5;28;01mraise\u001b[39;00m MaxRetryError(_pool, url, error \u001b[38;5;129;01mor\u001b[39;00m ResponseError(cause))\n\u001b[1;32m    594\u001b[0m log\u001b[38;5;241m.\u001b[39mdebug(\u001b[38;5;124m\"\u001b[39m\u001b[38;5;124mIncremented Retry for (url=\u001b[39m\u001b[38;5;124m'\u001b[39m\u001b[38;5;132;01m%s\u001b[39;00m\u001b[38;5;124m'\u001b[39m\u001b[38;5;124m): \u001b[39m\u001b[38;5;132;01m%r\u001b[39;00m\u001b[38;5;124m\"\u001b[39m, url, new_retry)\n",
      "\u001b[0;31mMaxRetryError\u001b[0m: HTTPSConnectionPool(host='archive-api.lco.global', port=443): Max retries exceeded with url: /frames/33852323 (Caused by NewConnectionError('<urllib3.connection.HTTPSConnection object at 0x163eab7c0>: Failed to establish a new connection: [Errno 8] nodename nor servname provided, or not known'))",
      "\nDuring handling of the above exception, another exception occurred:\n",
      "\u001b[0;31mConnectionError\u001b[0m                           Traceback (most recent call last)",
      "Cell \u001b[0;32mIn[6], line 3\u001b[0m\n\u001b[1;32m      1\u001b[0m \u001b[38;5;28;01mfor\u001b[39;00m row \u001b[38;5;129;01min\u001b[39;00m test_data:\n\u001b[1;32m      2\u001b[0m     \u001b[38;5;28;01mif\u001b[39;00m \u001b[38;5;124m'\u001b[39m\u001b[38;5;124me00.fits\u001b[39m\u001b[38;5;124m'\u001b[39m \u001b[38;5;129;01min\u001b[39;00m row[\u001b[38;5;124m'\u001b[39m\u001b[38;5;124mfilename\u001b[39m\u001b[38;5;124m'\u001b[39m]:\n\u001b[0;32m----> 3\u001b[0m         archive_record \u001b[38;5;241m=\u001b[39m \u001b[43mrequests\u001b[49m\u001b[38;5;241;43m.\u001b[39;49m\u001b[43mget\u001b[49m\u001b[43m(\u001b[49m\u001b[38;5;124;43mf\u001b[39;49m\u001b[38;5;124;43m'\u001b[39;49m\u001b[38;5;132;43;01m{\u001b[39;49;00m\u001b[43mcontext\u001b[49m\u001b[38;5;241;43m.\u001b[39;49m\u001b[43mARCHIVE_FRAME_URL\u001b[49m\u001b[38;5;132;43;01m}\u001b[39;49;00m\u001b[38;5;124;43m/\u001b[39;49m\u001b[38;5;132;43;01m{\u001b[39;49;00m\u001b[43mrow\u001b[49m\u001b[43m[\u001b[49m\u001b[38;5;124;43m\"\u001b[39;49m\u001b[38;5;124;43mframeid\u001b[39;49m\u001b[38;5;124;43m\"\u001b[39;49m\u001b[43m]\u001b[49m\u001b[38;5;132;43;01m}\u001b[39;49;00m\u001b[38;5;124;43m'\u001b[39;49m\u001b[43m)\u001b[49m\u001b[38;5;241m.\u001b[39mjson()\n\u001b[1;32m      4\u001b[0m         archive_record[\u001b[38;5;124m'\u001b[39m\u001b[38;5;124mframeid\u001b[39m\u001b[38;5;124m'\u001b[39m] \u001b[38;5;241m=\u001b[39m archive_record[\u001b[38;5;124m'\u001b[39m\u001b[38;5;124mid\u001b[39m\u001b[38;5;124m'\u001b[39m]\n\u001b[1;32m      5\u001b[0m         run_pipeline_stages([archive_record], context)\n",
      "File \u001b[0;32m~/miniconda3/envs/banzai-floyds/lib/python3.10/site-packages/requests/api.py:75\u001b[0m, in \u001b[0;36mget\u001b[0;34m(url, params, **kwargs)\u001b[0m\n\u001b[1;32m     64\u001b[0m \u001b[38;5;28;01mdef\u001b[39;00m \u001b[38;5;21mget\u001b[39m(url, params\u001b[38;5;241m=\u001b[39m\u001b[38;5;28;01mNone\u001b[39;00m, \u001b[38;5;241m*\u001b[39m\u001b[38;5;241m*\u001b[39mkwargs):\n\u001b[1;32m     65\u001b[0m     \u001b[38;5;124mr\u001b[39m\u001b[38;5;124;03m\"\"\"Sends a GET request.\u001b[39;00m\n\u001b[1;32m     66\u001b[0m \n\u001b[1;32m     67\u001b[0m \u001b[38;5;124;03m    :param url: URL for the new :class:`Request` object.\u001b[39;00m\n\u001b[0;32m   (...)\u001b[0m\n\u001b[1;32m     72\u001b[0m \u001b[38;5;124;03m    :rtype: requests.Response\u001b[39;00m\n\u001b[1;32m     73\u001b[0m \u001b[38;5;124;03m    \"\"\"\u001b[39;00m\n\u001b[0;32m---> 75\u001b[0m     \u001b[38;5;28;01mreturn\u001b[39;00m \u001b[43mrequest\u001b[49m\u001b[43m(\u001b[49m\u001b[38;5;124;43m'\u001b[39;49m\u001b[38;5;124;43mget\u001b[39;49m\u001b[38;5;124;43m'\u001b[39;49m\u001b[43m,\u001b[49m\u001b[43m \u001b[49m\u001b[43murl\u001b[49m\u001b[43m,\u001b[49m\u001b[43m \u001b[49m\u001b[43mparams\u001b[49m\u001b[38;5;241;43m=\u001b[39;49m\u001b[43mparams\u001b[49m\u001b[43m,\u001b[49m\u001b[43m \u001b[49m\u001b[38;5;241;43m*\u001b[39;49m\u001b[38;5;241;43m*\u001b[39;49m\u001b[43mkwargs\u001b[49m\u001b[43m)\u001b[49m\n",
      "File \u001b[0;32m~/miniconda3/envs/banzai-floyds/lib/python3.10/site-packages/requests/api.py:61\u001b[0m, in \u001b[0;36mrequest\u001b[0;34m(method, url, **kwargs)\u001b[0m\n\u001b[1;32m     57\u001b[0m \u001b[38;5;66;03m# By using the 'with' statement we are sure the session is closed, thus we\u001b[39;00m\n\u001b[1;32m     58\u001b[0m \u001b[38;5;66;03m# avoid leaving sockets open which can trigger a ResourceWarning in some\u001b[39;00m\n\u001b[1;32m     59\u001b[0m \u001b[38;5;66;03m# cases, and look like a memory leak in others.\u001b[39;00m\n\u001b[1;32m     60\u001b[0m \u001b[38;5;28;01mwith\u001b[39;00m sessions\u001b[38;5;241m.\u001b[39mSession() \u001b[38;5;28;01mas\u001b[39;00m session:\n\u001b[0;32m---> 61\u001b[0m     \u001b[38;5;28;01mreturn\u001b[39;00m \u001b[43msession\u001b[49m\u001b[38;5;241;43m.\u001b[39;49m\u001b[43mrequest\u001b[49m\u001b[43m(\u001b[49m\u001b[43mmethod\u001b[49m\u001b[38;5;241;43m=\u001b[39;49m\u001b[43mmethod\u001b[49m\u001b[43m,\u001b[49m\u001b[43m \u001b[49m\u001b[43murl\u001b[49m\u001b[38;5;241;43m=\u001b[39;49m\u001b[43murl\u001b[49m\u001b[43m,\u001b[49m\u001b[43m \u001b[49m\u001b[38;5;241;43m*\u001b[39;49m\u001b[38;5;241;43m*\u001b[39;49m\u001b[43mkwargs\u001b[49m\u001b[43m)\u001b[49m\n",
      "File \u001b[0;32m~/miniconda3/envs/banzai-floyds/lib/python3.10/site-packages/requests/sessions.py:542\u001b[0m, in \u001b[0;36mSession.request\u001b[0;34m(self, method, url, params, data, headers, cookies, files, auth, timeout, allow_redirects, proxies, hooks, stream, verify, cert, json)\u001b[0m\n\u001b[1;32m    537\u001b[0m send_kwargs \u001b[38;5;241m=\u001b[39m {\n\u001b[1;32m    538\u001b[0m     \u001b[38;5;124m'\u001b[39m\u001b[38;5;124mtimeout\u001b[39m\u001b[38;5;124m'\u001b[39m: timeout,\n\u001b[1;32m    539\u001b[0m     \u001b[38;5;124m'\u001b[39m\u001b[38;5;124mallow_redirects\u001b[39m\u001b[38;5;124m'\u001b[39m: allow_redirects,\n\u001b[1;32m    540\u001b[0m }\n\u001b[1;32m    541\u001b[0m send_kwargs\u001b[38;5;241m.\u001b[39mupdate(settings)\n\u001b[0;32m--> 542\u001b[0m resp \u001b[38;5;241m=\u001b[39m \u001b[38;5;28;43mself\u001b[39;49m\u001b[38;5;241;43m.\u001b[39;49m\u001b[43msend\u001b[49m\u001b[43m(\u001b[49m\u001b[43mprep\u001b[49m\u001b[43m,\u001b[49m\u001b[43m \u001b[49m\u001b[38;5;241;43m*\u001b[39;49m\u001b[38;5;241;43m*\u001b[39;49m\u001b[43msend_kwargs\u001b[49m\u001b[43m)\u001b[49m\n\u001b[1;32m    544\u001b[0m \u001b[38;5;28;01mreturn\u001b[39;00m resp\n",
      "File \u001b[0;32m~/miniconda3/envs/banzai-floyds/lib/python3.10/site-packages/requests/sessions.py:655\u001b[0m, in \u001b[0;36mSession.send\u001b[0;34m(self, request, **kwargs)\u001b[0m\n\u001b[1;32m    652\u001b[0m start \u001b[38;5;241m=\u001b[39m preferred_clock()\n\u001b[1;32m    654\u001b[0m \u001b[38;5;66;03m# Send the request\u001b[39;00m\n\u001b[0;32m--> 655\u001b[0m r \u001b[38;5;241m=\u001b[39m \u001b[43madapter\u001b[49m\u001b[38;5;241;43m.\u001b[39;49m\u001b[43msend\u001b[49m\u001b[43m(\u001b[49m\u001b[43mrequest\u001b[49m\u001b[43m,\u001b[49m\u001b[43m \u001b[49m\u001b[38;5;241;43m*\u001b[39;49m\u001b[38;5;241;43m*\u001b[39;49m\u001b[43mkwargs\u001b[49m\u001b[43m)\u001b[49m\n\u001b[1;32m    657\u001b[0m \u001b[38;5;66;03m# Total elapsed time of the request (approximately)\u001b[39;00m\n\u001b[1;32m    658\u001b[0m elapsed \u001b[38;5;241m=\u001b[39m preferred_clock() \u001b[38;5;241m-\u001b[39m start\n",
      "File \u001b[0;32m~/miniconda3/envs/banzai-floyds/lib/python3.10/site-packages/requests/adapters.py:516\u001b[0m, in \u001b[0;36mHTTPAdapter.send\u001b[0;34m(self, request, stream, timeout, verify, cert, proxies)\u001b[0m\n\u001b[1;32m    512\u001b[0m     \u001b[38;5;28;01mif\u001b[39;00m \u001b[38;5;28misinstance\u001b[39m(e\u001b[38;5;241m.\u001b[39mreason, _SSLError):\n\u001b[1;32m    513\u001b[0m         \u001b[38;5;66;03m# This branch is for urllib3 v1.22 and later.\u001b[39;00m\n\u001b[1;32m    514\u001b[0m         \u001b[38;5;28;01mraise\u001b[39;00m SSLError(e, request\u001b[38;5;241m=\u001b[39mrequest)\n\u001b[0;32m--> 516\u001b[0m     \u001b[38;5;28;01mraise\u001b[39;00m \u001b[38;5;167;01mConnectionError\u001b[39;00m(e, request\u001b[38;5;241m=\u001b[39mrequest)\n\u001b[1;32m    518\u001b[0m \u001b[38;5;28;01mexcept\u001b[39;00m ClosedPoolError \u001b[38;5;28;01mas\u001b[39;00m e:\n\u001b[1;32m    519\u001b[0m     \u001b[38;5;28;01mraise\u001b[39;00m \u001b[38;5;167;01mConnectionError\u001b[39;00m(e, request\u001b[38;5;241m=\u001b[39mrequest)\n",
      "\u001b[0;31mConnectionError\u001b[0m: HTTPSConnectionPool(host='archive-api.lco.global', port=443): Max retries exceeded with url: /frames/33852323 (Caused by NewConnectionError('<urllib3.connection.HTTPSConnection object at 0x163eab7c0>: Failed to establish a new connection: [Errno 8] nodename nor servname provided, or not known'))"
     ]
    }
   ],
   "source": [
    "for row in test_data:\n",
    "    if 'e00.fits' in row['filename']:\n",
    "        archive_record = requests.get(f'{context.ARCHIVE_FRAME_URL}/{row[\"frameid\"]}').json()\n",
    "        archive_record['frameid'] = archive_record['id']\n",
    "        run_pipeline_stages([archive_record], context)"
   ]
  },
  {
   "cell_type": "code",
   "execution_count": 7,
   "id": "23cdadf2",
   "metadata": {},
   "outputs": [
    {
     "name": "stdout",
     "output_type": "stream",
     "text": [
      "> \u001b[0;32m/Users/cmccully/miniconda3/envs/banzai-floyds/lib/python3.10/site-packages/requests/adapters.py\u001b[0m(516)\u001b[0;36msend\u001b[0;34m()\u001b[0m\n",
      "\u001b[0;32m    514 \u001b[0;31m                \u001b[0;32mraise\u001b[0m \u001b[0mSSLError\u001b[0m\u001b[0;34m(\u001b[0m\u001b[0me\u001b[0m\u001b[0;34m,\u001b[0m \u001b[0mrequest\u001b[0m\u001b[0;34m=\u001b[0m\u001b[0mrequest\u001b[0m\u001b[0;34m)\u001b[0m\u001b[0;34m\u001b[0m\u001b[0;34m\u001b[0m\u001b[0m\n",
      "\u001b[0m\u001b[0;32m    515 \u001b[0;31m\u001b[0;34m\u001b[0m\u001b[0m\n",
      "\u001b[0m\u001b[0;32m--> 516 \u001b[0;31m            \u001b[0;32mraise\u001b[0m \u001b[0mConnectionError\u001b[0m\u001b[0;34m(\u001b[0m\u001b[0me\u001b[0m\u001b[0;34m,\u001b[0m \u001b[0mrequest\u001b[0m\u001b[0;34m=\u001b[0m\u001b[0mrequest\u001b[0m\u001b[0;34m)\u001b[0m\u001b[0;34m\u001b[0m\u001b[0;34m\u001b[0m\u001b[0m\n",
      "\u001b[0m\u001b[0;32m    517 \u001b[0;31m\u001b[0;34m\u001b[0m\u001b[0m\n",
      "\u001b[0m\u001b[0;32m    518 \u001b[0;31m        \u001b[0;32mexcept\u001b[0m \u001b[0mClosedPoolError\u001b[0m \u001b[0;32mas\u001b[0m \u001b[0me\u001b[0m\u001b[0;34m:\u001b[0m\u001b[0;34m\u001b[0m\u001b[0;34m\u001b[0m\u001b[0m\n",
      "\u001b[0m\n"
     ]
    },
    {
     "name": "stdin",
     "output_type": "stream",
     "text": [
      "ipdb>  u/\n"
     ]
    },
    {
     "name": "stdout",
     "output_type": "stream",
     "text": [
      "*** Invalid frame count (/)\n"
     ]
    },
    {
     "name": "stdin",
     "output_type": "stream",
     "text": [
      "ipdb>  q\n"
     ]
    }
   ],
   "source": [
    "%debug"
   ]
  },
  {
   "cell_type": "code",
   "execution_count": 11,
   "id": "9cbde2a0-e966-4f85-afc1-a30aadd7b98c",
   "metadata": {},
   "outputs": [],
   "source": [
    "from astropy.io import fits"
   ]
  },
  {
   "cell_type": "code",
   "execution_count": 13,
   "id": "5ea3fd2a-70da-4c29-98e3-6b35d918187d",
   "metadata": {},
   "outputs": [
    {
     "data": {
      "text/plain": []
     },
     "execution_count": 13,
     "metadata": {},
     "output_type": "execute_result"
    }
   ],
   "source": [
    "h = fits.Header({'foo': 'bar'})\n",
    "h.pop('foo')\n",
    "h"
   ]
  },
  {
   "cell_type": "code",
   "execution_count": null,
   "id": "37dc0b4f-80d2-484e-bc83-058d6981db69",
   "metadata": {},
   "outputs": [],
   "source": []
  }
 ],
 "metadata": {
  "kernelspec": {
   "display_name": "Python 3 (ipykernel)",
   "language": "python",
   "name": "python3"
  },
  "language_info": {
   "codemirror_mode": {
    "name": "ipython",
    "version": 3
   },
   "file_extension": ".py",
   "mimetype": "text/x-python",
   "name": "python",
   "nbconvert_exporter": "python",
   "pygments_lexer": "ipython3",
   "version": "3.10.9"
  }
 },
 "nbformat": 4,
 "nbformat_minor": 5
}
